{
 "cells": [
  {
   "cell_type": "markdown",
   "metadata": {
    "ExecuteTime": {
     "end_time": "2019-09-11T06:06:46.131660Z",
     "start_time": "2019-09-11T06:06:46.127091Z"
    }
   },
   "source": [
    "# Principle Component Analysis"
   ]
  },
  {
   "cell_type": "markdown",
   "metadata": {
    "ExecuteTime": {
     "end_time": "2019-09-11T06:10:52.636555Z",
     "start_time": "2019-09-11T06:10:52.612399Z"
    }
   },
   "source": [
    "See:\n",
    "* https://en.wikipedia.org/wiki/Principal_component_analysis"
   ]
  },
  {
   "cell_type": "code",
   "execution_count": 3,
   "metadata": {
    "ExecuteTime": {
     "end_time": "2019-09-11T06:08:23.555356Z",
     "start_time": "2019-09-11T06:08:23.506001Z"
    }
   },
   "outputs": [
    {
     "name": "stdout",
     "output_type": "stream",
     "text": [
      "The autoreload extension is already loaded. To reload it, use:\n",
      "  %reload_ext autoreload\n"
     ]
    },
    {
     "data": {
      "text/html": [
       "<style>.container { width:80% !important; }</style>"
      ],
      "text/plain": [
       "<IPython.core.display.HTML object>"
      ]
     },
     "metadata": {},
     "output_type": "display_data"
    }
   ],
   "source": [
    "%run ~/.jupyter/config.ipy\n",
    "import numpy as np\n",
    "import matplotlib.pyplot as plt"
   ]
  },
  {
   "cell_type": "markdown",
   "metadata": {},
   "source": [
    "# Background"
   ]
  },
  {
   "cell_type": "markdown",
   "metadata": {},
   "source": [
    "At a high level, PCA is a method that tries to find new axes such that a few axes maximise the variance of the sample. It can be thought of as a data compression technique - we want to find the fewest numbers that contain all (or most) of the information about the data."
   ]
  },
  {
   "cell_type": "markdown",
   "metadata": {},
   "source": [
    "Lets say that we have a data vector $X$, where the $k$ columns are the features and the $n$ rows are the samples. Let's also assume that we have zero centered each of the features (the mean of each column is zero). \n",
    "\n",
    "$$ \n",
    "X = \n",
    "\\begin{bmatrix}\n",
    "x_{11} \\dots x_{1k} \\\\\n",
    "\\vdots \\ddots       \\\\\n",
    "x_{n1} \\dots x_{nk}\n",
    "\\end{bmatrix}\n",
    "$$"
   ]
  },
  {
   "cell_type": "markdown",
   "metadata": {},
   "source": [
    "We can now define the first principle component vector $p$. This is a unit vector ($\\Vert\\, p\\, \\Vert = 0$) and must have length $k$ because it is a vector in feature space. Our goal is to choose the components ($p_1 ... p_k$) of this vector in order to minimize the remaining variance.\n",
    "\n",
    "Let's define a score $t_i$,\n",
    "$$\n",
    "t_i = p \\cdot x_i\n",
    "$$\n",
    "\n",
    "that we can think of as the amount of this row that is explained by the chosen $p$. We want to chose $p$ so as to maximize,\n",
    "\n",
    "$$\n",
    "\\begin{align}\n",
    "&\\quad \\sum_{i=0}^{n} t_i^2 \\\\\n",
    "&= \\sum_{i=0}^{n} (p \\cdot x_i)^2 && \\text{or in matrix notation} \\\\\n",
    "&= \\Vert\\, Xp \\,\\Vert^2 \\\\\n",
    "&= p^T X^T X p && \\text{and because $p$ is a unit vector} \\\\\n",
    "&= \\frac{p^T X^T X p}{p^T p} \\\\\n",
    "\\end{align}\n",
    "$$\n",
    "\n",
    "This final value is a Rayleigh quotient. For a positive semi definite matrix like $X^T X$ this is known to be maximized when $p$ is the eigenvector corresponding to the largest eigenvalue."
   ]
  },
  {
   "cell_type": "markdown",
   "metadata": {},
   "source": [
    "We can compute the location of every point in this new basis. Unless the data lies on a line, there will be residuals and we can compute subsequent components from these residuals."
   ]
  }
 ],
 "metadata": {
  "kernelspec": {
   "display_name": "SageMath 8.6",
   "language": "",
   "name": "sagemath"
  },
  "language_info": {
   "codemirror_mode": {
    "name": "ipython",
    "version": 2
   },
   "file_extension": ".py",
   "mimetype": "text/x-python",
   "name": "python",
   "nbconvert_exporter": "python",
   "pygments_lexer": "ipython2",
   "version": "2.7.16"
  },
  "toc": {
   "base_numbering": 1,
   "nav_menu": {},
   "number_sections": true,
   "sideBar": true,
   "skip_h1_title": false,
   "title_cell": "Table of Contents",
   "title_sidebar": "Contents",
   "toc_cell": false,
   "toc_position": {},
   "toc_section_display": true,
   "toc_window_display": false
  }
 },
 "nbformat": 4,
 "nbformat_minor": 2
}
