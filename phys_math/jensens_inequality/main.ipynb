{
 "cells": [
  {
   "cell_type": "markdown",
   "metadata": {},
   "source": [
    "# Jensen's inequality"
   ]
  },
  {
   "cell_type": "markdown",
   "metadata": {},
   "source": [
    "Why do we care? Primarily because it is important to Nassim Taleb's Antifragile.\n",
    "\n",
    "See:\n",
    "* https://www.probabilitycourse.com/chapter6/6_2_5_jensen's_inequality.php\n",
    "* https://brilliant.org/wiki/jensens-inequality/"
   ]
  },
  {
   "cell_type": "markdown",
   "metadata": {},
   "source": [
    "# Concave vs Convex"
   ]
  },
  {
   "cell_type": "markdown",
   "metadata": {},
   "source": [
    "* Concave - curve downwards. **If you are in a concave function you can't see the sky**\n",
    "* Convex - curve upwards\n",
    "\n",
    "![](concave_convex.png)\n",
    "\n",
    "Concavity/Convexity is determined by the second derivative. If:\n",
    "\n",
    "`f'' > 0` over the region we care about then `f` is convex (and as a concave function is just the negative of a convex function, flip the greater than sign to get the criteria for convex). \n",
    "\n",
    "e.g. `f = x^2`, `f'' = 2`, convex"
   ]
  },
  {
   "cell_type": "markdown",
   "metadata": {},
   "source": [
    "# Jensen's Inequality"
   ]
  },
  {
   "cell_type": "markdown",
   "metadata": {},
   "source": [
    "For any convex function f:\n",
    "\n",
    "`E[f(x)] >= f[E(x)]`\n",
    "\n",
    "or equivalently for equally spaced `x1, x2, ... , xn`:\n",
    "\n",
    "`(f(x1) + ... + f(xn)) / n >= f( (x1 + ... + xn) / n)`\n",
    "\n",
    "In english - the average (or expectation) of the output of the function at various x is greater than the expectation of the function evaluated at the mean of the x.\n",
    "\n",
    "Why? We are convex so the second derivative is positive. 2 cases depending on the first derivative:\n",
    "1) `f' < 0`: To the left we are decreasing more rapidly than to the right.\n",
    "2) `f' > 0`: To the right we are increasing more rapidly that the left.\n",
    "\n",
    "Either way, moving some distance dx in the direction that the function is increasing results in a greater increases of f(x) than the decrease seen from moving the same distance in the other direction."
   ]
  }
 ],
 "metadata": {
  "kernelspec": {
   "display_name": "dynamics",
   "language": "python",
   "name": "dynamics"
  },
  "language_info": {
   "codemirror_mode": {
    "name": "ipython",
    "version": 3
   },
   "file_extension": ".py",
   "mimetype": "text/x-python",
   "name": "python",
   "nbconvert_exporter": "python",
   "pygments_lexer": "ipython3",
   "version": "3.6.6"
  },
  "toc": {
   "base_numbering": 1,
   "nav_menu": {},
   "number_sections": true,
   "sideBar": true,
   "skip_h1_title": false,
   "title_cell": "Table of Contents",
   "title_sidebar": "Contents",
   "toc_cell": false,
   "toc_position": {},
   "toc_section_display": true,
   "toc_window_display": false
  }
 },
 "nbformat": 4,
 "nbformat_minor": 2
}
