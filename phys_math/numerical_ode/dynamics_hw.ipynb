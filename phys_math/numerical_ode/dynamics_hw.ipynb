{
 "cells": [
  {
   "cell_type": "markdown",
   "metadata": {},
   "source": [
    "# Dynamics HW"
   ]
  },
  {
   "cell_type": "code",
   "execution_count": 63,
   "metadata": {
    "ExecuteTime": {
     "end_time": "2018-12-10T09:57:44.057550Z",
     "start_time": "2018-12-10T09:57:44.054757Z"
    }
   },
   "outputs": [],
   "source": [
    "import numpy as np\n",
    "import matplotlib.pyplot as plt"
   ]
  },
  {
   "cell_type": "code",
   "execution_count": 64,
   "metadata": {
    "ExecuteTime": {
     "end_time": "2018-12-10T09:57:52.551508Z",
     "start_time": "2018-12-10T09:57:52.510524Z"
    }
   },
   "outputs": [
    {
     "data": {
      "text/html": [
       "<style>.container { width:80% !important; }</style>"
      ],
      "text/plain": [
       "<IPython.core.display.HTML object>"
      ]
     },
     "metadata": {},
     "output_type": "display_data"
    }
   ],
   "source": [
    "%run ~/.jupyter/config.ipy"
   ]
  },
  {
   "cell_type": "markdown",
   "metadata": {},
   "source": [
    "# Earth-Sun with Euler method"
   ]
  },
  {
   "cell_type": "markdown",
   "metadata": {},
   "source": [
    "We have 4 equations (because motion is in a plane):\n",
    "\n",
    "$$\n",
    "\\dot{r_{i}} = v_{i}\n",
    "$$\n",
    "$$\n",
    "\\dot{v_{i}} = - \\Sigma \\frac{G m_{j}}{r_{ij}^{3}} (r_{i} - r_{j})\n",
    "$$"
   ]
  },
  {
   "cell_type": "code",
   "execution_count": 121,
   "metadata": {
    "ExecuteTime": {
     "end_time": "2018-12-10T10:13:32.799317Z",
     "start_time": "2018-12-10T10:13:32.776817Z"
    }
   },
   "outputs": [],
   "source": [
    "class integrator():\n",
    "    obj_dtype = [(\"mass\", np.float64), \n",
    "                 (\"x\", np.float64), (\"y\", np.float64), \n",
    "                 (\"vx\", np.float64), (\"vy\", np.float64)]\n",
    "    G = 1 # We use the same units as rebound - G = 1, distance in AU, mass in Msun, time in yr/(2*pi)\n",
    "    \n",
    "    def __init__(self):\n",
    "        self.objs = np.zeros(0, dtype=self.obj_dtype)\n",
    "    \n",
    "    def add_obj(self, initial_params):\n",
    "        self.objs = np.append(self.objs, np.array(initial_params, dtype=self.obj_dtype))\n",
    "        \n",
    "    def euler_integrate(self, total_dt, step_dt):\n",
    "        print(\"Starting from {}\".format(self.objs))\n",
    "        steps = int(total_dt / step_dt)\n",
    "        results = np.zeros((len(self.objs), steps + 1), dtype=self.obj_dtype)\n",
    "\n",
    "        results[:,0] = self.objs\n",
    "        for i in range(steps):\n",
    "            accs = self._get_acc(results[:,i])\n",
    "            results[:,i+1] = results[:,i]\n",
    "            for j in range(len(results)):\n",
    "                results[j,i+1][\"x\"] += results[j,i+1][\"vx\"] * step_dt\n",
    "                results[j,i+1][\"y\"] += results[j,i+1][\"vy\"] * step_dt\n",
    "                \n",
    "                results[j,i+1][\"vx\"] += accs[j][\"x\"] * step_dt\n",
    "                results[j,i+1][\"vy\"] += accs[j][\"y\"] * step_dt\n",
    "            \n",
    "        return results \n",
    "        \n",
    "        \n",
    "    def _get_acc(self, objs):\n",
    "        accs = np.zeros(len(objs), dtype=[(\"x\", np.float64), (\"y\", np.float64)])\n",
    "        for i in range(len(objs)):\n",
    "            dx = objs[\"x\"] - objs[i][\"x\"]\n",
    "            dy = objs[\"y\"] - objs[i][\"y\"]\n",
    "            dists = np.sqrt(np.power(dx, 2) + np.power(dy, 2))\n",
    "            acc = self.G * objs[\"mass\"] / dists**3\n",
    "            blah = np.nansum(acc * (dx, dy), axis=1)\n",
    "            accs[i][\"x\"] = blah[0]\n",
    "            accs[i][\"y\"] = blah[1]\n",
    "        return accs"
   ]
  },
  {
   "cell_type": "code",
   "execution_count": 124,
   "metadata": {
    "ExecuteTime": {
     "end_time": "2018-12-10T10:13:38.595326Z",
     "start_time": "2018-12-10T10:13:37.832703Z"
    }
   },
   "outputs": [
    {
     "name": "stdout",
     "output_type": "stream",
     "text": [
      "Starting from [(1.   , 0., 0., 0., 0.) (0.001, 1., 0., 0., 1.)]\n"
     ]
    },
    {
     "name": "stderr",
     "output_type": "stream",
     "text": [
      "/home/christopher/.virtualenvs/learning/lib/python3.7/site-packages/ipykernel_launcher.py:38: RuntimeWarning: divide by zero encountered in true_divide\n",
      "/home/christopher/.virtualenvs/learning/lib/python3.7/site-packages/ipykernel_launcher.py:39: RuntimeWarning: invalid value encountered in multiply\n"
     ]
    }
   ],
   "source": [
    "sim = integrator()\n",
    "sim.add_obj((1, 0, 0, 0, 0))\n",
    "sim.add_obj((1e-3, 1, 0, 0, 1))\n",
    "\n",
    "results = sim.euler_integrate(2*np.pi, 0.001)"
   ]
  },
  {
   "cell_type": "code",
   "execution_count": 125,
   "metadata": {
    "ExecuteTime": {
     "end_time": "2018-12-10T10:13:39.521579Z",
     "start_time": "2018-12-10T10:13:38.976193Z"
    }
   },
   "outputs": [
    {
     "data": {
      "image/png": "[encoded data removed]",
      "text/plain": [
       "<Figure size 600x400 with 1 Axes>"
      ]
     },
     "metadata": {
      "needs_background": "light"
     },
     "output_type": "display_data"
    }
   ],
   "source": [
    "_, ax = plt.subplots()\n",
    "for i in range(len(results)):\n",
    "    ax.plot(results[i][\"x\"], results[i][\"y\"], marker=\".\")"
   ]
  }
 ],
 "metadata": {
  "kernelspec": {
   "display_name": "learning",
   "language": "python",
   "name": "learning"
  },
  "language_info": {
   "codemirror_mode": {
    "name": "ipython",
    "version": 3
   },
   "file_extension": ".py",
   "mimetype": "text/x-python",
   "name": "python",
   "nbconvert_exporter": "python",
   "pygments_lexer": "ipython3",
   "version": "3.7.1"
  },
  "toc": {
   "base_numbering": 1,
   "nav_menu": {},
   "number_sections": true,
   "sideBar": true,
   "skip_h1_title": false,
   "title_cell": "Table of Contents",
   "title_sidebar": "Contents",
   "toc_cell": false,
   "toc_position": {},
   "toc_section_display": true,
   "toc_window_display": false
  }
 },
 "nbformat": 4,
 "nbformat_minor": 2
}
