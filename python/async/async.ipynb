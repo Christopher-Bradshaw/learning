{
 "cells": [
  {
   "cell_type": "markdown",
   "metadata": {},
   "source": [
    "# Async"
   ]
  },
  {
   "cell_type": "code",
   "execution_count": 40,
   "metadata": {
    "ExecuteTime": {
     "end_time": "2020-10-14T04:29:07.153163Z",
     "start_time": "2020-10-14T04:29:07.149933Z"
    }
   },
   "outputs": [],
   "source": [
    "import asyncio\n",
    "import time"
   ]
  },
  {
   "cell_type": "markdown",
   "metadata": {},
   "source": [
    "## Hello world"
   ]
  },
  {
   "cell_type": "markdown",
   "metadata": {},
   "source": [
    "Async functions are defined with an `async` before the `def`.\n",
    "\n",
    "Something needs to be awaited in the async function, else there is an error."
   ]
  },
  {
   "cell_type": "code",
   "execution_count": 20,
   "metadata": {
    "ExecuteTime": {
     "end_time": "2020-10-14T04:19:29.468181Z",
     "start_time": "2020-10-14T04:19:29.464991Z"
    }
   },
   "outputs": [],
   "source": [
    "async def hello_world():\n",
    "    print(\"hello\", end=\"\")\n",
    "    await asyncio.sleep(1)\n",
    "    print(\" world\")\n",
    "    return 42"
   ]
  },
  {
   "cell_type": "code",
   "execution_count": 26,
   "metadata": {
    "ExecuteTime": {
     "end_time": "2020-10-14T04:21:41.808360Z",
     "start_time": "2020-10-14T04:21:39.802279Z"
    }
   },
   "outputs": [
    {
     "name": "stdout",
     "output_type": "stream",
     "text": [
      "<class 'coroutine'>\n",
      "hello world\n",
      "42\n",
      "hello world\n",
      "42\n"
     ]
    }
   ],
   "source": [
    "# Calling the function returns a coroutine object\n",
    "co = hello_world()\n",
    "print(type(co))\n",
    "# Which can then be awaited\n",
    "x = await co\n",
    "print(x)\n",
    "\n",
    "\n",
    "# You can also just do this in one step\n",
    "x = await hello_world()\n",
    "print(x)\n"
   ]
  },
  {
   "cell_type": "markdown",
   "metadata": {},
   "source": [
    "Note that in a script, you instead need to use\n",
    "\n",
    "```\n",
    "x = asyncio.run(hello_world())\n",
    "print(x)\n",
    "```\n",
    "\n",
    "Jupyter runs in an event loop and so we can await things directly. In a script, to initialize a coroutine you need to `asyncio.run`. Once inside you can `await`"
   ]
  },
  {
   "cell_type": "markdown",
   "metadata": {},
   "source": [
    "## Parallel execution"
   ]
  },
  {
   "cell_type": "code",
   "execution_count": 45,
   "metadata": {
    "ExecuteTime": {
     "end_time": "2020-10-14T04:30:39.871388Z",
     "start_time": "2020-10-14T04:30:37.862351Z"
    }
   },
   "outputs": [
    {
     "name": "stdout",
     "output_type": "stream",
     "text": [
      "hello\n",
      "world\n",
      "2.0013320446014404\n"
     ]
    }
   ],
   "source": [
    "async def say_after(delay, what):\n",
    "    await asyncio.sleep(delay)\n",
    "    print(what)\n",
    "    return delay\n",
    "\n",
    "start = time.time()\n",
    "t1 = asyncio.create_task(say_after(2, \"world\"))\n",
    "t2 = asyncio.create_task(say_after(1, \"hello\"))\n",
    "\n",
    "# Both tasks are now running...\n",
    "\n",
    "await t1\n",
    "await t2\n",
    "print(time.time() - start)\n"
   ]
  },
  {
   "cell_type": "markdown",
   "metadata": {},
   "source": [
    "A nicer way to do this, particulary if you have many tasks"
   ]
  },
  {
   "cell_type": "code",
   "execution_count": 49,
   "metadata": {
    "ExecuteTime": {
     "end_time": "2020-10-14T04:32:21.416819Z",
     "start_time": "2020-10-14T04:32:19.409234Z"
    }
   },
   "outputs": [
    {
     "name": "stdout",
     "output_type": "stream",
     "text": [
      "Do other things while those run...\n",
      "hello\n",
      "world\n",
      "[2, 1]\n"
     ]
    }
   ],
   "source": [
    "gather = asyncio.gather(\n",
    "        say_after(2, \"world\"),\n",
    "        say_after(1, \"hello\"),\n",
    ")\n",
    "print(\"Do other things while those run...\")\n",
    "res = await gather\n",
    "print(res)"
   ]
  }
 ],
 "metadata": {
  "kernelspec": {
   "display_name": "learning",
   "language": "python",
   "name": "learning"
  },
  "language_info": {
   "codemirror_mode": {
    "name": "ipython",
    "version": 3
   },
   "file_extension": ".py",
   "mimetype": "text/x-python",
   "name": "python",
   "nbconvert_exporter": "python",
   "pygments_lexer": "ipython3",
   "version": "3.7.9"
  },
  "toc": {
   "base_numbering": 1,
   "nav_menu": {},
   "number_sections": true,
   "sideBar": true,
   "skip_h1_title": false,
   "title_cell": "Table of Contents",
   "title_sidebar": "Contents",
   "toc_cell": false,
   "toc_position": {},
   "toc_section_display": true,
   "toc_window_display": false
  }
 },
 "nbformat": 4,
 "nbformat_minor": 2
}
