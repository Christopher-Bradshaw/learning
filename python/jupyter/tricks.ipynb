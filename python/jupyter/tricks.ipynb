{
 "cells": [
  {
   "cell_type": "markdown",
   "metadata": {},
   "source": [
    "# Jupyter tricks"
   ]
  },
  {
   "cell_type": "code",
   "execution_count": 35,
   "metadata": {
    "ExecuteTime": {
     "end_time": "2019-03-03T05:24:03.180759Z",
     "start_time": "2019-03-03T05:24:02.949243Z"
    }
   },
   "outputs": [
    {
     "name": "stdout",
     "output_type": "stream",
     "text": [
      "The autoreload extension is already loaded. To reload it, use:\n",
      "  %reload_ext autoreload\n"
     ]
    },
    {
     "data": {
      "text/html": [
       "<style>.container { width:80% !important; }</style>"
      ],
      "text/plain": [
       "<IPython.core.display.HTML object>"
      ]
     },
     "metadata": {},
     "output_type": "display_data"
    }
   ],
   "source": [
    "import numpy as np\n",
    "import matplotlib.pyplot as plt\n",
    "import pandas as pd\n",
    "\n",
    "%run ~/.jupyter/config.ipy"
   ]
  },
  {
   "cell_type": "markdown",
   "metadata": {},
   "source": [
    "# Latex"
   ]
  },
  {
   "cell_type": "markdown",
   "metadata": {
    "ExecuteTime": {
     "end_time": "2018-12-10T09:16:34.805047Z",
     "start_time": "2018-12-10T09:16:34.801346Z"
    }
   },
   "source": [
    "In markdown cells, write math as in latex - just surround it with \\$ - e.g. `$M_{halo}$` -> $M_{halo}$\n",
    "\n",
    "Note that to type a \\$ normally, you need to escape it!\n",
    "\n",
    "For latex blocks surround with `$$`.\n",
    "$$\n",
    "M_{halo} \\propto M_{\\ast, tot}\n",
    "$$"
   ]
  },
  {
   "cell_type": "markdown",
   "metadata": {},
   "source": [
    "You can also write latex in a code cell, but I don't really know why you would do that. It looks pretty ugly seeing the raw latex before the output."
   ]
  },
  {
   "cell_type": "code",
   "execution_count": 2,
   "metadata": {
    "ExecuteTime": {
     "end_time": "2019-03-03T05:09:04.638669Z",
     "start_time": "2019-03-03T05:09:04.633719Z"
    }
   },
   "outputs": [
    {
     "data": {
      "text/latex": [
       "Hello, this is normal writing. Now an equation.\n",
       "\n",
       "$$\n",
       "M_{halo} \\propto\\ M_{\\ast, tot}\n",
       "$$\n"
      ],
      "text/plain": [
       "<IPython.core.display.Latex object>"
      ]
     },
     "metadata": {},
     "output_type": "display_data"
    }
   ],
   "source": [
    "%%latex\n",
    "Hello, this is normal writing. Now an equation.\n",
    "\n",
    "$$\n",
    "M_{halo} \\propto\\ M_{\\ast, tot}\n",
    "$$"
   ]
  },
  {
   "cell_type": "markdown",
   "metadata": {
    "ExecuteTime": {
     "end_time": "2019-02-23T09:06:00.436124Z",
     "start_time": "2019-02-23T09:06:00.433641Z"
    }
   },
   "source": [
    "# Custom CSS"
   ]
  },
  {
   "cell_type": "markdown",
   "metadata": {},
   "source": [
    "There are a couple of ways to do this. Either (as in my preamble) call the display function, or just write a full CSS cell."
   ]
  },
  {
   "cell_type": "code",
   "execution_count": 5,
   "metadata": {
    "ExecuteTime": {
     "end_time": "2019-02-23T09:08:16.190563Z",
     "start_time": "2019-02-23T09:08:16.185411Z"
    }
   },
   "outputs": [
    {
     "data": {
      "text/html": [
       "<style>.container { width:80% !important; }</style>"
      ],
      "text/plain": [
       "<IPython.core.display.HTML object>"
      ]
     },
     "metadata": {},
     "output_type": "display_data"
    }
   ],
   "source": [
    "from IPython.core.display import display, HTML\n",
    "display(HTML(\"<style>.container { width:80% !important; }</style>\"))"
   ]
  },
  {
   "cell_type": "code",
   "execution_count": 5,
   "metadata": {
    "ExecuteTime": {
     "end_time": "2019-03-03T05:09:14.431706Z",
     "start_time": "2019-03-03T05:09:14.424237Z"
    }
   },
   "outputs": [
    {
     "data": {
      "text/html": [
       "\n",
       "<style>\n",
       ".output {\n",
       "    background-color: none; <!-- Note the HTML comments. Also, change this to red to make things look great!\n",
       "}\n",
       "</style>\n"
      ],
      "text/plain": [
       "<IPython.core.display.HTML object>"
      ]
     },
     "metadata": {},
     "output_type": "display_data"
    }
   ],
   "source": [
    "%%html\n",
    "\n",
    "<style>\n",
    ".output {\n",
    "    background-color: none; <!-- Note the HTML comments. Also, change this to red to make things look great!\n",
    "}\n",
    "</style>"
   ]
  },
  {
   "cell_type": "markdown",
   "metadata": {},
   "source": [
    "# Ipywidgets"
   ]
  },
  {
   "cell_type": "code",
   "execution_count": 22,
   "metadata": {
    "ExecuteTime": {
     "end_time": "2019-03-03T05:16:34.565003Z",
     "start_time": "2019-03-03T05:16:34.378220Z"
    }
   },
   "outputs": [],
   "source": [
    "import ipywidgets as widgets"
   ]
  },
  {
   "cell_type": "code",
   "execution_count": 33,
   "metadata": {
    "ExecuteTime": {
     "end_time": "2019-03-03T05:22:58.375896Z",
     "start_time": "2019-03-03T05:22:57.970443Z"
    }
   },
   "outputs": [
    {
     "data": {
      "application/vnd.jupyter.widget-view+json": {
       "model_id": "50527de1e8d4403c842c4410b4e07713",
       "version_major": 2,
       "version_minor": 0
      },
      "text/plain": [
       "interactive(children=(FloatSlider(value=1.0, description='power', max=2.0, min=-2.0), Output()), _dom_classes=…"
      ]
     },
     "metadata": {},
     "output_type": "display_data"
    },
    {
     "data": {
      "text/plain": [
       "<function __main__.plot(power)>"
      ]
     },
     "execution_count": 33,
     "metadata": {},
     "output_type": "execute_result"
    }
   ],
   "source": [
    "def plot(power):\n",
    "    x = np.linspace(1, 10)\n",
    "    _, ax = plt.subplots()\n",
    "    ax.plot(x, x**power)\n",
    "\n",
    "widgets.interact(plot, power=widgets.FloatSlider(min=-2, max=2, value=1))\n",
    "\n",
    "# If this is slow, replace interact with interact_manual"
   ]
  },
  {
   "cell_type": "code",
   "execution_count": 44,
   "metadata": {
    "ExecuteTime": {
     "end_time": "2019-03-03T05:26:29.353257Z",
     "start_time": "2019-03-03T05:26:28.971493Z"
    }
   },
   "outputs": [
    {
     "data": {
      "application/vnd.jupyter.widget-view+json": {
       "model_id": "a6064030624142209d2cb6a06989490f",
       "version_major": 2,
       "version_minor": 0
      },
      "text/plain": [
       "interactive(children=(Dropdown(description='which', options=('linear', 'quadratic', 'cubic'), value='linear'),…"
      ]
     },
     "metadata": {},
     "output_type": "display_data"
    },
    {
     "data": {
      "text/plain": [
       "<function __main__.plot(df, which)>"
      ]
     },
     "execution_count": 44,
     "metadata": {},
     "output_type": "execute_result"
    }
   ],
   "source": [
    "x = np.linspace(0, 10)\n",
    "df = pd.DataFrame({\"x\": x, \"linear\": x, \"quadratic\": x**2, \"cubic\": x**3})\n",
    "\n",
    "def plot(df, which):\n",
    "    _, ax = plt.subplots()\n",
    "    ax.plot(df[\"x\"], df[which])\n",
    "\n",
    "widgets.interact(plot, df=widgets.fixed(df), which=list(df)[1:])"
   ]
  }
 ],
 "metadata": {
  "kernelspec": {
   "display_name": "learning",
   "language": "python",
   "name": "learning"
  },
  "language_info": {
   "codemirror_mode": {
    "name": "ipython",
    "version": 3
   },
   "file_extension": ".py",
   "mimetype": "text/x-python",
   "name": "python",
   "nbconvert_exporter": "python",
   "pygments_lexer": "ipython3",
   "version": "3.7.2"
  },
  "toc": {
   "base_numbering": 1,
   "nav_menu": {},
   "number_sections": true,
   "sideBar": true,
   "skip_h1_title": false,
   "title_cell": "Table of Contents",
   "title_sidebar": "Contents",
   "toc_cell": false,
   "toc_position": {},
   "toc_section_display": true,
   "toc_window_display": false
  }
 },
 "nbformat": 4,
 "nbformat_minor": 2
}
