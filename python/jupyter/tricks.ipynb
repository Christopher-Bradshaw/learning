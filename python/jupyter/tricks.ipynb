{
 "cells": [
  {
   "cell_type": "markdown",
   "metadata": {},
   "source": [
    "# Latex"
   ]
  },
  {
   "cell_type": "markdown",
   "metadata": {
    "ExecuteTime": {
     "end_time": "2018-12-10T09:16:34.805047Z",
     "start_time": "2018-12-10T09:16:34.801346Z"
    }
   },
   "source": [
    "In markdown cells, write math as in latex - just surround it with \\$ - e.g. `$M_{halo}$` -> $M_{halo}$\n",
    "\n",
    "Note that to type a \\$ normally, you need to escape it!\n",
    "\n",
    "For latex blocks surround with `$$`.\n",
    "$$\n",
    "M_{halo} \\propto M_{\\ast, tot}\n",
    "$$"
   ]
  },
  {
   "cell_type": "markdown",
   "metadata": {},
   "source": [
    "You can also write latex in a code cell, but I don't really know why you would do that. It looks pretty ugly seeing the raw latex before the output."
   ]
  },
  {
   "cell_type": "code",
   "execution_count": 4,
   "metadata": {
    "ExecuteTime": {
     "end_time": "2019-02-23T09:07:29.440825Z",
     "start_time": "2019-02-23T09:07:29.433975Z"
    }
   },
   "outputs": [
    {
     "data": {
      "text/latex": [
       "Hello, this is normal writing. Now an equation.\n",
       "\n",
       "$$\n",
       "M_{halo} \\propto\\ M_{\\ast, tot}\n",
       "$$\n"
      ],
      "text/plain": [
       "<IPython.core.display.Latex object>"
      ]
     },
     "metadata": {},
     "output_type": "display_data"
    }
   ],
   "source": [
    "%%latex\n",
    "Hello, this is normal writing. Now an equation.\n",
    "\n",
    "$$\n",
    "M_{halo} \\propto\\ M_{\\ast, tot}\n",
    "$$"
   ]
  },
  {
   "cell_type": "markdown",
   "metadata": {
    "ExecuteTime": {
     "end_time": "2019-02-23T09:06:00.436124Z",
     "start_time": "2019-02-23T09:06:00.433641Z"
    }
   },
   "source": [
    "# Custom CSS"
   ]
  },
  {
   "cell_type": "markdown",
   "metadata": {},
   "source": [
    "There are a couple of ways to do this. Either (as in my preamble) call the display function, or just write a full CSS cell."
   ]
  },
  {
   "cell_type": "code",
   "execution_count": 5,
   "metadata": {
    "ExecuteTime": {
     "end_time": "2019-02-23T09:08:16.190563Z",
     "start_time": "2019-02-23T09:08:16.185411Z"
    }
   },
   "outputs": [
    {
     "data": {
      "text/html": [
       "<style>.container { width:80% !important; }</style>"
      ],
      "text/plain": [
       "<IPython.core.display.HTML object>"
      ]
     },
     "metadata": {},
     "output_type": "display_data"
    }
   ],
   "source": [
    "from IPython.core.display import display, HTML\n",
    "display(HTML(\"<style>.container { width:80% !important; }</style>\"))"
   ]
  },
  {
   "cell_type": "code",
   "execution_count": 12,
   "metadata": {
    "ExecuteTime": {
     "end_time": "2019-02-23T09:11:06.983954Z",
     "start_time": "2019-02-23T09:11:06.978378Z"
    }
   },
   "outputs": [
    {
     "data": {
      "text/html": [
       "\n",
       "<style>\n",
       ".output {\n",
       "    background-color: none; <!-- Note the HTML comments. Also, change this to red to make things look great!\n",
       "}\n",
       "</style>\n"
      ],
      "text/plain": [
       "<IPython.core.display.HTML object>"
      ]
     },
     "metadata": {},
     "output_type": "display_data"
    }
   ],
   "source": [
    "%%html\n",
    "\n",
    "<style>\n",
    ".output {\n",
    "    background-color: none; <!-- Note the HTML comments. Also, change this to red to make things look great!\n",
    "}\n",
    "</style>"
   ]
  }
 ],
 "metadata": {
  "kernelspec": {
   "display_name": "learning",
   "language": "python",
   "name": "learning"
  },
  "language_info": {
   "codemirror_mode": {
    "name": "ipython",
    "version": 3
   },
   "file_extension": ".py",
   "mimetype": "text/x-python",
   "name": "python",
   "nbconvert_exporter": "python",
   "pygments_lexer": "ipython3",
   "version": "3.7.2"
  },
  "toc": {
   "base_numbering": 1,
   "nav_menu": {},
   "number_sections": true,
   "sideBar": true,
   "skip_h1_title": false,
   "title_cell": "Table of Contents",
   "title_sidebar": "Contents",
   "toc_cell": false,
   "toc_position": {},
   "toc_section_display": true,
   "toc_window_display": false
  }
 },
 "nbformat": 4,
 "nbformat_minor": 2
}
