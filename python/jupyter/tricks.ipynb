{
 "cells": [
  {
   "cell_type": "markdown",
   "metadata": {},
   "source": [
    "## Latex"
   ]
  },
  {
   "cell_type": "markdown",
   "metadata": {
    "ExecuteTime": {
     "end_time": "2018-12-10T09:16:34.805047Z",
     "start_time": "2018-12-10T09:16:34.801346Z"
    }
   },
   "source": [
    "In markdown cells, write math as in latex - just surround it with \\$ - e.g. `$M_{halo}$` -> $M_{halo}$\n",
    "\n",
    "Note that to type a \\$ normally, you need to escape it!\n",
    "\n",
    "For latex blocks surround with `$$`.\n",
    "$$\n",
    "M_{halo} \\propto M_{\\ast, tot}\n",
    "$$"
   ]
  },
  {
   "cell_type": "code",
   "execution_count": 21,
   "metadata": {
    "ExecuteTime": {
     "end_time": "2018-12-10T21:36:08.744473Z",
     "start_time": "2018-12-10T21:36:08.739815Z"
    }
   },
   "outputs": [
    {
     "data": {
      "text/latex": [
       "Hello, this is normal writing. Now an equation.\n",
       "\n",
       "$$\n",
       "M_{halo} \\propto\\ M_{\\ast, tot}\n",
       "$$\n",
       "\n",
       "In code cells, the latex magic makes the whole thing a latex cell!\n"
      ],
      "text/plain": [
       "<IPython.core.display.Latex object>"
      ]
     },
     "metadata": {},
     "output_type": "display_data"
    }
   ],
   "source": [
    "%%latex\n",
    "Hello, this is normal writing. Now an equation.\n",
    "\n",
    "$$\n",
    "M_{halo} \\propto\\ M_{\\ast, tot}\n",
    "$$\n",
    "\n",
    "In code cells, the latex magic makes the whole thing a latex cell!"
   ]
  }
 ],
 "metadata": {
  "kernelspec": {
   "display_name": "learning",
   "language": "python",
   "name": "learning"
  },
  "language_info": {
   "codemirror_mode": {
    "name": "ipython",
    "version": 3
   },
   "file_extension": ".py",
   "mimetype": "text/x-python",
   "name": "python",
   "nbconvert_exporter": "python",
   "pygments_lexer": "ipython3",
   "version": "3.7.1"
  },
  "toc": {
   "base_numbering": 1,
   "nav_menu": {},
   "number_sections": true,
   "sideBar": true,
   "skip_h1_title": false,
   "title_cell": "Table of Contents",
   "title_sidebar": "Contents",
   "toc_cell": false,
   "toc_position": {},
   "toc_section_display": true,
   "toc_window_display": false
  }
 },
 "nbformat": 4,
 "nbformat_minor": 2
}
