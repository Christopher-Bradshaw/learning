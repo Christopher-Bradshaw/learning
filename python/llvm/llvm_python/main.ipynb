{
 "cells": [
  {
   "cell_type": "markdown",
   "metadata": {},
   "source": [
    "# LLVM Python libraries"
   ]
  },
  {
   "cell_type": "code",
   "execution_count": 1,
   "metadata": {
    "ExecuteTime": {
     "end_time": "2020-01-01T23:06:55.771470Z",
     "start_time": "2020-01-01T23:06:55.509221Z"
    }
   },
   "outputs": [
    {
     "data": {
      "text/html": [
       "<style>.container { width:80% !important; }</style>"
      ],
      "text/plain": [
       "<IPython.core.display.HTML object>"
      ]
     },
     "metadata": {},
     "output_type": "display_data"
    }
   ],
   "source": [
    "%run ~/.jupyter/config.ipy"
   ]
  },
  {
   "cell_type": "code",
   "execution_count": 38,
   "metadata": {
    "ExecuteTime": {
     "end_time": "2020-01-01T23:37:15.817507Z",
     "start_time": "2020-01-01T23:37:15.802786Z"
    }
   },
   "outputs": [],
   "source": [
    "import llvmlite.binding as llvm\n",
    "import llvmlite.ir as ir\n",
    "from ctypes import CFUNCTYPE, c_double"
   ]
  },
  {
   "cell_type": "markdown",
   "metadata": {
    "heading_collapsed": true
   },
   "source": [
    "# Compile from LLVM code"
   ]
  },
  {
   "cell_type": "markdown",
   "metadata": {
    "hidden": true
   },
   "source": [
    "From [here](http://llvmlite.pydata.org/en/latest/user-guide/binding/examples.html).\n",
    "\n",
    "We want to compile the following llvm."
   ]
  },
  {
   "cell_type": "code",
   "execution_count": 32,
   "metadata": {
    "ExecuteTime": {
     "end_time": "2020-01-01T23:15:02.158381Z",
     "start_time": "2020-01-01T23:15:02.141393Z"
    },
    "hidden": true
   },
   "outputs": [],
   "source": [
    "llvm_ir = \"\"\"\n",
    "   define double @fpadd(double %\".1\", double %\".2\") {\n",
    "   entry:\n",
    "     %res = fadd double %\".1\", %\".2\"\n",
    "     ret double %res\n",
    "   }\n",
    "\"\"\""
   ]
  },
  {
   "cell_type": "markdown",
   "metadata": {
    "hidden": true
   },
   "source": [
    "First we need to initialize some things."
   ]
  },
  {
   "cell_type": "code",
   "execution_count": 33,
   "metadata": {
    "ExecuteTime": {
     "end_time": "2020-01-01T23:15:02.483340Z",
     "start_time": "2020-01-01T23:15:02.471263Z"
    },
    "hidden": true
   },
   "outputs": [],
   "source": [
    "llvm.initialize()\n",
    "llvm.initialize_native_target()\n",
    "llvm.initialize_native_asmprinter()"
   ]
  },
  {
   "cell_type": "markdown",
   "metadata": {
    "hidden": true
   },
   "source": [
    "Now setup a compiling engine for this machine?"
   ]
  },
  {
   "cell_type": "code",
   "execution_count": 34,
   "metadata": {
    "ExecuteTime": {
     "end_time": "2020-01-01T23:15:02.774599Z",
     "start_time": "2020-01-01T23:15:02.762054Z"
    },
    "hidden": true
   },
   "outputs": [],
   "source": [
    "target = llvm.Target.from_default_triple()\n",
    "target_machine = target.create_target_machine()\n",
    "# And an execution engine with an empty backing module\n",
    "backing_mod = llvm.parse_assembly(\"\")\n",
    "engine = llvm.create_mcjit_compiler(backing_mod, target_machine)"
   ]
  },
  {
   "cell_type": "markdown",
   "metadata": {
    "ExecuteTime": {
     "end_time": "2020-01-01T23:14:23.590055Z",
     "start_time": "2020-01-01T23:14:23.579144Z"
    },
    "hidden": true
   },
   "source": [
    "And parse the code"
   ]
  },
  {
   "cell_type": "code",
   "execution_count": 35,
   "metadata": {
    "ExecuteTime": {
     "end_time": "2020-01-01T23:15:03.090707Z",
     "start_time": "2020-01-01T23:15:03.074885Z"
    },
    "hidden": true
   },
   "outputs": [],
   "source": [
    "mod = llvm.parse_assembly(llvm_ir)\n",
    "mod.verify()\n",
    "engine.add_module(mod)\n",
    "engine.finalize_object()\n",
    "engine.run_static_constructors()"
   ]
  },
  {
   "cell_type": "code",
   "execution_count": 36,
   "metadata": {
    "ExecuteTime": {
     "end_time": "2020-01-01T23:15:03.516646Z",
     "start_time": "2020-01-01T23:15:03.502380Z"
    },
    "hidden": true
   },
   "outputs": [
    {
     "name": "stdout",
     "output_type": "stream",
     "text": [
      "140560887226368\n"
     ]
    }
   ],
   "source": [
    "func_ptr = engine.get_function_address(\"fpadd\")\n",
    "print(func_ptr)"
   ]
  },
  {
   "cell_type": "code",
   "execution_count": 37,
   "metadata": {
    "ExecuteTime": {
     "end_time": "2020-01-01T23:15:04.148148Z",
     "start_time": "2020-01-01T23:15:04.129815Z"
    },
    "hidden": true
   },
   "outputs": [
    {
     "name": "stdout",
     "output_type": "stream",
     "text": [
      "fpadd(...) = 4.5\n"
     ]
    }
   ],
   "source": [
    "cfunc = CFUNCTYPE(c_double, c_double, c_double)(func_ptr)\n",
    "res = cfunc(1.0, 3.5)\n",
    "print(\"fpadd(...) =\", res)"
   ]
  },
  {
   "cell_type": "markdown",
   "metadata": {},
   "source": [
    "# Compile by building block"
   ]
  },
  {
   "cell_type": "markdown",
   "metadata": {},
   "source": [
    "From [here](http://llvmlite.pydata.org/en/latest/user-guide/ir/examples.html)."
   ]
  },
  {
   "cell_type": "code",
   "execution_count": 64,
   "metadata": {
    "ExecuteTime": {
     "end_time": "2020-01-02T00:07:05.516219Z",
     "start_time": "2020-01-02T00:07:05.502293Z"
    }
   },
   "outputs": [],
   "source": [
    "func_type = ir.FunctionType(                    \n",
    "    ir.IntType(32), (ir.IntType(32), ir.IntType(32)) \n",
    ")                                                    \n",
    "\n",
    "func = ir.Function(ir.Module(\"module\"), func_type, \"f_name\")"
   ]
  },
  {
   "cell_type": "code",
   "execution_count": 65,
   "metadata": {
    "ExecuteTime": {
     "end_time": "2020-01-02T00:07:05.873665Z",
     "start_time": "2020-01-02T00:07:05.852484Z"
    }
   },
   "outputs": [
    {
     "name": "stdout",
     "output_type": "stream",
     "text": [
      "define i32 @\"f_name\"(i32 %\".1\", i32 %\".2\") \n",
      "{\n",
      "entry:\n",
      "  %\"res\" = add i32 %\".1\", %\".2\"\n",
      "  ret i32 %\"res\"\n",
      "}\n",
      "\n"
     ]
    }
   ],
   "source": [
    "block = func.append_basic_block(\"entry\")\n",
    "builder = ir.IRBuilder(block)\n",
    "a, b = func.args\n",
    "\n",
    "result = builder.add(a, b, name=\"res\")\n",
    "builder.ret(result)\n",
    "print(func)"
   ]
  }
 ],
 "metadata": {
  "kernelspec": {
   "display_name": "learning",
   "language": "python",
   "name": "learning"
  },
  "language_info": {
   "codemirror_mode": {
    "name": "ipython",
    "version": 3
   },
   "file_extension": ".py",
   "mimetype": "text/x-python",
   "name": "python",
   "nbconvert_exporter": "python",
   "pygments_lexer": "ipython3",
   "version": "3.7.5"
  },
  "toc": {
   "base_numbering": 1,
   "nav_menu": {},
   "number_sections": true,
   "sideBar": true,
   "skip_h1_title": false,
   "title_cell": "Table of Contents",
   "title_sidebar": "Contents",
   "toc_cell": false,
   "toc_position": {},
   "toc_section_display": true,
   "toc_window_display": false
  }
 },
 "nbformat": 4,
 "nbformat_minor": 2
}
