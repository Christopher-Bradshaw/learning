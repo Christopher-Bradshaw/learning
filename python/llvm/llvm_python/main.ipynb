{
 "cells": [
  {
   "cell_type": "markdown",
   "metadata": {},
   "source": [
    "# LLVM Python libraries"
   ]
  },
  {
   "cell_type": "code",
   "execution_count": 1,
   "metadata": {
    "ExecuteTime": {
     "end_time": "2020-01-01T23:06:55.771470Z",
     "start_time": "2020-01-01T23:06:55.509221Z"
    }
   },
   "outputs": [
    {
     "data": {
      "text/html": [
       "<style>.container { width:80% !important; }</style>"
      ],
      "text/plain": [
       "<IPython.core.display.HTML object>"
      ]
     },
     "metadata": {},
     "output_type": "display_data"
    }
   ],
   "source": [
    "%run ~/.jupyter/config.ipy"
   ]
  },
  {
   "cell_type": "code",
   "execution_count": 100,
   "metadata": {
    "ExecuteTime": {
     "end_time": "2020-01-02T12:31:09.616275Z",
     "start_time": "2020-01-02T12:31:09.604417Z"
    }
   },
   "outputs": [],
   "source": [
    "import llvmlite.binding as llvm\n",
    "import llvmlite.ir as ir\n",
    "from ctypes import CFUNCTYPE, c_double, c_int"
   ]
  },
  {
   "cell_type": "markdown",
   "metadata": {},
   "source": [
    "# Compile from LLVM code"
   ]
  },
  {
   "cell_type": "markdown",
   "metadata": {},
   "source": [
    "From [here](http://llvmlite.pydata.org/en/latest/user-guide/binding/examples.html).\n",
    "\n",
    "We want to compile the following llvm."
   ]
  },
  {
   "cell_type": "code",
   "execution_count": 32,
   "metadata": {
    "ExecuteTime": {
     "end_time": "2020-01-01T23:15:02.158381Z",
     "start_time": "2020-01-01T23:15:02.141393Z"
    }
   },
   "outputs": [],
   "source": [
    "llvm_ir = \"\"\"\n",
    "   define double @fpadd(double %\".1\", double %\".2\") {\n",
    "   entry:\n",
    "     %res = fadd double %\".1\", %\".2\"\n",
    "     ret double %res\n",
    "   }\n",
    "\"\"\""
   ]
  },
  {
   "cell_type": "markdown",
   "metadata": {},
   "source": [
    "First we need to initialize some things."
   ]
  },
  {
   "cell_type": "code",
   "execution_count": 33,
   "metadata": {
    "ExecuteTime": {
     "end_time": "2020-01-01T23:15:02.483340Z",
     "start_time": "2020-01-01T23:15:02.471263Z"
    }
   },
   "outputs": [],
   "source": [
    "llvm.initialize()\n",
    "llvm.initialize_native_target()\n",
    "llvm.initialize_native_asmprinter()"
   ]
  },
  {
   "cell_type": "markdown",
   "metadata": {},
   "source": [
    "Now setup a compiling engine for this machine?"
   ]
  },
  {
   "cell_type": "code",
   "execution_count": 34,
   "metadata": {
    "ExecuteTime": {
     "end_time": "2020-01-01T23:15:02.774599Z",
     "start_time": "2020-01-01T23:15:02.762054Z"
    }
   },
   "outputs": [],
   "source": [
    "target = llvm.Target.from_default_triple()\n",
    "target_machine = target.create_target_machine()\n",
    "# And an execution engine with an empty backing module\n",
    "backing_mod = llvm.parse_assembly(\"\")\n",
    "engine = llvm.create_mcjit_compiler(backing_mod, target_machine)"
   ]
  },
  {
   "cell_type": "markdown",
   "metadata": {
    "ExecuteTime": {
     "end_time": "2020-01-01T23:14:23.590055Z",
     "start_time": "2020-01-01T23:14:23.579144Z"
    }
   },
   "source": [
    "And parse the code"
   ]
  },
  {
   "cell_type": "code",
   "execution_count": 35,
   "metadata": {
    "ExecuteTime": {
     "end_time": "2020-01-01T23:15:03.090707Z",
     "start_time": "2020-01-01T23:15:03.074885Z"
    }
   },
   "outputs": [],
   "source": [
    "mod = llvm.parse_assembly(llvm_ir)\n",
    "mod.verify()\n",
    "engine.add_module(mod)\n",
    "engine.finalize_object()\n",
    "engine.run_static_constructors()"
   ]
  },
  {
   "cell_type": "code",
   "execution_count": 36,
   "metadata": {
    "ExecuteTime": {
     "end_time": "2020-01-01T23:15:03.516646Z",
     "start_time": "2020-01-01T23:15:03.502380Z"
    }
   },
   "outputs": [
    {
     "name": "stdout",
     "output_type": "stream",
     "text": [
      "140560887226368\n"
     ]
    }
   ],
   "source": [
    "func_ptr = engine.get_function_address(\"fpadd\")\n",
    "print(func_ptr)"
   ]
  },
  {
   "cell_type": "code",
   "execution_count": 37,
   "metadata": {
    "ExecuteTime": {
     "end_time": "2020-01-01T23:15:04.148148Z",
     "start_time": "2020-01-01T23:15:04.129815Z"
    }
   },
   "outputs": [
    {
     "name": "stdout",
     "output_type": "stream",
     "text": [
      "fpadd(...) = 4.5\n"
     ]
    }
   ],
   "source": [
    "cfunc = CFUNCTYPE(c_double, c_double, c_double)(func_ptr)\n",
    "res = cfunc(1.0, 3.5)\n",
    "print(\"fpadd(...) =\", res)"
   ]
  },
  {
   "cell_type": "markdown",
   "metadata": {},
   "source": [
    "# Compile by building block"
   ]
  },
  {
   "cell_type": "markdown",
   "metadata": {},
   "source": [
    "From [here](http://llvmlite.pydata.org/en/latest/user-guide/ir/examples.html)."
   ]
  },
  {
   "cell_type": "code",
   "execution_count": 104,
   "metadata": {
    "ExecuteTime": {
     "end_time": "2020-01-02T15:18:10.408544Z",
     "start_time": "2020-01-02T15:18:10.387490Z"
    }
   },
   "outputs": [
    {
     "name": "stdout",
     "output_type": "stream",
     "text": [
      "define i32 @\"f_name\"(i32 %\".1\", i32 %\".2\") \n",
      "{\n",
      "entry:\n",
      "  %\"res\" = add i32 %\".1\", %\".2\"\n",
      "  ret i32 %\"res\"\n",
      "}\n",
      "\n",
      "--------------\n",
      "; ModuleID = \"module\"\n",
      "target triple = \"unknown-unknown-unknown\"\n",
      "target datalayout = \"\"\n",
      "\n",
      "define i32 @\"f_name\"(i32 %\".1\", i32 %\".2\") \n",
      "{\n",
      "entry:\n",
      "  %\"res\" = add i32 %\".1\", %\".2\"\n",
      "  ret i32 %\"res\"\n",
      "}\n",
      "\n"
     ]
    }
   ],
   "source": [
    "func_type = ir.FunctionType(                    \n",
    "    ir.IntType(32), (ir.IntType(32), ir.IntType(32)) \n",
    ")                                                    \n",
    "\n",
    "module = ir.Module(\"module\")\n",
    "func = ir.Function(\n",
    "    module, func_type, \"f_name\"\n",
    ")\n",
    "\n",
    "block = func.append_basic_block(\"entry\")\n",
    "builder = ir.IRBuilder(block)\n",
    "a, b = func.args\n",
    "\n",
    "result = builder.add(a, b, name=\"res\")\n",
    "builder.ret(result)\n",
    "print(func)\n",
    "print(\"--------------\")\n",
    "print(module)"
   ]
  },
  {
   "cell_type": "markdown",
   "metadata": {},
   "source": [
    "## Compile and run"
   ]
  },
  {
   "cell_type": "code",
   "execution_count": 77,
   "metadata": {
    "ExecuteTime": {
     "end_time": "2020-01-02T12:26:15.260395Z",
     "start_time": "2020-01-02T12:26:15.249556Z"
    }
   },
   "outputs": [],
   "source": [
    "llvm.initialize()\n",
    "llvm.initialize_native_target()\n",
    "llvm.initialize_native_asmprinter()"
   ]
  },
  {
   "cell_type": "code",
   "execution_count": 78,
   "metadata": {
    "ExecuteTime": {
     "end_time": "2020-01-02T12:26:15.695233Z",
     "start_time": "2020-01-02T12:26:15.683607Z"
    }
   },
   "outputs": [],
   "source": [
    "target = llvm.Target.from_default_triple()\n",
    "target_machine = target.create_target_machine()\n",
    "# And an execution engine with an empty backing module\n",
    "backing_mod = llvm.parse_assembly(\"\")\n",
    "engine = llvm.create_mcjit_compiler(backing_mod, target_machine)"
   ]
  },
  {
   "cell_type": "code",
   "execution_count": 96,
   "metadata": {
    "ExecuteTime": {
     "end_time": "2020-01-02T12:30:21.304596Z",
     "start_time": "2020-01-02T12:30:21.282989Z"
    }
   },
   "outputs": [],
   "source": [
    "mod = llvm.parse_assembly(str(module))\n",
    "\n",
    "engine.add_module(mod)\n",
    "engine.finalize_object()\n",
    "engine.run_static_constructors()"
   ]
  },
  {
   "cell_type": "code",
   "execution_count": 98,
   "metadata": {
    "ExecuteTime": {
     "end_time": "2020-01-02T12:30:36.078769Z",
     "start_time": "2020-01-02T12:30:36.066999Z"
    }
   },
   "outputs": [
    {
     "name": "stdout",
     "output_type": "stream",
     "text": [
      "140560790777856\n"
     ]
    }
   ],
   "source": [
    "func_ptr = engine.get_function_address(\"f_name\")\n",
    "print(func_ptr)"
   ]
  },
  {
   "cell_type": "code",
   "execution_count": 103,
   "metadata": {
    "ExecuteTime": {
     "end_time": "2020-01-02T12:31:32.236438Z",
     "start_time": "2020-01-02T12:31:32.219364Z"
    }
   },
   "outputs": [
    {
     "name": "stdout",
     "output_type": "stream",
     "text": [
      "fpadd(...) = 5\n"
     ]
    }
   ],
   "source": [
    "cfunc = CFUNCTYPE(c_int, c_int, c_int)(func_ptr)\n",
    "res = cfunc(1, 4)\n",
    "print(\"fpadd(...) =\", res)"
   ]
  }
 ],
 "metadata": {
  "kernelspec": {
   "display_name": "learning",
   "language": "python",
   "name": "learning"
  },
  "language_info": {
   "codemirror_mode": {
    "name": "ipython",
    "version": 3
   },
   "file_extension": ".py",
   "mimetype": "text/x-python",
   "name": "python",
   "nbconvert_exporter": "python",
   "pygments_lexer": "ipython3",
   "version": "3.7.5"
  },
  "toc": {
   "base_numbering": 1,
   "nav_menu": {},
   "number_sections": true,
   "sideBar": true,
   "skip_h1_title": false,
   "title_cell": "Table of Contents",
   "title_sidebar": "Contents",
   "toc_cell": false,
   "toc_position": {},
   "toc_section_display": true,
   "toc_window_display": false
  }
 },
 "nbformat": 4,
 "nbformat_minor": 2
}
