{
 "cells": [
  {
   "cell_type": "markdown",
   "metadata": {},
   "source": [
    "# AST"
   ]
  },
  {
   "cell_type": "code",
   "execution_count": 5,
   "metadata": {
    "ExecuteTime": {
     "end_time": "2019-12-30T11:14:59.150775Z",
     "start_time": "2019-12-30T11:14:59.109510Z"
    }
   },
   "outputs": [
    {
     "name": "stdout",
     "output_type": "stream",
     "text": [
      "The autoreload extension is already loaded. To reload it, use:\n",
      "  %reload_ext autoreload\n"
     ]
    },
    {
     "data": {
      "text/html": [
       "<style>.container { width:80% !important; }</style>"
      ],
      "text/plain": [
       "<IPython.core.display.HTML object>"
      ]
     },
     "metadata": {},
     "output_type": "display_data"
    }
   ],
   "source": [
    "%run ~/.jupyter/config.ipy\n",
    "import helpers as h\n",
    "import ast"
   ]
  },
  {
   "cell_type": "markdown",
   "metadata": {},
   "source": [
    "# Convert c"
   ]
  },
  {
   "cell_type": "code",
   "execution_count": 7,
   "metadata": {
    "ExecuteTime": {
     "end_time": "2019-12-30T11:15:21.819256Z",
     "start_time": "2019-12-30T11:15:21.808138Z"
    }
   },
   "outputs": [],
   "source": [
    "func = \"\"\"\n",
    "def f(a, b):\n",
    "    c = a + b\n",
    "    return c\n",
    "\"\"\""
   ]
  },
  {
   "cell_type": "code",
   "execution_count": 11,
   "metadata": {
    "ExecuteTime": {
     "end_time": "2020-01-01T10:14:33.038823Z",
     "start_time": "2020-01-01T10:14:33.019653Z"
    }
   },
   "outputs": [
    {
     "name": "stdout",
     "output_type": "stream",
     "text": [
      "('Module',\n",
      " {'body': [('FunctionDef',\n",
      "            {'args': ('arguments',\n",
      "                      {'args': [('arg', {'annotation': None, 'arg': \"'a'\"}),\n",
      "                                ('arg', {'annotation': None, 'arg': \"'b'\"})],\n",
      "                       'defaults': [],\n",
      "                       'kw_defaults': [],\n",
      "                       'kwarg': None,\n",
      "                       'kwonlyargs': [],\n",
      "                       'vararg': None}),\n",
      "             'body': [('Assign',\n",
      "                       {'targets': [('Name',\n",
      "                                     {'ctx': ('Store', {}), 'id': \"'c'\"})],\n",
      "                        'value': ('BinOp',\n",
      "                                  {'left': ('Name',\n",
      "                                            {'ctx': ('Load', {}), 'id': \"'a'\"}),\n",
      "                                   'op': ('Add', {}),\n",
      "                                   'right': ('Name',\n",
      "                                             {'ctx': ('Load', {}),\n",
      "                                              'id': \"'b'\"})})}),\n",
      "                      ('Return',\n",
      "                       {'value': ('Name',\n",
      "                                  {'ctx': ('Load', {}), 'id': \"'c'\"})})],\n",
      "             'decorator_list': [],\n",
      "             'name': \"'f'\",\n",
      "             'returns': None})]})\n"
     ]
    }
   ],
   "source": [
    "print(h.pformat_ast(ast.parse(func)))"
   ]
  }
 ],
 "metadata": {
  "kernelspec": {
   "display_name": "learning",
   "language": "python",
   "name": "learning"
  },
  "language_info": {
   "codemirror_mode": {
    "name": "ipython",
    "version": 3
   },
   "file_extension": ".py",
   "mimetype": "text/x-python",
   "name": "python",
   "nbconvert_exporter": "python",
   "pygments_lexer": "ipython3",
   "version": "3.7.5"
  },
  "toc": {
   "base_numbering": 1,
   "nav_menu": {},
   "number_sections": true,
   "sideBar": true,
   "skip_h1_title": false,
   "title_cell": "Table of Contents",
   "title_sidebar": "Contents",
   "toc_cell": false,
   "toc_position": {},
   "toc_section_display": true,
   "toc_window_display": false
  }
 },
 "nbformat": 4,
 "nbformat_minor": 2
}
