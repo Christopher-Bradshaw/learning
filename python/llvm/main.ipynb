{
 "cells": [
  {
   "cell_type": "markdown",
   "metadata": {},
   "source": [
    "# Python -> LLVM compiler"
   ]
  },
  {
   "cell_type": "code",
   "execution_count": 2,
   "metadata": {
    "ExecuteTime": {
     "end_time": "2020-01-03T22:26:22.827963Z",
     "start_time": "2020-01-03T22:26:22.770467Z"
    }
   },
   "outputs": [
    {
     "name": "stdout",
     "output_type": "stream",
     "text": [
      "The autoreload extension is already loaded. To reload it, use:\n",
      "  %reload_ext autoreload\n"
     ]
    },
    {
     "data": {
      "text/html": [
       "<style>.container { width:80% !important; }</style>"
      ],
      "text/plain": [
       "<IPython.core.display.HTML object>"
      ]
     },
     "metadata": {},
     "output_type": "display_data"
    }
   ],
   "source": [
    "%run ~/.jupyter/config.ipy"
   ]
  },
  {
   "cell_type": "code",
   "execution_count": 3,
   "metadata": {
    "ExecuteTime": {
     "end_time": "2020-01-03T22:26:23.051096Z",
     "start_time": "2020-01-03T22:26:22.934428Z"
    }
   },
   "outputs": [],
   "source": [
    "import ast_to_llvm.python_to_core as ptc\n",
    "import ast_to_llvm.core_to_llvm as ctl\n",
    "import ast_to_llvm.type_infer as ti\n",
    "from ast_to_llvm.toplevel import autojit\n",
    "\n",
    "from ctypes import CFUNCTYPE, c_double, c_int"
   ]
  },
  {
   "cell_type": "markdown",
   "metadata": {},
   "source": [
    "# Final"
   ]
  },
  {
   "cell_type": "code",
   "execution_count": 65,
   "metadata": {
    "ExecuteTime": {
     "end_time": "2020-01-03T23:35:29.386934Z",
     "start_time": "2020-01-03T23:35:29.358802Z"
    }
   },
   "outputs": [
    {
     "name": "stdout",
     "output_type": "stream",
     "text": [
      "[$1, $2] -> $ret_type\n",
      "[~$ret_type, ~$ret_type] -> ~$ret_type\n",
      "('Func',\n",
      " {'args': [('Var', {'ref': \"'a'\", 'type': ~$ret_type}),\n",
      "           ('Var', {'ref': \"'b'\", 'type': ~$ret_type})],\n",
      "  'body': [('Assign',\n",
      "            {'ref': \"'c'\",\n",
      "             'type': ~$ret_type,\n",
      "             'val': ('PrimOp',\n",
      "                     {'args': [('Var', {'ref': \"'a'\", 'type': ~$ret_type}),\n",
      "                               ('Var', {'ref': \"'b'\", 'type': ~$ret_type})],\n",
      "                      'fn': \"'add#'\"})}),\n",
      "           ('Return', {'val': ('Var', {'ref': \"'c'\", 'type': ~$ret_type})})],\n",
      "  'fname': \"'f'\"})\n"
     ]
    },
    {
     "data": {
      "text/plain": [
       "5"
      ]
     },
     "execution_count": 65,
     "metadata": {},
     "output_type": "execute_result"
    }
   ],
   "source": [
    "@autojit\n",
    "def f(a, b):\n",
    "    c = a + b\n",
    "    return c\n",
    "f(2, 3)"
   ]
  },
  {
   "cell_type": "markdown",
   "metadata": {},
   "source": [
    "# Unification"
   ]
  },
  {
   "cell_type": "code",
   "execution_count": 33,
   "metadata": {
    "ExecuteTime": {
     "end_time": "2020-01-03T22:47:49.329614Z",
     "start_time": "2020-01-03T22:47:49.318597Z"
    }
   },
   "outputs": [],
   "source": [
    "from unification import unify, var, reify"
   ]
  },
  {
   "cell_type": "code",
   "execution_count": 57,
   "metadata": {
    "ExecuteTime": {
     "end_time": "2020-01-03T23:24:46.566049Z",
     "start_time": "2020-01-03T23:24:46.518131Z"
    }
   },
   "outputs": [
    {
     "name": "stdout",
     "output_type": "stream",
     "text": [
      "{~x: ~y}\n"
     ]
    },
    {
     "data": {
      "text/plain": [
       "~y"
      ]
     },
     "execution_count": 57,
     "metadata": {},
     "output_type": "execute_result"
    }
   ],
   "source": [
    "x, y = var(\"x\"), var(\"y\")\n",
    "mgu = unify((1, x, y), (1, y, x))\n",
    "print(mgu)\n",
    "\n",
    "reify(x, mgu)"
   ]
  },
  {
   "cell_type": "markdown",
   "metadata": {
    "heading_collapsed": true
   },
   "source": [
    "# tests"
   ]
  },
  {
   "cell_type": "code",
   "execution_count": null,
   "metadata": {
    "hidden": true
   },
   "outputs": [],
   "source": [
    "func = \"\"\"\n",
    "def f(a, b):\n",
    "    c = a + b\n",
    "    return c\n",
    "\"\"\""
   ]
  },
  {
   "cell_type": "code",
   "execution_count": null,
   "metadata": {
    "hidden": true
   },
   "outputs": [],
   "source": [
    "core = ptc.PythonVisitor()(func)"
   ]
  },
  {
   "cell_type": "code",
   "execution_count": null,
   "metadata": {
    "hidden": true
   },
   "outputs": [],
   "source": [
    "ti.TypeInfer().visit(core)"
   ]
  },
  {
   "cell_type": "code",
   "execution_count": null,
   "metadata": {
    "hidden": true
   },
   "outputs": [],
   "source": [
    "f = ctl.LLVMEmitter().visit(core)"
   ]
  },
  {
   "cell_type": "code",
   "execution_count": null,
   "metadata": {
    "hidden": true
   },
   "outputs": [],
   "source": [
    "ctl.llvm_init()\n",
    "engine = ctl.create_llvm_engine()\n",
    "ctl.compile_code(engine, str(f))"
   ]
  },
  {
   "cell_type": "code",
   "execution_count": null,
   "metadata": {
    "hidden": true
   },
   "outputs": [],
   "source": [
    "func_ptr = engine.get_function_address(\"f\")\n",
    "cfunc = CFUNCTYPE(c_int, c_int, c_int)(func_ptr)\n",
    "res = cfunc(2, 5)\n",
    "print(\"f(...) =\", res)"
   ]
  }
 ],
 "metadata": {
  "kernelspec": {
   "display_name": "learning",
   "language": "python",
   "name": "learning"
  },
  "language_info": {
   "codemirror_mode": {
    "name": "ipython",
    "version": 3
   },
   "file_extension": ".py",
   "mimetype": "text/x-python",
   "name": "python",
   "nbconvert_exporter": "python",
   "pygments_lexer": "ipython3",
   "version": "3.7.5"
  },
  "toc": {
   "base_numbering": 1,
   "nav_menu": {},
   "number_sections": true,
   "sideBar": true,
   "skip_h1_title": false,
   "title_cell": "Table of Contents",
   "title_sidebar": "Contents",
   "toc_cell": false,
   "toc_position": {},
   "toc_section_display": true,
   "toc_window_display": false
  }
 },
 "nbformat": 4,
 "nbformat_minor": 2
}
