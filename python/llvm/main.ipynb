{
 "cells": [
  {
   "cell_type": "markdown",
   "metadata": {},
   "source": [
    "# Python -> LLVM compiler"
   ]
  },
  {
   "cell_type": "code",
   "execution_count": 2,
   "metadata": {
    "ExecuteTime": {
     "end_time": "2020-01-01T23:31:43.668738Z",
     "start_time": "2020-01-01T23:31:43.607222Z"
    }
   },
   "outputs": [
    {
     "name": "stdout",
     "output_type": "stream",
     "text": [
      "The autoreload extension is already loaded. To reload it, use:\n",
      "  %reload_ext autoreload\n"
     ]
    },
    {
     "data": {
      "text/html": [
       "<style>.container { width:80% !important; }</style>"
      ],
      "text/plain": [
       "<IPython.core.display.HTML object>"
      ]
     },
     "metadata": {},
     "output_type": "display_data"
    }
   ],
   "source": [
    "%run ~/.jupyter/config.ipy"
   ]
  },
  {
   "cell_type": "code",
   "execution_count": 3,
   "metadata": {
    "ExecuteTime": {
     "end_time": "2020-01-01T23:31:44.016365Z",
     "start_time": "2020-01-01T23:31:43.986426Z"
    }
   },
   "outputs": [],
   "source": [
    "import ast_to_llvm.python_to_core as ptc\n",
    "import ast_to_llvm.core_to_llvm as ctl"
   ]
  },
  {
   "cell_type": "markdown",
   "metadata": {},
   "source": [
    "# tests"
   ]
  },
  {
   "cell_type": "code",
   "execution_count": 4,
   "metadata": {
    "ExecuteTime": {
     "end_time": "2020-01-01T23:31:44.508276Z",
     "start_time": "2020-01-01T23:31:44.491717Z"
    }
   },
   "outputs": [],
   "source": [
    "func = \"\"\"\n",
    "def f(a, b):\n",
    "    c = a + b\n",
    "    return c\n",
    "\"\"\""
   ]
  },
  {
   "cell_type": "code",
   "execution_count": 7,
   "metadata": {
    "ExecuteTime": {
     "end_time": "2020-01-01T23:32:10.674970Z",
     "start_time": "2020-01-01T23:32:10.646757Z"
    },
    "collapsed": true
   },
   "outputs": [
    {
     "name": "stdout",
     "output_type": "stream",
     "text": [
      "\n",
      "def f(a, b):\n",
      "    c = a + b\n",
      "    return c\n",
      "\n",
      "CORE\n",
      "('Func',\n",
      " {'args': [('Var', {'ref': \"'a'\", 'type': None}),\n",
      "           ('Var', {'ref': \"'b'\", 'type': None})],\n",
      "  'body': [('Assign',\n",
      "            {'ref': \"'c'\",\n",
      "             'type': None,\n",
      "             'val': ('PrimOp',\n",
      "                     {'args': [('Var', {'ref': \"'a'\", 'type': None}),\n",
      "                               ('Var', {'ref': \"'b'\", 'type': None})],\n",
      "                      'fn': \"'add#'\"})}),\n",
      "           ('Return', {'val': \"'c'\"})],\n",
      "  'fname': \"'f'\"})\n"
     ]
    }
   ],
   "source": [
    "core = ptc.PythonVisitor()(func)[0]"
   ]
  },
  {
   "cell_type": "code",
   "execution_count": 12,
   "metadata": {
    "ExecuteTime": {
     "end_time": "2020-01-01T23:35:52.277800Z",
     "start_time": "2020-01-01T23:35:52.252106Z"
    }
   },
   "outputs": [
    {
     "name": "stdout",
     "output_type": "stream",
     "text": [
      "Visit Func\n",
      "('Func',\n",
      " {'args': [('Var', {'ref': \"'a'\", 'type': None}),\n",
      "           ('Var', {'ref': \"'b'\", 'type': None})],\n",
      "  'body': [('Assign',\n",
      "            {'ref': \"'c'\",\n",
      "             'type': None,\n",
      "             'val': ('PrimOp',\n",
      "                     {'args': [('Var', {'ref': \"'a'\", 'type': None}),\n",
      "                               ('Var', {'ref': \"'b'\", 'type': None})],\n",
      "                      'fn': \"'add#'\"})}),\n",
      "           ('Return', {'val': \"'c'\"})],\n",
      "  'fname': \"'f'\"})\n",
      "Visit Assign\n",
      "Visit PrimOp\n",
      "Visit Return\n"
     ]
    }
   ],
   "source": [
    "ctl.LLVMEmitter().visit(core)"
   ]
  }
 ],
 "metadata": {
  "kernelspec": {
   "display_name": "learning",
   "language": "python",
   "name": "learning"
  },
  "language_info": {
   "codemirror_mode": {
    "name": "ipython",
    "version": 3
   },
   "file_extension": ".py",
   "mimetype": "text/x-python",
   "name": "python",
   "nbconvert_exporter": "python",
   "pygments_lexer": "ipython3",
   "version": "3.7.5"
  },
  "toc": {
   "base_numbering": 1,
   "nav_menu": {},
   "number_sections": true,
   "sideBar": true,
   "skip_h1_title": false,
   "title_cell": "Table of Contents",
   "title_sidebar": "Contents",
   "toc_cell": false,
   "toc_position": {},
   "toc_section_display": true,
   "toc_window_display": false
  }
 },
 "nbformat": 4,
 "nbformat_minor": 2
}
