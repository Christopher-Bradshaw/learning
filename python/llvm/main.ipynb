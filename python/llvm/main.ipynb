{
 "cells": [
  {
   "cell_type": "markdown",
   "metadata": {},
   "source": [
    "# Python -> LLVM compiler"
   ]
  },
  {
   "cell_type": "code",
   "execution_count": 1,
   "metadata": {
    "ExecuteTime": {
     "end_time": "2020-01-01T10:44:22.566744Z",
     "start_time": "2020-01-01T10:44:22.320427Z"
    }
   },
   "outputs": [
    {
     "data": {
      "text/html": [
       "<style>.container { width:80% !important; }</style>"
      ],
      "text/plain": [
       "<IPython.core.display.HTML object>"
      ]
     },
     "metadata": {},
     "output_type": "display_data"
    }
   ],
   "source": [
    "%run ~/.jupyter/config.ipy"
   ]
  },
  {
   "cell_type": "code",
   "execution_count": 2,
   "metadata": {
    "ExecuteTime": {
     "end_time": "2020-01-01T10:44:22.587815Z",
     "start_time": "2020-01-01T10:44:22.570729Z"
    }
   },
   "outputs": [],
   "source": [
    "import ast_to_llvm.python_to_core as ptc"
   ]
  },
  {
   "cell_type": "markdown",
   "metadata": {},
   "source": [
    "# tests"
   ]
  },
  {
   "cell_type": "code",
   "execution_count": 3,
   "metadata": {
    "ExecuteTime": {
     "end_time": "2020-01-01T10:44:22.602996Z",
     "start_time": "2020-01-01T10:44:22.591351Z"
    }
   },
   "outputs": [],
   "source": [
    "func = \"\"\"\n",
    "def f(a, b):\n",
    "    c = a + b\n",
    "    return c\n",
    "\"\"\""
   ]
  },
  {
   "cell_type": "code",
   "execution_count": 9,
   "metadata": {
    "ExecuteTime": {
     "end_time": "2020-01-01T10:51:14.556807Z",
     "start_time": "2020-01-01T10:51:14.542278Z"
    }
   },
   "outputs": [
    {
     "name": "stdout",
     "output_type": "stream",
     "text": [
      "\n",
      "def f(a, b):\n",
      "    c = a + b\n",
      "    return c\n",
      "\n",
      "Module visitor\n",
      "('Module',\n",
      " {'body': [('FunctionDef',\n",
      "            {'args': ('arguments',\n",
      "                      {'args': [('arg', {'annotation': None, 'arg': \"'a'\"}),\n",
      "                                ('arg', {'annotation': None, 'arg': \"'b'\"})],\n",
      "                       'defaults': [],\n",
      "                       'kw_defaults': [],\n",
      "                       'kwarg': None,\n",
      "                       'kwonlyargs': [],\n",
      "                       'vararg': None}),\n",
      "             'body': [('Assign',\n",
      "                       {'targets': [('Name',\n",
      "                                     {'ctx': ('Store', {}), 'id': \"'c'\"})],\n",
      "                        'value': ('BinOp',\n",
      "                                  {'left': ('Name',\n",
      "                                            {'ctx': ('Load', {}), 'id': \"'a'\"}),\n",
      "                                   'op': ('Add', {}),\n",
      "                                   'right': ('Name',\n",
      "                                             {'ctx': ('Load', {}),\n",
      "                                              'id': \"'b'\"})})}),\n",
      "                      ('Return',\n",
      "                       {'value': ('Name',\n",
      "                                  {'ctx': ('Load', {}), 'id': \"'c'\"})})],\n",
      "             'decorator_list': [],\n",
      "             'name': \"'f'\",\n",
      "             'returns': None})]})\n",
      "Function visitor\n",
      "[<_ast.Assign object at 0x7fa2e93a05d0>, <_ast.Return object at 0x7fa30c168ad0>]\n",
      "Assign visitor\n",
      "BinOp visitor\n",
      "c <ast_to_llvm.core.PrimOp object at 0x7fa2e9118950>\n",
      "Return visitor\n",
      "[None]\n"
     ]
    }
   ],
   "source": [
    "c = ptc.PythonVisitor()\n",
    "c(func)"
   ]
  }
 ],
 "metadata": {
  "kernelspec": {
   "display_name": "learning",
   "language": "python",
   "name": "learning"
  },
  "language_info": {
   "codemirror_mode": {
    "name": "ipython",
    "version": 3
   },
   "file_extension": ".py",
   "mimetype": "text/x-python",
   "name": "python",
   "nbconvert_exporter": "python",
   "pygments_lexer": "ipython3",
   "version": "3.7.5"
  },
  "toc": {
   "base_numbering": 1,
   "nav_menu": {},
   "number_sections": true,
   "sideBar": true,
   "skip_h1_title": false,
   "title_cell": "Table of Contents",
   "title_sidebar": "Contents",
   "toc_cell": false,
   "toc_position": {},
   "toc_section_display": true,
   "toc_window_display": false
  }
 },
 "nbformat": 4,
 "nbformat_minor": 2
}
