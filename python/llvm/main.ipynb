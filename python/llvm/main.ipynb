{
 "cells": [
  {
   "cell_type": "markdown",
   "metadata": {},
   "source": [
    "# Python -> LLVM compiler"
   ]
  },
  {
   "cell_type": "code",
   "execution_count": 2,
   "metadata": {
    "ExecuteTime": {
     "end_time": "2020-01-02T16:18:25.816526Z",
     "start_time": "2020-01-02T16:18:25.748708Z"
    }
   },
   "outputs": [
    {
     "name": "stdout",
     "output_type": "stream",
     "text": [
      "The autoreload extension is already loaded. To reload it, use:\n",
      "  %reload_ext autoreload\n"
     ]
    },
    {
     "data": {
      "text/html": [
       "<style>.container { width:80% !important; }</style>"
      ],
      "text/plain": [
       "<IPython.core.display.HTML object>"
      ]
     },
     "metadata": {},
     "output_type": "display_data"
    }
   ],
   "source": [
    "%run ~/.jupyter/config.ipy"
   ]
  },
  {
   "cell_type": "code",
   "execution_count": 3,
   "metadata": {
    "ExecuteTime": {
     "end_time": "2020-01-02T16:18:26.019929Z",
     "start_time": "2020-01-02T16:18:25.912395Z"
    }
   },
   "outputs": [],
   "source": [
    "import ast_to_llvm.python_to_core as ptc\n",
    "import ast_to_llvm.core_to_llvm as ctl\n",
    "\n",
    "from ctypes import CFUNCTYPE, c_double, c_int"
   ]
  },
  {
   "cell_type": "markdown",
   "metadata": {},
   "source": [
    "# tests"
   ]
  },
  {
   "cell_type": "code",
   "execution_count": 23,
   "metadata": {
    "ExecuteTime": {
     "end_time": "2020-01-02T16:28:56.298942Z",
     "start_time": "2020-01-02T16:28:56.287153Z"
    }
   },
   "outputs": [],
   "source": [
    "func = \"\"\"\n",
    "def f(a, b):\n",
    "    c = a + b\n",
    "    return c\n",
    "\"\"\""
   ]
  },
  {
   "cell_type": "code",
   "execution_count": 24,
   "metadata": {
    "ExecuteTime": {
     "end_time": "2020-01-02T16:28:58.719689Z",
     "start_time": "2020-01-02T16:28:58.702333Z"
    }
   },
   "outputs": [
    {
     "name": "stdout",
     "output_type": "stream",
     "text": [
      "\n",
      "def f(a, b):\n",
      "    c = a + b\n",
      "    return c\n",
      "\n",
      "PYTHON\n",
      "('Module',\n",
      " {'body': [('FunctionDef',\n",
      "            {'args': ('arguments',\n",
      "                      {'args': [('arg', {'annotation': None, 'arg': \"'a'\"}),\n",
      "                                ('arg', {'annotation': None, 'arg': \"'b'\"})],\n",
      "                       'defaults': [],\n",
      "                       'kw_defaults': [],\n",
      "                       'kwarg': None,\n",
      "                       'kwonlyargs': [],\n",
      "                       'vararg': None}),\n",
      "             'body': [('Assign',\n",
      "                       {'targets': [('Name',\n",
      "                                     {'ctx': ('Store', {}), 'id': \"'c'\"})],\n",
      "                        'value': ('BinOp',\n",
      "                                  {'left': ('Name',\n",
      "                                            {'ctx': ('Load', {}), 'id': \"'a'\"}),\n",
      "                                   'op': ('Add', {}),\n",
      "                                   'right': ('Name',\n",
      "                                             {'ctx': ('Load', {}),\n",
      "                                              'id': \"'b'\"})})}),\n",
      "                      ('Return',\n",
      "                       {'value': ('Name',\n",
      "                                  {'ctx': ('Load', {}), 'id': \"'c'\"})})],\n",
      "             'decorator_list': [],\n",
      "             'name': \"'f'\",\n",
      "             'returns': None})]})\n",
      "CORE\n",
      "('Func',\n",
      " {'args': [('Var', {'ref': \"'a'\", 'type': None}),\n",
      "           ('Var', {'ref': \"'b'\", 'type': None})],\n",
      "  'body': [('Assign',\n",
      "            {'ref': \"'c'\",\n",
      "             'type': None,\n",
      "             'val': ('PrimOp',\n",
      "                     {'args': [('Var', {'ref': \"'a'\", 'type': None}),\n",
      "                               ('Var', {'ref': \"'b'\", 'type': None})],\n",
      "                      'fn': \"'add#'\"})}),\n",
      "           ('Return', {'val': ('Var', {'ref': \"'c'\", 'type': None})})],\n",
      "  'fname': \"'f'\"})\n"
     ]
    }
   ],
   "source": [
    "core = ptc.PythonVisitor()(func)[0]"
   ]
  },
  {
   "cell_type": "code",
   "execution_count": 28,
   "metadata": {
    "ExecuteTime": {
     "end_time": "2020-01-02T16:31:39.546425Z",
     "start_time": "2020-01-02T16:31:39.524975Z"
    }
   },
   "outputs": [
    {
     "name": "stdout",
     "output_type": "stream",
     "text": [
      "CORE\n",
      "('Func',\n",
      " {'args': [('Var', {'ref': \"'a'\", 'type': None}),\n",
      "           ('Var', {'ref': \"'b'\", 'type': None})],\n",
      "  'body': [('Assign',\n",
      "            {'ref': \"'c'\",\n",
      "             'type': None,\n",
      "             'val': ('PrimOp',\n",
      "                     {'args': [('Var', {'ref': \"'a'\", 'type': None}),\n",
      "                               ('Var', {'ref': \"'b'\", 'type': None})],\n",
      "                      'fn': \"'add#'\"})}),\n",
      "           ('Return', {'val': ('Var', {'ref': \"'c'\", 'type': None})})],\n",
      "  'fname': \"'f'\"})\n",
      "\n",
      "LLVM\n",
      "define i32 @\"fname\"(i32 %\".1\", i32 %\".2\") \n",
      "{\n",
      "entry:\n",
      "  %\"a\" = alloca i32\n",
      "  store i32 %\".1\", i32* %\"a\"\n",
      "  %\"b\" = alloca i32\n",
      "  store i32 %\".2\", i32* %\"b\"\n",
      "  %\".6\" = load i32, i32* %\"a\"\n",
      "  %\".7\" = load i32, i32* %\"b\"\n",
      "  %\".8\" = add i32 %\".6\", %\".7\"\n",
      "  %\"c\" = alloca i32\n",
      "  store i32 %\".8\", i32* %\"c\"\n",
      "  %\".10\" = load i32, i32* %\"c\"\n",
      "  ret i32 %\".10\"\n",
      "}\n",
      "\n"
     ]
    }
   ],
   "source": [
    "f = ctl.LLVMEmitter().visit(core)"
   ]
  },
  {
   "cell_type": "code",
   "execution_count": 26,
   "metadata": {
    "ExecuteTime": {
     "end_time": "2020-01-02T16:28:59.656029Z",
     "start_time": "2020-01-02T16:28:59.635488Z"
    }
   },
   "outputs": [],
   "source": [
    "ctl.llvm_init()\n",
    "engine = ctl.create_llvm_engine()\n",
    "ctl.compile_code(engine, str(f))"
   ]
  },
  {
   "cell_type": "code",
   "execution_count": 27,
   "metadata": {
    "ExecuteTime": {
     "end_time": "2020-01-02T16:29:01.381410Z",
     "start_time": "2020-01-02T16:29:01.361895Z"
    }
   },
   "outputs": [
    {
     "name": "stdout",
     "output_type": "stream",
     "text": [
      "fname(...) = 5\n"
     ]
    }
   ],
   "source": [
    "func_ptr = engine.get_function_address(\"fname\")\n",
    "cfunc = CFUNCTYPE(c_int, c_int, c_int)(func_ptr)\n",
    "res = cfunc(2, 3)\n",
    "print(\"fname(...) =\", res)"
   ]
  },
  {
   "cell_type": "code",
   "execution_count": null,
   "metadata": {},
   "outputs": [],
   "source": []
  }
 ],
 "metadata": {
  "kernelspec": {
   "display_name": "learning",
   "language": "python",
   "name": "learning"
  },
  "language_info": {
   "codemirror_mode": {
    "name": "ipython",
    "version": 3
   },
   "file_extension": ".py",
   "mimetype": "text/x-python",
   "name": "python",
   "nbconvert_exporter": "python",
   "pygments_lexer": "ipython3",
   "version": "3.7.5"
  },
  "toc": {
   "base_numbering": 1,
   "nav_menu": {},
   "number_sections": true,
   "sideBar": true,
   "skip_h1_title": false,
   "title_cell": "Table of Contents",
   "title_sidebar": "Contents",
   "toc_cell": false,
   "toc_position": {},
   "toc_section_display": true,
   "toc_window_display": false
  }
 },
 "nbformat": 4,
 "nbformat_minor": 2
}
