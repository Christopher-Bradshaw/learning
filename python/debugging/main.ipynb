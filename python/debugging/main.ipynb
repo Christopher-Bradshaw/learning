{
 "cells": [
  {
   "cell_type": "markdown",
   "metadata": {},
   "source": [
    "# Debugging"
   ]
  },
  {
   "cell_type": "markdown",
   "metadata": {},
   "source": [
    "Other things to maybe look into:\n",
    "* https://github.com/gruns/icecream\n",
    "* https://github.com/cool-RR/pysnooper"
   ]
  },
  {
   "cell_type": "markdown",
   "metadata": {},
   "source": [
    "## Postmortem debugging"
   ]
  },
  {
   "cell_type": "markdown",
   "metadata": {},
   "source": [
    "I wrote this great code! Unfortunately it is going to crash (there will be an unhandled exception)...\n",
    "\n",
    "But afterwards I can inspect the stack at the time using `pdb.pm` (pdb postmortem).\n",
    "\n",
    "When there is an unhandled exception, Python stores a bunch of information in [sys.last_traceback](https://docs.python.org/3.2/library/sys.html#sys.last_traceback). This is where `pdb.pm` pulls the info from."
   ]
  },
  {
   "cell_type": "code",
   "execution_count": 1,
   "metadata": {
    "ExecuteTime": {
     "end_time": "2019-05-15T20:01:06.729732Z",
     "start_time": "2019-05-15T20:01:06.666022Z"
    }
   },
   "outputs": [
    {
     "ename": "TypeError",
     "evalue": "unsupported operand type(s) for +: 'int' and 'list'",
     "output_type": "error",
     "traceback": [
      "\u001b[0;31m---------------------------------------------------------------------------\u001b[0m",
      "\u001b[0;31mTypeError\u001b[0m                                 Traceback (most recent call last)",
      "\u001b[0;32m<ipython-input-1-0eae50b1b6cc>\u001b[0m in \u001b[0;36m<module>\u001b[0;34m\u001b[0m\n\u001b[1;32m      1\u001b[0m \u001b[0ma\u001b[0m \u001b[0;34m=\u001b[0m \u001b[0;36m2\u001b[0m\u001b[0;34m\u001b[0m\u001b[0;34m\u001b[0m\u001b[0m\n\u001b[1;32m      2\u001b[0m \u001b[0mb\u001b[0m \u001b[0;34m=\u001b[0m \u001b[0;34m[\u001b[0m\u001b[0;36m1\u001b[0m\u001b[0;34m,\u001b[0m\u001b[0;36m2\u001b[0m\u001b[0;34m,\u001b[0m\u001b[0;36m3\u001b[0m\u001b[0;34m]\u001b[0m\u001b[0;34m\u001b[0m\u001b[0;34m\u001b[0m\u001b[0m\n\u001b[0;32m----> 3\u001b[0;31m \u001b[0ma\u001b[0m \u001b[0;34m+\u001b[0m \u001b[0mb\u001b[0m\u001b[0;34m\u001b[0m\u001b[0;34m\u001b[0m\u001b[0m\n\u001b[0m",
      "\u001b[0;31mTypeError\u001b[0m: unsupported operand type(s) for +: 'int' and 'list'"
     ]
    }
   ],
   "source": [
    "a = 2\n",
    "b = [1,2,3]\n",
    "a + b"
   ]
  },
  {
   "cell_type": "code",
   "execution_count": 2,
   "metadata": {
    "ExecuteTime": {
     "end_time": "2019-05-15T20:01:27.778802Z",
     "start_time": "2019-05-15T20:01:08.270590Z"
    }
   },
   "outputs": [
    {
     "name": "stdout",
     "output_type": "stream",
     "text": [
      "> <ipython-input-1-0eae50b1b6cc>(3)<module>()\n",
      "-> a + b\n",
      "(Pdb) print(a)\n",
      "2\n",
      "(Pdb) print(b)\n",
      "[1, 2, 3]\n",
      "(Pdb) exit\n"
     ]
    }
   ],
   "source": [
    "import pdb; pdb.pm()"
   ]
  },
  {
   "cell_type": "markdown",
   "metadata": {},
   "source": [
    "## Auto postmortem debugging"
   ]
  },
  {
   "cell_type": "markdown",
   "metadata": {},
   "source": [
    "If you always want to get dropped into a debugger on an error you can set that up with the pdb magic. I find this a little bit annoying (often the error is obvious and I don't need the debugger and typing `exit` is so hard...) so tend to leave it off."
   ]
  },
  {
   "cell_type": "code",
   "execution_count": 1,
   "metadata": {
    "ExecuteTime": {
     "end_time": "2019-06-10T04:45:28.003033Z",
     "start_time": "2019-06-10T04:45:24.483164Z"
    }
   },
   "outputs": [
    {
     "name": "stdout",
     "output_type": "stream",
     "text": [
      "Automatic pdb calling has been turned ON\n"
     ]
    },
    {
     "ename": "NameError",
     "evalue": "name 'a' is not defined",
     "output_type": "error",
     "traceback": [
      "\u001b[0;31m---------------------------------------------------------------------------\u001b[0m",
      "\u001b[0;31mNameError\u001b[0m                                 Traceback (most recent call last)",
      "\u001b[0;32m<ipython-input-1-89736cf0aa47>\u001b[0m in \u001b[0;36m<module>\u001b[0;34m\u001b[0m\n\u001b[1;32m      1\u001b[0m \u001b[0mget_ipython\u001b[0m\u001b[0;34m(\u001b[0m\u001b[0;34m)\u001b[0m\u001b[0;34m.\u001b[0m\u001b[0mrun_line_magic\u001b[0m\u001b[0;34m(\u001b[0m\u001b[0;34m'pdb'\u001b[0m\u001b[0;34m,\u001b[0m \u001b[0;34m'1'\u001b[0m\u001b[0;34m)\u001b[0m\u001b[0;34m\u001b[0m\u001b[0;34m\u001b[0m\u001b[0m\n\u001b[0;32m----> 2\u001b[0;31m \u001b[0ma\u001b[0m \u001b[0;34m+\u001b[0m \u001b[0mb\u001b[0m\u001b[0;34m\u001b[0m\u001b[0;34m\u001b[0m\u001b[0m\n\u001b[0m",
      "\u001b[0;31mNameError\u001b[0m: name 'a' is not defined"
     ]
    },
    {
     "name": "stdout",
     "output_type": "stream",
     "text": [
      "> \u001b[0;32m<ipython-input-1-89736cf0aa47>\u001b[0m(2)\u001b[0;36m<module>\u001b[0;34m()\u001b[0m\n",
      "\u001b[0;32m      1 \u001b[0;31m\u001b[0mget_ipython\u001b[0m\u001b[0;34m(\u001b[0m\u001b[0;34m)\u001b[0m\u001b[0;34m.\u001b[0m\u001b[0mrun_line_magic\u001b[0m\u001b[0;34m(\u001b[0m\u001b[0;34m'pdb'\u001b[0m\u001b[0;34m,\u001b[0m \u001b[0;34m'1'\u001b[0m\u001b[0;34m)\u001b[0m\u001b[0;34m\u001b[0m\u001b[0;34m\u001b[0m\u001b[0m\n",
      "\u001b[0m\u001b[0;32m----> 2 \u001b[0;31m\u001b[0ma\u001b[0m \u001b[0;34m+\u001b[0m \u001b[0mb\u001b[0m\u001b[0;34m\u001b[0m\u001b[0;34m\u001b[0m\u001b[0m\n",
      "\u001b[0m\n",
      "ipdb> exit\n"
     ]
    }
   ],
   "source": [
    "%pdb 1\n",
    "a + b"
   ]
  },
  {
   "cell_type": "code",
   "execution_count": 4,
   "metadata": {
    "ExecuteTime": {
     "end_time": "2019-06-10T04:45:45.901801Z",
     "start_time": "2019-06-10T04:45:45.897153Z"
    }
   },
   "outputs": [
    {
     "name": "stdout",
     "output_type": "stream",
     "text": [
      "Automatic pdb calling has been turned OFF\n"
     ]
    }
   ],
   "source": [
    "%pdb 0\n",
    "# Leave this turned off"
   ]
  },
  {
   "cell_type": "markdown",
   "metadata": {},
   "source": [
    "## Premortem "
   ]
  },
  {
   "cell_type": "markdown",
   "metadata": {},
   "source": [
    "Sometimes you are writing code that you just want to check really thoroughly to make sure everything is happening as you imagined. Premortem debugging (stepping though) is useful then.\n",
    "\n",
    "Slightly weird things happen if you put the `pdb.set_trace` outside of a function. The `n` steps into `IPython.core` code which you probably don't want. See [here](https://stackoverflow.com/questions/46495269/debuggers-not-acting-properly-on-jupyter-notebooks).\n",
    "\n",
    "If you do want to start traces outside of functions (a totally reasonable thing!) I would suggest just setting a breakpoint on the next line."
   ]
  },
  {
   "cell_type": "code",
   "execution_count": 1,
   "metadata": {
    "ExecuteTime": {
     "end_time": "2019-02-02T00:28:43.096345Z",
     "start_time": "2019-02-02T00:28:23.259733Z"
    }
   },
   "outputs": [
    {
     "name": "stdout",
     "output_type": "stream",
     "text": [
      "--Return--\n",
      "> <ipython-input-1-a87650b633d8>(8)<module>()->None\n",
      "-> import pdb;pdb.set_trace()\n",
      "(Pdb) l\n",
      "  3  \t        return 1\n",
      "  4  \t    else:\n",
      "  5  \t        return 0\n",
      "  6  \t\n",
      "  7  \t# Ahh this is to complicated for me to think all the way through\n",
      "  8  ->\timport pdb;pdb.set_trace()\n",
      "  9  \tbinarize(2, 1)\n",
      "[EOF]\n",
      "(Pdb) b 9\n",
      "Breakpoint 1 at <ipython-input-1-a87650b633d8>:9\n",
      "(Pdb) c\n",
      "> <ipython-input-1-a87650b633d8>(9)<module>()->None\n",
      "-> binarize(2, 1)\n",
      "(Pdb) s\n",
      "--Call--\n",
      "> <ipython-input-1-a87650b633d8>(1)binarize()\n",
      "-> def binarize(x, threshold):\n",
      "(Pdb) print(\"etc etc\")\n",
      "etc etc\n",
      "(Pdb) exit\n"
     ]
    },
    {
     "ename": "BdbQuit",
     "evalue": "",
     "output_type": "error",
     "traceback": [
      "\u001b[0;31m---------------------------------------------------------------------------\u001b[0m",
      "\u001b[0;31mBdbQuit\u001b[0m                                   Traceback (most recent call last)",
      "\u001b[0;32m<ipython-input-1-a87650b633d8>\u001b[0m in \u001b[0;36m<module>\u001b[0;34m\u001b[0m\n\u001b[1;32m      7\u001b[0m \u001b[0;31m# Ahh this is to complicated for me to think all the way through\u001b[0m\u001b[0;34m\u001b[0m\u001b[0;34m\u001b[0m\u001b[0;34m\u001b[0m\u001b[0m\n\u001b[1;32m      8\u001b[0m \u001b[0;32mimport\u001b[0m \u001b[0mpdb\u001b[0m\u001b[0;34m;\u001b[0m\u001b[0mpdb\u001b[0m\u001b[0;34m.\u001b[0m\u001b[0mset_trace\u001b[0m\u001b[0;34m(\u001b[0m\u001b[0;34m)\u001b[0m\u001b[0;34m\u001b[0m\u001b[0;34m\u001b[0m\u001b[0m\n\u001b[0;32m----> 9\u001b[0;31m \u001b[0mbinarize\u001b[0m\u001b[0;34m(\u001b[0m\u001b[0;36m2\u001b[0m\u001b[0;34m,\u001b[0m \u001b[0;36m1\u001b[0m\u001b[0;34m)\u001b[0m\u001b[0;34m\u001b[0m\u001b[0;34m\u001b[0m\u001b[0m\n\u001b[0m",
      "\u001b[0;32m<ipython-input-1-a87650b633d8>\u001b[0m in \u001b[0;36mbinarize\u001b[0;34m(x, threshold)\u001b[0m\n\u001b[0;32m----> 1\u001b[0;31m \u001b[0;32mdef\u001b[0m \u001b[0mbinarize\u001b[0m\u001b[0;34m(\u001b[0m\u001b[0mx\u001b[0m\u001b[0;34m,\u001b[0m \u001b[0mthreshold\u001b[0m\u001b[0;34m)\u001b[0m\u001b[0;34m:\u001b[0m\u001b[0;34m\u001b[0m\u001b[0;34m\u001b[0m\u001b[0m\n\u001b[0m\u001b[1;32m      2\u001b[0m     \u001b[0;32mif\u001b[0m \u001b[0mx\u001b[0m \u001b[0;34m>\u001b[0m \u001b[0mthreshold\u001b[0m\u001b[0;34m:\u001b[0m\u001b[0;34m\u001b[0m\u001b[0;34m\u001b[0m\u001b[0m\n\u001b[1;32m      3\u001b[0m         \u001b[0;32mreturn\u001b[0m \u001b[0;36m1\u001b[0m\u001b[0;34m\u001b[0m\u001b[0;34m\u001b[0m\u001b[0m\n\u001b[1;32m      4\u001b[0m     \u001b[0;32melse\u001b[0m\u001b[0;34m:\u001b[0m\u001b[0;34m\u001b[0m\u001b[0;34m\u001b[0m\u001b[0m\n\u001b[1;32m      5\u001b[0m         \u001b[0;32mreturn\u001b[0m \u001b[0;36m0\u001b[0m\u001b[0;34m\u001b[0m\u001b[0;34m\u001b[0m\u001b[0m\n",
      "\u001b[0;32m/usr/lib64/python3.6/bdb.py\u001b[0m in \u001b[0;36mtrace_dispatch\u001b[0;34m(self, frame, event, arg)\u001b[0m\n\u001b[1;32m     51\u001b[0m             \u001b[0;32mreturn\u001b[0m \u001b[0mself\u001b[0m\u001b[0;34m.\u001b[0m\u001b[0mdispatch_line\u001b[0m\u001b[0;34m(\u001b[0m\u001b[0mframe\u001b[0m\u001b[0;34m)\u001b[0m\u001b[0;34m\u001b[0m\u001b[0;34m\u001b[0m\u001b[0m\n\u001b[1;32m     52\u001b[0m         \u001b[0;32mif\u001b[0m \u001b[0mevent\u001b[0m \u001b[0;34m==\u001b[0m \u001b[0;34m'call'\u001b[0m\u001b[0;34m:\u001b[0m\u001b[0;34m\u001b[0m\u001b[0;34m\u001b[0m\u001b[0m\n\u001b[0;32m---> 53\u001b[0;31m             \u001b[0;32mreturn\u001b[0m \u001b[0mself\u001b[0m\u001b[0;34m.\u001b[0m\u001b[0mdispatch_call\u001b[0m\u001b[0;34m(\u001b[0m\u001b[0mframe\u001b[0m\u001b[0;34m,\u001b[0m \u001b[0marg\u001b[0m\u001b[0;34m)\u001b[0m\u001b[0;34m\u001b[0m\u001b[0;34m\u001b[0m\u001b[0m\n\u001b[0m\u001b[1;32m     54\u001b[0m         \u001b[0;32mif\u001b[0m \u001b[0mevent\u001b[0m \u001b[0;34m==\u001b[0m \u001b[0;34m'return'\u001b[0m\u001b[0;34m:\u001b[0m\u001b[0;34m\u001b[0m\u001b[0;34m\u001b[0m\u001b[0m\n\u001b[1;32m     55\u001b[0m             \u001b[0;32mreturn\u001b[0m \u001b[0mself\u001b[0m\u001b[0;34m.\u001b[0m\u001b[0mdispatch_return\u001b[0m\u001b[0;34m(\u001b[0m\u001b[0mframe\u001b[0m\u001b[0;34m,\u001b[0m \u001b[0marg\u001b[0m\u001b[0;34m)\u001b[0m\u001b[0;34m\u001b[0m\u001b[0;34m\u001b[0m\u001b[0m\n",
      "\u001b[0;32m/usr/lib64/python3.6/bdb.py\u001b[0m in \u001b[0;36mdispatch_call\u001b[0;34m(self, frame, arg)\u001b[0m\n\u001b[1;32m     84\u001b[0m             \u001b[0;32mreturn\u001b[0m \u001b[0mself\u001b[0m\u001b[0;34m.\u001b[0m\u001b[0mtrace_dispatch\u001b[0m\u001b[0;34m\u001b[0m\u001b[0;34m\u001b[0m\u001b[0m\n\u001b[1;32m     85\u001b[0m         \u001b[0mself\u001b[0m\u001b[0;34m.\u001b[0m\u001b[0muser_call\u001b[0m\u001b[0;34m(\u001b[0m\u001b[0mframe\u001b[0m\u001b[0;34m,\u001b[0m \u001b[0marg\u001b[0m\u001b[0;34m)\u001b[0m\u001b[0;34m\u001b[0m\u001b[0;34m\u001b[0m\u001b[0m\n\u001b[0;32m---> 86\u001b[0;31m         \u001b[0;32mif\u001b[0m \u001b[0mself\u001b[0m\u001b[0;34m.\u001b[0m\u001b[0mquitting\u001b[0m\u001b[0;34m:\u001b[0m \u001b[0;32mraise\u001b[0m \u001b[0mBdbQuit\u001b[0m\u001b[0;34m\u001b[0m\u001b[0;34m\u001b[0m\u001b[0m\n\u001b[0m\u001b[1;32m     87\u001b[0m         \u001b[0;32mreturn\u001b[0m \u001b[0mself\u001b[0m\u001b[0;34m.\u001b[0m\u001b[0mtrace_dispatch\u001b[0m\u001b[0;34m\u001b[0m\u001b[0;34m\u001b[0m\u001b[0m\n\u001b[1;32m     88\u001b[0m \u001b[0;34m\u001b[0m\u001b[0m\n",
      "\u001b[0;31mBdbQuit\u001b[0m: "
     ]
    }
   ],
   "source": [
    "def binarize(x, threshold):\n",
    "    if x > threshold:\n",
    "        return 1\n",
    "    else:\n",
    "        return 0\n",
    "\n",
    "# Ahh this is to complicated for me to think all the way through\n",
    "import pdb;pdb.set_trace()\n",
    "binarize(2, 1)\n"
   ]
  },
  {
   "cell_type": "markdown",
   "metadata": {},
   "source": [
    "In Python 3.7, this is even easier with the [breakpoink](https://www.python.org/dev/peps/pep-0553/) builtin. You can just replace `import pdb; pdb.set_trace()` with this. E.g."
   ]
  },
  {
   "cell_type": "code",
   "execution_count": 5,
   "metadata": {
    "ExecuteTime": {
     "end_time": "2019-05-15T20:04:09.738030Z",
     "start_time": "2019-05-15T20:04:07.338336Z"
    }
   },
   "outputs": [
    {
     "name": "stdout",
     "output_type": "stream",
     "text": [
      "> <ipython-input-5-06c5769ebd16>(3)f()\n",
      "-> return a + b\n",
      "(Pdb) c\n"
     ]
    },
    {
     "data": {
      "text/plain": [
       "4"
      ]
     },
     "execution_count": 5,
     "metadata": {},
     "output_type": "execute_result"
    }
   ],
   "source": [
    "def f(a, b):\n",
    "    breakpoint()\n",
    "    return a + b\n",
    "\n",
    "f(1, 3)"
   ]
  },
  {
   "cell_type": "markdown",
   "metadata": {},
   "source": [
    "## Better print debugging"
   ]
  },
  {
   "cell_type": "markdown",
   "metadata": {
    "heading_collapsed": true
   },
   "source": [
    "### Icecream"
   ]
  },
  {
   "cell_type": "markdown",
   "metadata": {
    "hidden": true
   },
   "source": [
    "You are (I am) going to start off doing print debugging. I don't think this is too bad. However there are some things that can make print debugging better."
   ]
  },
  {
   "cell_type": "code",
   "execution_count": 14,
   "metadata": {
    "ExecuteTime": {
     "end_time": "2019-05-15T20:14:21.340018Z",
     "start_time": "2019-05-15T20:14:21.337501Z"
    },
    "hidden": true
   },
   "outputs": [],
   "source": [
    "from icecream import ic"
   ]
  },
  {
   "cell_type": "markdown",
   "metadata": {
    "hidden": true
   },
   "source": [
    "Inspects the line + values"
   ]
  },
  {
   "cell_type": "code",
   "execution_count": 13,
   "metadata": {
    "ExecuteTime": {
     "end_time": "2019-05-15T20:14:16.414817Z",
     "start_time": "2019-05-15T20:14:16.349579Z"
    },
    "hidden": true
   },
   "outputs": [
    {
     "name": "stderr",
     "output_type": "stream",
     "text": [
      "ic| 2 + f(a): 6\n",
      "ic| \"two\" + f(b): 'twohellohello'\n"
     ]
    },
    {
     "data": {
      "text/plain": [
       "'twohellohello'"
      ]
     },
     "execution_count": 13,
     "metadata": {},
     "output_type": "execute_result"
    }
   ],
   "source": [
    "a, b = 2, \"hello\"\n",
    "\n",
    "def f(a):\n",
    "    return a + a\n",
    "ic(2 + f(a))\n",
    "ic(\"two\" + f(b))"
   ]
  },
  {
   "cell_type": "markdown",
   "metadata": {
    "hidden": true
   },
   "source": [
    "Can tell you what was executed."
   ]
  },
  {
   "cell_type": "code",
   "execution_count": 15,
   "metadata": {
    "ExecuteTime": {
     "end_time": "2019-05-15T20:15:13.804937Z",
     "start_time": "2019-05-15T20:15:13.757205Z"
    },
    "hidden": true
   },
   "outputs": [
    {
     "name": "stderr",
     "output_type": "stream",
     "text": [
      "ic| <ipython-input-15-06f16a680673>:6 in <module> at 20:15:13.766\n"
     ]
    }
   ],
   "source": [
    "a = 17\n",
    "if a > 20:\n",
    "    ic()\n",
    "    # do some stuff\n",
    "else:\n",
    "    ic()\n",
    "    # do some other stuff"
   ]
  },
  {
   "cell_type": "markdown",
   "metadata": {
    "heading_collapsed": true
   },
   "source": [
    "### Pysnooper"
   ]
  },
  {
   "cell_type": "markdown",
   "metadata": {
    "hidden": true
   },
   "source": [
    "Seems kinda like the result of stepping through code."
   ]
  },
  {
   "cell_type": "code",
   "execution_count": 25,
   "metadata": {
    "ExecuteTime": {
     "end_time": "2019-05-15T20:24:45.641649Z",
     "start_time": "2019-05-15T20:24:45.635655Z"
    },
    "hidden": true
   },
   "outputs": [],
   "source": [
    "import pysnooper"
   ]
  },
  {
   "cell_type": "code",
   "execution_count": 33,
   "metadata": {
    "ExecuteTime": {
     "end_time": "2019-05-15T20:29:19.748505Z",
     "start_time": "2019-05-15T20:29:19.738897Z"
    },
    "hidden": true
   },
   "outputs": [
    {
     "name": "stderr",
     "output_type": "stream",
     "text": [
      "Starting var:.. x = 10\n",
      "16:29:19.741592 call         3 def num_to_binary(x):\n",
      "16:29:19.741718 line         4     s = 1\n",
      "New var:....... s = 1\n",
      "16:29:19.741775 line         5     while s <= x/2:\n",
      "16:29:19.741813 line         6         s = s*2\n",
      "Modified var:.. s = 2\n",
      "16:29:19.741860 line         5     while s <= x/2:\n",
      "16:29:19.741893 line         6         s = s*2\n",
      "Modified var:.. s = 4\n",
      "16:29:19.741938 line         5     while s <= x/2:\n",
      "16:29:19.741969 line         6         s = s*2\n",
      "Modified var:.. s = 8\n",
      "16:29:19.742013 line         5     while s <= x/2:\n",
      "16:29:19.742044 line         7     b = \"\"\n",
      "New var:....... b = ''\n",
      "16:29:19.742087 line         8     while s >= 1:\n",
      "16:29:19.742119 line         9         if x >= s:\n",
      "16:29:19.742150 line        10             b += \"1\"\n",
      "Modified var:.. b = '1'\n",
      "16:29:19.742192 line        11             x -= s\n",
      "Modified var:.. x = 2\n",
      "16:29:19.742235 line        14         s /= 2\n",
      "Modified var:.. s = 4.0\n",
      "16:29:19.742282 line         8     while s >= 1:\n",
      "16:29:19.742313 line         9         if x >= s:\n",
      "16:29:19.742345 line        13             b += \"0\"\n",
      "Modified var:.. b = '10'\n",
      "16:29:19.742389 line        14         s /= 2\n",
      "Modified var:.. s = 2.0\n",
      "16:29:19.742435 line         8     while s >= 1:\n",
      "16:29:19.742467 line         9         if x >= s:\n",
      "16:29:19.742498 line        10             b += \"1\"\n",
      "Modified var:.. b = '101'\n",
      "16:29:19.742637 line        11             x -= s\n",
      "Modified var:.. x = 0.0\n",
      "16:29:19.742701 line        14         s /= 2\n",
      "Modified var:.. s = 1.0\n",
      "16:29:19.742749 line         8     while s >= 1:\n",
      "16:29:19.742783 line         9         if x >= s:\n",
      "16:29:19.742816 line        13             b += \"0\"\n",
      "Modified var:.. b = '1010'\n",
      "16:29:19.742859 line        14         s /= 2\n",
      "Modified var:.. s = 0.5\n",
      "16:29:19.742906 line         8     while s >= 1:\n",
      "16:29:19.742939 line        15     return b\n",
      "16:29:19.742972 return      15     return b\n",
      "Return value:.. '1010'\n"
     ]
    },
    {
     "data": {
      "text/plain": [
       "'1010'"
      ]
     },
     "execution_count": 33,
     "metadata": {},
     "output_type": "execute_result"
    }
   ],
   "source": [
    "# Could also just wrap a piece of code with `with pysnooper.snoop():`\n",
    "@pysnooper.snoop()\n",
    "def num_to_binary(x):\n",
    "    s = 1\n",
    "    while s <= x/2:\n",
    "        s = s*2\n",
    "    b = \"\"\n",
    "    while s >= 1:\n",
    "        if x >= s:\n",
    "            b += \"1\"\n",
    "            x -= s\n",
    "        else:\n",
    "            b += \"0\"\n",
    "        s /= 2\n",
    "    return b\n",
    "num_to_binary(10)"
   ]
  }
 ],
 "metadata": {
  "kernelspec": {
   "display_name": "learning",
   "language": "python",
   "name": "learning"
  },
  "language_info": {
   "codemirror_mode": {
    "name": "ipython",
    "version": 3
   },
   "file_extension": ".py",
   "mimetype": "text/x-python",
   "name": "python",
   "nbconvert_exporter": "python",
   "pygments_lexer": "ipython3",
   "version": "3.7.3"
  },
  "toc": {
   "base_numbering": 1,
   "nav_menu": {},
   "number_sections": true,
   "sideBar": true,
   "skip_h1_title": false,
   "title_cell": "Table of Contents",
   "title_sidebar": "Contents",
   "toc_cell": false,
   "toc_position": {},
   "toc_section_display": true,
   "toc_window_display": false
  }
 },
 "nbformat": 4,
 "nbformat_minor": 2
}
