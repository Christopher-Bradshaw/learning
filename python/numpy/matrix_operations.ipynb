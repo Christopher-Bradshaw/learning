{
 "cells": [
  {
   "cell_type": "markdown",
   "metadata": {},
   "source": [
    "# Matrix operations"
   ]
  },
  {
   "cell_type": "code",
   "execution_count": 1,
   "metadata": {
    "ExecuteTime": {
     "end_time": "2019-02-11T23:56:00.493226Z",
     "start_time": "2019-02-11T23:56:00.097161Z"
    }
   },
   "outputs": [
    {
     "data": {
      "text/html": [
       "<style>.container { width:80% !important; }</style>"
      ],
      "text/plain": [
       "<IPython.core.display.HTML object>"
      ]
     },
     "metadata": {},
     "output_type": "display_data"
    }
   ],
   "source": [
    "import numpy as np\n",
    "%run ~/.jupyter/config.ipy"
   ]
  },
  {
   "cell_type": "markdown",
   "metadata": {},
   "source": [
    "# Matmul"
   ]
  },
  {
   "cell_type": "code",
   "execution_count": 8,
   "metadata": {
    "ExecuteTime": {
     "end_time": "2019-02-11T23:59:07.367498Z",
     "start_time": "2019-02-11T23:59:07.351557Z"
    }
   },
   "outputs": [
    {
     "name": "stdout",
     "output_type": "stream",
     "text": [
      "Normal matrix multiplication Ax where x is a column vector. Results in a column vector.\n",
      "[[ 5]\n",
      " [11]]\n",
      "\n",
      "For Ax, if x is 1d it is promoted to a matrix by appending 1 to its dimensions (makes it a column vector). This extra dimension is then removed\n",
      "[ 5 11]\n"
     ]
    }
   ],
   "source": [
    "A = np.array([\n",
    "    [1, 2],\n",
    "    [3, 4],\n",
    "])\n",
    "\n",
    "print(\"Normal matrix multiplication Ax where x is a column vector. Results in a column vector.\")\n",
    "print(np.matmul(A, np.array([[1], [2]])))\n",
    "\n",
    "print(\"\\nFor Ax, if x is 1d it is promoted to a matrix by appending 1 to its dimensions (makes it a column vector). This extra dimension is then removed\")\n",
    "print(np.matmul(A, np.array([1, 2])))"
   ]
  },
  {
   "cell_type": "code",
   "execution_count": 14,
   "metadata": {
    "ExecuteTime": {
     "end_time": "2019-02-12T00:01:58.135992Z",
     "start_time": "2019-02-12T00:01:58.121593Z"
    }
   },
   "outputs": [
    {
     "name": "stdout",
     "output_type": "stream",
     "text": [
      "Left matrix multiplication xA where x is a row vector. x is promoted to a vector by prepending 1 to its dimensions. This is removed and so results in a row vector.\n",
      "[ 7 10]\n",
      "\n",
      "Left matrix multiplication xA where x is a 2d row matrx.\n",
      "[[ 7 10]]\n"
     ]
    }
   ],
   "source": [
    "print(\"Left matrix multiplication xA where x is a row vector. x is promoted to a vector by prepending 1 to its dimensions. This is removed and so results in a row vector.\")\n",
    "print(np.matmul(np.array([1, 2]), A))\n",
    "\n",
    "print(\"\\nLeft matrix multiplication xA where x is a 2d row matrx.\")\n",
    "print(np.matmul(np.array([[1, 2]]), A))"
   ]
  },
  {
   "cell_type": "code",
   "execution_count": 24,
   "metadata": {
    "ExecuteTime": {
     "end_time": "2019-02-12T00:05:47.549235Z",
     "start_time": "2019-02-12T00:05:47.537035Z"
    }
   },
   "outputs": [
    {
     "name": "stdout",
     "output_type": "stream",
     "text": [
      "When doing a full x^T A x we can either:\n",
      "\n",
      "Rely on promotion both times\n",
      "27\n",
      "\n",
      "Rely on promotion neither time and flatten\n",
      "[27]\n"
     ]
    }
   ],
   "source": [
    "print(\"When doing a full x^T A x we can either:\")\n",
    "\n",
    "print(\"\\nRely on promotion both times\")\n",
    "print(np.matmul(np.array([1, 2]), np.matmul(A, np.array([1, 2]))))\n",
    "\n",
    "print(\"\\nRely on promotion neither time and flatten\")\n",
    "print(np.matmul(np.array([[1, 2]]), np.matmul(A, np.array([[1], [2]]))).flatten())"
   ]
  },
  {
   "cell_type": "code",
   "execution_count": 46,
   "metadata": {
    "ExecuteTime": {
     "end_time": "2019-02-12T00:11:52.858391Z",
     "start_time": "2019-02-12T00:11:52.834186Z"
    }
   },
   "outputs": [
    {
     "name": "stdout",
     "output_type": "stream",
     "text": [
      "To multiple Ax for many x, pass an array of shape (n, dims, 1)\n",
      "(3, 2, 1)\n",
      "[[[ 5]\n",
      "  [11]]\n",
      "\n",
      " [[ 5]\n",
      "  [11]]\n",
      "\n",
      " [[ 5]\n",
      "  [11]]]\n",
      "\n",
      "And similar for xA, shape is (n, 1, dims)\n",
      "(3, 1, 2)\n",
      "[[[ 7 10]]\n",
      "\n",
      " [[ 7 10]]\n",
      "\n",
      " [[ 7 10]]]\n",
      "\n",
      "And for x^T A x just do two matmul and flatten\n"
     ]
    },
    {
     "data": {
      "text/plain": [
       "array([27, 27, 27])"
      ]
     },
     "execution_count": 46,
     "metadata": {},
     "output_type": "execute_result"
    }
   ],
   "source": [
    "print(\"To multiple Ax for many x, pass an array of shape (n, dims, 1)\")\n",
    "xr = np.array([[[1], [2]], [[1], [2]], [[1], [2]]])\n",
    "print(xr.shape)\n",
    "print(np.matmul(A, xr))\n",
    "\n",
    "print(\"\\nAnd similar for xA, shape is (n, 1, dims)\")\n",
    "xl = np.array([[[1, 2]], [[1, 2]], [[1, 2]]])\n",
    "print(xl.shape)\n",
    "print(np.matmul(xl, A))\n",
    "\n",
    "print(\"\\nAnd for x^T A x just do two matmul and flatten\")\n",
    "np.matmul(xl, np.matmul(A, xr)).flatten()"
   ]
  },
  {
   "cell_type": "code",
   "execution_count": 51,
   "metadata": {
    "ExecuteTime": {
     "end_time": "2019-02-12T00:26:01.183469Z",
     "start_time": "2019-02-12T00:26:01.170624Z"
    }
   },
   "outputs": [
    {
     "name": "stdout",
     "output_type": "stream",
     "text": [
      "For x^T A x you usually just have one x in column vector (n, dims, 1) form. Tranpose with:\n",
      "(3, 1, 2) (3, 2, 1)\n"
     ]
    }
   ],
   "source": [
    "print(\"For x^T A x you usually just have one x in column vector (n, dims, 1) form. Tranpose with:\")\n",
    "xl = xr.transpose((0, 2, 1))\n",
    "print(xl.shape, xr.shape)"
   ]
  }
 ],
 "metadata": {
  "kernelspec": {
   "display_name": "learning",
   "language": "python",
   "name": "learning"
  },
  "language_info": {
   "codemirror_mode": {
    "name": "ipython",
    "version": 3
   },
   "file_extension": ".py",
   "mimetype": "text/x-python",
   "name": "python",
   "nbconvert_exporter": "python",
   "pygments_lexer": "ipython3",
   "version": "3.7.2"
  },
  "toc": {
   "base_numbering": 1,
   "nav_menu": {},
   "number_sections": true,
   "sideBar": true,
   "skip_h1_title": false,
   "title_cell": "Table of Contents",
   "title_sidebar": "Contents",
   "toc_cell": false,
   "toc_position": {},
   "toc_section_display": true,
   "toc_window_display": false
  }
 },
 "nbformat": 4,
 "nbformat_minor": 2
}
