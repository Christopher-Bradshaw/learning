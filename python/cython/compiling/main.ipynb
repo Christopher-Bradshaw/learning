{
 "cells": [
  {
   "cell_type": "markdown",
   "metadata": {},
   "source": [
    "# Cython and nbs"
   ]
  },
  {
   "cell_type": "markdown",
   "metadata": {},
   "source": [
    "# My usual preamble"
   ]
  },
  {
   "cell_type": "code",
   "execution_count": 1,
   "metadata": {
    "ExecuteTime": {
     "end_time": "2018-06-28T01:50:35.494869Z",
     "start_time": "2018-06-28T01:50:35.241969Z"
    }
   },
   "outputs": [
    {
     "data": {
      "text/html": [
       "<style>.container { width:90% !important; }</style>"
      ],
      "text/plain": [
       "<IPython.core.display.HTML object>"
      ]
     },
     "metadata": {},
     "output_type": "display_data"
    }
   ],
   "source": [
    "%load_ext autoreload\n",
    "%autoreload 2\n",
    "%matplotlib inline\n",
    "\n",
    "from IPython.core.display import display, HTML\n",
    "display(HTML(\"<style>.container { width:90% !important; }</style>\"))"
   ]
  },
  {
   "cell_type": "markdown",
   "metadata": {},
   "source": [
    "# Cython preable"
   ]
  },
  {
   "cell_type": "code",
   "execution_count": 37,
   "metadata": {
    "ExecuteTime": {
     "end_time": "2018-06-28T02:14:52.939104Z",
     "start_time": "2018-06-28T02:14:52.924422Z"
    }
   },
   "outputs": [
    {
     "name": "stdout",
     "output_type": "stream",
     "text": [
      "The Cython extension is already loaded. To reload it, use:\n",
      "  %reload_ext Cython\n"
     ]
    }
   ],
   "source": [
    "%load_ext Cython\n",
    "import cython"
   ]
  },
  {
   "cell_type": "markdown",
   "metadata": {},
   "source": [
    "# Cython in nb"
   ]
  },
  {
   "cell_type": "code",
   "execution_count": 36,
   "metadata": {
    "ExecuteTime": {
     "end_time": "2018-06-28T02:14:50.853671Z",
     "start_time": "2018-06-28T02:14:50.560996Z"
    }
   },
   "outputs": [],
   "source": [
    "%%cython\n",
    "cimport cython\n",
    "@cython.nonecheck(False)\n",
    "def fib_number(long x):\n",
    "    cdef long f0, f1, i\n",
    "    f0, f1 = 1, 1\n",
    "    \n",
    "    if x < 1:\n",
    "        raise Exception(\"You fool\")\n",
    "    elif x == 1 or x == 2:\n",
    "        return 1\n",
    "    \n",
    "    for i in range(x-2):\n",
    "        f0, f1 = f1, f0 + f1\n",
    "    \n",
    "    return f1"
   ]
  },
  {
   "cell_type": "code",
   "execution_count": 29,
   "metadata": {
    "ExecuteTime": {
     "end_time": "2018-06-28T02:06:31.504344Z",
     "start_time": "2018-06-28T02:06:31.487716Z"
    }
   },
   "outputs": [],
   "source": [
    "def py_fib_number(x):\n",
    "    f0, f1 = 1, 1\n",
    "    \n",
    "    if x < 1:\n",
    "        raise Exception(\"You fool\")\n",
    "    elif x == 1 or x == 2:\n",
    "        return 1\n",
    "    \n",
    "    for i in range(x-2):\n",
    "        f0, f1 = f1, f0 + f1\n",
    "    \n",
    "    return f1"
   ]
  },
  {
   "cell_type": "code",
   "execution_count": 38,
   "metadata": {
    "ExecuteTime": {
     "end_time": "2018-06-28T02:15:09.385198Z",
     "start_time": "2018-06-28T02:14:56.600976Z"
    }
   },
   "outputs": [
    {
     "name": "stdout",
     "output_type": "stream",
     "text": [
      "12586269025\n",
      "12586269025\n",
      "134 ns ± 0.532 ns per loop (mean ± std. dev. of 7 runs, 10000000 loops each)\n",
      "2.23 µs ± 29.4 ns per loop (mean ± std. dev. of 7 runs, 100000 loops each)\n"
     ]
    }
   ],
   "source": [
    "num = 50\n",
    "print(fib_number(num))\n",
    "print(py_fib_number(num))\n",
    "%timeit fib_number(num)\n",
    "%timeit py_fib_number(num)\n",
    "\n",
    "# 54.7 ns ± 0.395 ns per loop (mean ± std. dev. of 7 runs, 10000000 loops each)\n",
    "# 552 ns ± 6.66 ns per loop (mean ± std. dev. of 7 runs, 1000000 loops each)\n",
    "# Whelp"
   ]
  },
  {
   "cell_type": "markdown",
   "metadata": {},
   "source": [
    "# External Cython"
   ]
  },
  {
   "cell_type": "code",
   "execution_count": 5,
   "metadata": {
    "ExecuteTime": {
     "end_time": "2018-06-28T01:50:40.334441Z",
     "start_time": "2018-06-28T01:50:40.114706Z"
    }
   },
   "outputs": [],
   "source": [
    "import pyximport\n",
    "pyximport.install()"
   ]
  },
  {
   "cell_type": "code",
   "execution_count": 15,
   "metadata": {
    "ExecuteTime": {
     "end_time": "2018-06-28T01:54:34.592458Z",
     "start_time": "2018-06-28T01:54:34.578349Z"
    }
   },
   "outputs": [],
   "source": [
    "import test2"
   ]
  },
  {
   "cell_type": "code",
   "execution_count": 16,
   "metadata": {
    "ExecuteTime": {
     "end_time": "2018-06-28T01:54:35.449172Z",
     "start_time": "2018-06-28T01:54:35.436771Z"
    }
   },
   "outputs": [
    {
     "data": {
      "text/plain": [
       "13"
      ]
     },
     "execution_count": 16,
     "metadata": {},
     "output_type": "execute_result"
    }
   ],
   "source": [
    "test2.func2()"
   ]
  },
  {
   "cell_type": "code",
   "execution_count": 17,
   "metadata": {
    "ExecuteTime": {
     "end_time": "2018-06-28T02:00:00.792507Z",
     "start_time": "2018-06-28T02:00:00.781224Z"
    }
   },
   "outputs": [],
   "source": [
    "# Note that this doesn't work with autoreload. Go change `test2.pyx` and come back to test\n",
    "\n",
    "# Rerunning the import doesn't update either\n",
    "# from importlib import reload; reload(test2) doesn't work on .so files apparently\n",
    "# Basically, once you have imported a .so, there is no easy way to reload it\n",
    "# So that is a downside...\n",
    "\n",
    "# https://stackoverflow.com/questions/8295555/how-to-reload-a-python3-c-extension-module/8295590#8295590"
   ]
  }
 ],
 "metadata": {
  "kernelspec": {
   "display_name": "python_learning",
   "language": "python",
   "name": "python_learning"
  },
  "language_info": {
   "codemirror_mode": {
    "name": "ipython",
    "version": 3
   },
   "file_extension": ".py",
   "mimetype": "text/x-python",
   "name": "python",
   "nbconvert_exporter": "python",
   "pygments_lexer": "ipython3",
   "version": "3.6.5"
  },
  "toc": {
   "base_numbering": 1,
   "nav_menu": {},
   "number_sections": true,
   "sideBar": true,
   "skip_h1_title": false,
   "title_cell": "Table of Contents",
   "title_sidebar": "Contents",
   "toc_cell": false,
   "toc_position": {},
   "toc_section_display": true,
   "toc_window_display": true
  }
 },
 "nbformat": 4,
 "nbformat_minor": 2
}
