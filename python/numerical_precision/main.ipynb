{
 "cells": [
  {
   "cell_type": "markdown",
   "metadata": {},
   "source": [
    "# Numerical Precision"
   ]
  },
  {
   "cell_type": "markdown",
   "metadata": {},
   "source": [
    "## Imports"
   ]
  },
  {
   "cell_type": "code",
   "execution_count": 4,
   "metadata": {
    "ExecuteTime": {
     "end_time": "2019-10-09T06:50:04.494974Z",
     "start_time": "2019-10-09T06:50:04.465153Z"
    }
   },
   "outputs": [
    {
     "name": "stdout",
     "output_type": "stream",
     "text": [
      "The autoreload extension is already loaded. To reload it, use:\n",
      "  %reload_ext autoreload\n"
     ]
    },
    {
     "data": {
      "text/html": [
       "<style>.container { width:80% !important; }</style>"
      ],
      "text/plain": [
       "<IPython.core.display.HTML object>"
      ]
     },
     "metadata": {},
     "output_type": "display_data"
    }
   ],
   "source": [
    "%run /home/christopher/.jupyter/config.ipy\n",
    "import numpy as np\n",
    "\n",
    "np.set_printoptions(precision=1000)"
   ]
  },
  {
   "cell_type": "code",
   "execution_count": 91,
   "metadata": {},
   "outputs": [],
   "source": [
    "def p(x, i):\n",
    "    if np.bitwise_and(x, np.uint64(2**i)) > 0:\n",
    "        print(1, end=\" \")\n",
    "    else:\n",
    "        print(0, end=\" \")\n",
    "\n",
    "def view_bits_int64(x):\n",
    "    x = x.view(np.uint64)\n",
    "    for i in range(64):\n",
    "        p(x, i)\n",
    "        \n",
    "def view_bits_float64(x):\n",
    "    x = x.view(np.uint64)\n",
    "    print(\"Sign\")\n",
    "    p(x, 63)\n",
    "    print(\"\\nExponent\")\n",
    "    for i in range(62, 51, -1):\n",
    "        p(x, i)\n",
    "\n",
    "    \n",
    "    print(\"\\nSignificant 1.\")\n",
    "    for i in range(51, -1, -1):\n",
    "        p(x, i)    \n",
    "    print()"
   ]
  },
  {
   "cell_type": "code",
   "execution_count": 129,
   "metadata": {},
   "outputs": [
    {
     "name": "stdout",
     "output_type": "stream",
     "text": [
      "Sign\n",
      "0 \n",
      "Exponent\n",
      "0 1 1 1 1 1 1 1 1 1 1 \n",
      "Significant 1.\n",
      "0 0 0 0 0 0 0 0 0 0 0 0 0 0 0 0 0 0 0 0 0 0 0 0 0 0 0 0 0 0 0 0 0 0 0 0 0 0 0 0 0 0 0 0 0 0 0 0 0 0 0 1 \n",
      "Sign = 0 -> positive. Exponent of 1023 - 1023 = 0. Significant of 1.0000...1\n",
      "\n",
      "Sign\n",
      "0 \n",
      "Exponent\n",
      "1 0 0 0 0 0 0 0 0 0 0 \n",
      "Significant 1.\n",
      "0 0 0 0 0 0 0 0 0 0 0 0 0 0 0 0 0 0 0 0 0 0 0 0 0 0 0 0 0 0 0 0 0 0 0 0 0 0 0 0 0 0 0 0 0 0 0 0 0 0 0 0 \n",
      "Sign = 0 -> positive. Exponent of 1024 - 1023 = 1. Signficant of 1\n"
     ]
    }
   ],
   "source": [
    "view_bits_float64(np.float64(1) + np.finfo(np.float64).eps)\n",
    "print(\"Sign = 0 -> positive. Exponent of 1023 - 1023 = 0. Significant of 1.0000...1\")\n",
    "print()\n",
    "view_bits_float64(np.float64(2))\n",
    "print(\"Sign = 0 -> positive. Exponent of 1024 - 1023 = 1. Signficant of 1\")"
   ]
  },
  {
   "cell_type": "markdown",
   "metadata": {
    "heading_collapsed": true
   },
   "source": [
    "# Double Precision"
   ]
  },
  {
   "cell_type": "markdown",
   "metadata": {
    "hidden": true
   },
   "source": [
    "Remember that a double precision floating point number is represented like: ![Double precision format](./dp.png).\n",
    "\n",
    "The significand (the thing that is raised to the power) has an implicit $1$ and the fraction encodes the fractional component,\n",
    "\n",
    "$$\n",
    "-1^{\\text{sign}} 1.(b_{51}b_{50} ... b_{0})_2 \\times 2^{\\text{exp}}\n",
    "$$\n",
    "\n",
    "In practices, the exponent is represented as an unsigned number and what is used is $exp - 1023$.\n",
    "\n",
    "This means that the smallest number greater than 1 that can be represented is `1.` followed by `51` zeros and a 1 (and of course an exponent of 0). This is,\n",
    "\n",
    "$$\n",
    "1 + \\frac{1}{2^{52}} \\approx 1 + \\frac{1}{4 \\times 10^{15}} \\approx 1 + \\frac{2.5}{10^{16}}\n",
    "$$\n",
    "\n",
    "In this case, the exponene\n",
    "This value is represented by `np.finfo.eps`. We can see that this is roughly right"
   ]
  },
  {
   "cell_type": "code",
   "execution_count": 14,
   "metadata": {
    "hidden": true
   },
   "outputs": [
    {
     "data": {
      "text/plain": [
       "2.220446049250313e-16"
      ]
     },
     "execution_count": 14,
     "metadata": {},
     "output_type": "execute_result"
    }
   ],
   "source": [
    "np.finfo(np.float64).eps"
   ]
  },
  {
   "cell_type": "markdown",
   "metadata": {
    "hidden": true
   },
   "source": [
    "What about larger numbers? What is the smallest number larger than say `8` that we can represent (we choose `8` as we know we can represent that exactly with all zeros in the fraction and `3` in the exponent).\n",
    "\n",
    "We know that this will have the same significand as the smallest number larger than 1, the exponent will just be `3` now. So this is roughly,\n",
    "\n",
    "$$\n",
    "1 + \\frac{2.5}{10^{16}} * 2^3 = 8 + \\frac{8 \\times 2.5}{10^{16}}\n",
    "$$"
   ]
  },
  {
   "cell_type": "code",
   "execution_count": 118,
   "metadata": {
    "hidden": true
   },
   "outputs": [
    {
     "name": "stdout",
     "output_type": "stream",
     "text": [
      "8.000000000000002\n",
      "8.000000000000002\n"
     ]
    }
   ],
   "source": [
    "# Where I found 5 by just slowly increasing until it wasn't exactly 8.\n",
    "# But anything between 5 and 11 rounds to the same value.\n",
    "# So it is 8\n",
    "n_eps = 5\n",
    "print(np.float64(8) + (n_eps * np.finfo(np.float64).eps))\n",
    "print(8 + np.float64(2 / 10**15))"
   ]
  },
  {
   "cell_type": "code",
   "execution_count": 134,
   "metadata": {
    "hidden": true
   },
   "outputs": [
    {
     "name": "stdout",
     "output_type": "stream",
     "text": [
      "1.0000000000000002\n",
      "1.0000000000000002\n"
     ]
    }
   ],
   "source": [
    "# Therefore the ratio between a+eps / a is constant regardless of a. It is always just 1 + eps\n",
    "a = 256\n",
    "print((np.float64(a) + (a * np.finfo(np.float64).eps)) / np.float64(a))\n",
    "print((np.float64(1) + np.finfo(np.float64).eps) / np.float64(1))"
   ]
  },
  {
   "cell_type": "markdown",
   "metadata": {},
   "source": [
    "# For what do we have perfect precision"
   ]
  },
  {
   "cell_type": "markdown",
   "metadata": {},
   "source": [
    "I'm going to use single precision here to keep the numbers somewhat reasonable. This has an **8** bit exponent and **23** bit fraction.\n",
    "\n",
    "* Between 1 and 2 (exponent of 0) the steps are $2^{-23}$\n",
    "* Between 2 and 4 (exponent of 1) the steps are $2^{-22}$\n",
    "* Between $2^n$ and $2^{n+1}$ (exponent of n) the steps are $2^{n - 23}$\n",
    "\n",
    "In other words, for $n = 23$ the steps are the integers. This is roughly 8 million - 16 million."
   ]
  },
  {
   "cell_type": "code",
   "execution_count": 140,
   "metadata": {},
   "outputs": [
    {
     "name": "stdout",
     "output_type": "stream",
     "text": [
      "10000001.0\n",
      "10000002.0\n"
     ]
    }
   ],
   "source": [
    "print(np.float32(10_000_001))\n",
    "print(np.float32(10_000_001.6))"
   ]
  },
  {
   "cell_type": "code",
   "execution_count": 18,
   "metadata": {
    "ExecuteTime": {
     "end_time": "2019-10-09T07:47:40.736557Z",
     "start_time": "2019-10-09T07:47:40.724452Z"
    }
   },
   "outputs": [
    {
     "name": "stdout",
     "output_type": "stream",
     "text": [
      "5000001.0\n",
      "5000001.5\n"
     ]
    }
   ],
   "source": [
    "print(np.float32(5_000_001))\n",
    "print(np.float32(5_000_001.3))"
   ]
  },
  {
   "cell_type": "markdown",
   "metadata": {},
   "source": [
    "The other way to think about it is the eps. This becomes 1 at:"
   ]
  },
  {
   "cell_type": "code",
   "execution_count": 21,
   "metadata": {
    "ExecuteTime": {
     "end_time": "2019-10-09T07:48:49.931638Z",
     "start_time": "2019-10-09T07:48:49.919085Z"
    }
   },
   "outputs": [
    {
     "name": "stdout",
     "output_type": "stream",
     "text": [
      "8388608.0\n",
      "8388608\n"
     ]
    }
   ],
   "source": [
    "print(1 / np.finfo(np.float32).eps)\n",
    "print(2**23)"
   ]
  },
  {
   "cell_type": "markdown",
   "metadata": {},
   "source": [
    "I still get a weird thrill from doing even simple math and having the computer show me that I did it right..."
   ]
  },
  {
   "cell_type": "markdown",
   "metadata": {},
   "source": [
    "# Np test"
   ]
  },
  {
   "cell_type": "code",
   "execution_count": 12,
   "metadata": {
    "ExecuteTime": {
     "end_time": "2019-10-09T06:53:24.441320Z",
     "start_time": "2019-10-09T06:53:24.428158Z"
    }
   },
   "outputs": [
    {
     "name": "stdout",
     "output_type": "stream",
     "text": [
      "float64\n",
      "[0.                  0.1                 0.2                 0.30000000000000004 0.4                 0.5                 0.6000000000000001  0.7000000000000001  0.8                 0.9                 1.                 ]\n",
      "[0.1                 0.1                 0.10000000000000003 0.09999999999999998 0.09999999999999998 0.10000000000000009 0.09999999999999998 0.09999999999999998 0.09999999999999998 0.09999999999999998]\n",
      "[1.                 1.                 1.0000000000000002 0.9999999999999998 0.9999999999999998 1.0000000000000009 0.9999999999999998 0.9999999999999998 0.9999999999999998 0.9999999999999998]\n"
     ]
    }
   ],
   "source": [
    "x = np.linspace(0, 1, num=11)\n",
    "print(x.dtype)\n",
    "print(x)\n",
    "widths = np.diff(x)\n",
    "res = np.finfo(np.float64).resolution\n",
    "print(widths)\n",
    "print(widths / widths[0])\n"
   ]
  },
  {
   "cell_type": "code",
   "execution_count": 16,
   "metadata": {
    "ExecuteTime": {
     "end_time": "2019-10-09T06:58:34.284063Z",
     "start_time": "2019-10-09T06:58:34.270207Z"
    }
   },
   "outputs": [
    {
     "data": {
      "text/plain": [
       "array([ True,  True,  True,  True,  True,  True,  True,  True,  True,  True])"
      ]
     },
     "execution_count": 16,
     "metadata": {},
     "output_type": "execute_result"
    }
   ],
   "source": [
    "np.isclose(widths / widths[0], 1, rtol=res, atol=0)"
   ]
  },
  {
   "cell_type": "code",
   "execution_count": 17,
   "metadata": {
    "ExecuteTime": {
     "end_time": "2019-10-09T06:58:45.675383Z",
     "start_time": "2019-10-09T06:58:45.662420Z"
    }
   },
   "outputs": [
    {
     "data": {
      "text/plain": [
       "array([ True,  True,  True,  True,  True])"
      ]
     },
     "execution_count": 17,
     "metadata": {},
     "output_type": "execute_result"
    }
   ],
   "source": [
    "np.isclose(np.ones(5), 1, rtol=0, atol=0)"
   ]
  }
 ],
 "metadata": {
  "kernelspec": {
   "display_name": "learning",
   "language": "python",
   "name": "learning"
  },
  "language_info": {
   "codemirror_mode": {
    "name": "ipython",
    "version": 3
   },
   "file_extension": ".py",
   "mimetype": "text/x-python",
   "name": "python",
   "nbconvert_exporter": "python",
   "pygments_lexer": "ipython3",
   "version": "3.7.3"
  },
  "toc": {
   "base_numbering": 1,
   "nav_menu": {},
   "number_sections": true,
   "sideBar": true,
   "skip_h1_title": false,
   "title_cell": "Table of Contents",
   "title_sidebar": "Contents",
   "toc_cell": false,
   "toc_position": {},
   "toc_section_display": true,
   "toc_window_display": false
  }
 },
 "nbformat": 4,
 "nbformat_minor": 2
}
