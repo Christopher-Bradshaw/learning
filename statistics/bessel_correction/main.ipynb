{
 "cells": [
  {
   "cell_type": "markdown",
   "metadata": {},
   "source": [
    "# Bessel's Correction"
   ]
  },
  {
   "cell_type": "markdown",
   "metadata": {},
   "source": [
    "Or, why when computing the sample standard deviation you need to divide by $n-1$ and not n."
   ]
  },
  {
   "cell_type": "markdown",
   "metadata": {},
   "source": [
    "## Imports "
   ]
  },
  {
   "cell_type": "code",
   "execution_count": 2,
   "metadata": {
    "ExecuteTime": {
     "end_time": "2019-04-10T05:07:28.874169Z",
     "start_time": "2019-04-10T05:07:28.836112Z"
    }
   },
   "outputs": [
    {
     "name": "stdout",
     "output_type": "stream",
     "text": [
      "The autoreload extension is already loaded. To reload it, use:\n",
      "  %reload_ext autoreload\n"
     ]
    },
    {
     "data": {
      "text/html": [
       "<style>.container { width:80% !important; }</style>"
      ],
      "text/plain": [
       "<IPython.core.display.HTML object>"
      ]
     },
     "metadata": {},
     "output_type": "display_data"
    }
   ],
   "source": [
    "%run ~/.jupyter/config.ipy\n",
    "import numpy as np"
   ]
  },
  {
   "cell_type": "markdown",
   "metadata": {},
   "source": [
    "# Theory"
   ]
  },
  {
   "cell_type": "markdown",
   "metadata": {},
   "source": [
    "Let's say there is some distribution $\\mathcal{N}(\\mu, \\sigma)$ that we don't know. We want to learn its parameters and so we sample from it.\n",
    "\n",
    "Using those samples, we compute the sample mean,\n",
    "\n",
    "$$\\bar{\\mu} = \\frac{1}{n} \\sum_{i=1}^{n} x_i$$\n",
    "\n",
    "We then compute the (no factor of n) sample variance,\n",
    "\n",
    "$$\n",
    "\\begin{align}\n",
    "\\bar{\\sigma}^2  \n",
    "&= \\sum_{i=1}^{n} (x_i - \\bar{\\mu})^2 \\\\\n",
    "&= \\sum_{i=1}^{n} (x_i^2 - 2 x_i \\bar{\\mu} + \\bar{\\mu}^2) \\\\\n",
    "&= \\sum_{i=1}^{n} x_i^2 -  \\sum_{i=1}^{n} 2 x_i \\bar{\\mu} +  \\sum_{i=1}^{n} \\bar{\\mu}^2 \\\\\n",
    "&= \\sum_{i=1}^{n} x_i^2 - 2 n \\bar{\\mu}^2 +  n \\bar{\\mu}^2 \\\\\n",
    "&= \\sum_{i=1}^{n} x_i^2 - n \\bar{\\mu}^2 \\\\\n",
    "\\end{align}\n",
    "$$\n"
   ]
  },
  {
   "cell_type": "code",
   "execution_count": 185,
   "metadata": {
    "ExecuteTime": {
     "end_time": "2019-04-10T05:12:31.828287Z",
     "start_time": "2019-04-10T05:12:31.804085Z"
    }
   },
   "outputs": [
    {
     "name": "stdout",
     "output_type": "stream",
     "text": [
      "4.010035908935977\n"
     ]
    }
   ],
   "source": [
    "mu = 5\n",
    "sigma = 2\n",
    "n_samples = 10\n",
    "\n",
    "\n",
    "samples = np.random.normal(mu, sigma, size=(10000, n_samples))\n",
    "\n",
    "print(np.mean(np.var(samples, axis=1, ddof=1)))"
   ]
  }
 ],
 "metadata": {
  "kernelspec": {
   "display_name": "learning",
   "language": "python",
   "name": "learning"
  },
  "language_info": {
   "codemirror_mode": {
    "name": "ipython",
    "version": 3
   },
   "file_extension": ".py",
   "mimetype": "text/x-python",
   "name": "python",
   "nbconvert_exporter": "python",
   "pygments_lexer": "ipython3",
   "version": "3.7.2"
  },
  "toc": {
   "base_numbering": 1,
   "nav_menu": {},
   "number_sections": true,
   "sideBar": true,
   "skip_h1_title": false,
   "title_cell": "Table of Contents",
   "title_sidebar": "Contents",
   "toc_cell": false,
   "toc_position": {},
   "toc_section_display": true,
   "toc_window_display": false
  }
 },
 "nbformat": 4,
 "nbformat_minor": 2
}
