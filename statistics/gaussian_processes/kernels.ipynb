{
 "cells": [
  {
   "cell_type": "markdown",
   "metadata": {},
   "source": [
    "# Kernels"
   ]
  },
  {
   "cell_type": "markdown",
   "metadata": {},
   "source": [
    "See:\n",
    "* Rasmussen + Williams, chapter 4"
   ]
  },
  {
   "cell_type": "markdown",
   "metadata": {
    "heading_collapsed": true
   },
   "source": [
    "## Imports etc"
   ]
  },
  {
   "cell_type": "code",
   "execution_count": 14,
   "metadata": {
    "ExecuteTime": {
     "end_time": "2019-01-30T20:34:16.728246Z",
     "start_time": "2019-01-30T20:34:16.714056Z"
    },
    "hidden": true
   },
   "outputs": [],
   "source": [
    "import numpy as np\n",
    "import GPy\n",
    "import matplotlib.pyplot as plt"
   ]
  },
  {
   "cell_type": "code",
   "execution_count": 2,
   "metadata": {
    "ExecuteTime": {
     "end_time": "2019-01-29T23:30:35.575255Z",
     "start_time": "2019-01-29T23:30:35.526179Z"
    },
    "hidden": true
   },
   "outputs": [
    {
     "data": {
      "text/html": [
       "<style>.container { width:80% !important; }</style>"
      ],
      "text/plain": [
       "<IPython.core.display.HTML object>"
      ]
     },
     "metadata": {},
     "output_type": "display_data"
    }
   ],
   "source": [
    "%run ~/.jupyter/config.ipy"
   ]
  },
  {
   "cell_type": "markdown",
   "metadata": {},
   "source": [
    "# PreReqs"
   ]
  },
  {
   "cell_type": "markdown",
   "metadata": {},
   "source": [
    "### Gram Matrix\n",
    "\n",
    "[See wikipedia](https://en.wikipedia.org/wiki/Gramian_matrix). The Gram matrix of a set of vectors $x_1, ..., x_n$ is the matrix made up of their inner products, $G_{ij} = x_i \\cdot x_j$.\n",
    "\n",
    "As $x_i \\cdot x_j = x_j \\cdot x_i$ (for real inputs) this matrix is symmetrix. For complex inputs it is Hermetian.\n",
    "\n",
    "\n",
    "### Kernel\n",
    "\n",
    "Originally from the theory of integral operators, \"kernel\" is a general name for a function that maps two vectors to a scalar. \n",
    "\n",
    "$k(x_i, x_j) = c$ where $x_i, s_j \\in R^{n}, c \\in R$\n",
    "\n",
    "A kernel of real numbers is said to be symmetric if $k(x_j, x_i) = k(x_i, x_j)$. As we are using this to construct a covariance matrix (which is symmetric) this must be true for our kernels.\n",
    "\n",
    "### Positive semi definite\n",
    "\n",
    "A matrix $M$ is PSD if $v^{T}Mv \\geq 0$ for all $v$. If a matrix is PSD, all of its eigenvalues are positive (and vice versa). This means it can be visualized as stretching space in all direction.\n",
    "\n",
    "A kernel is considered PSD if it gives rise to PSD gram matrixes, regardless of the input vectors. As we need PSD covariance matrix, we need a PSD kernel."
   ]
  },
  {
   "cell_type": "markdown",
   "metadata": {},
   "source": [
    "## Classes of Kernels"
   ]
  },
  {
   "cell_type": "markdown",
   "metadata": {},
   "source": [
    "### Stationary\n",
    "\n",
    "If $k(x_i, x_j) = k'(x_i - x_j)$ it is stationary. By this we mean that it is invariant to translation in the input space.\n",
    "\n",
    "### Isotropic\n",
    "\n",
    "If $k(x_i, x_j) = k'(|x_i - x_j|)$ it is isotropic. It is invariant to an rigid motion (translation, rotation). These are often called radial basis functions (RBF) as they only depend on the scalar $r = |x_i - x_j|$."
   ]
  },
  {
   "cell_type": "markdown",
   "metadata": {},
   "source": [
    "# Covariance Functions/Kernels"
   ]
  },
  {
   "cell_type": "markdown",
   "metadata": {
    "heading_collapsed": true
   },
   "source": [
    "## What about a single point"
   ]
  },
  {
   "cell_type": "markdown",
   "metadata": {
    "hidden": true
   },
   "source": [
    "I don't think this really makes sense"
   ]
  },
  {
   "cell_type": "code",
   "execution_count": 61,
   "metadata": {
    "ExecuteTime": {
     "end_time": "2019-01-30T21:21:37.709748Z",
     "start_time": "2019-01-30T21:21:37.688163Z"
    },
    "hidden": true
   },
   "outputs": [],
   "source": [
    "x = np.array([[2]])\n",
    "y = np.array([[5]])\n",
    "y_err = 2\n",
    "\n",
    "k_rbf = GPy.kern.RBF(1)"
   ]
  },
  {
   "cell_type": "code",
   "execution_count": 59,
   "metadata": {
    "ExecuteTime": {
     "end_time": "2019-01-30T21:21:13.732612Z",
     "start_time": "2019-01-30T21:21:13.636239Z"
    },
    "hidden": true
   },
   "outputs": [
    {
     "data": {
      "application/vnd.jupyter.widget-view+json": {
       "model_id": "b73d6ce7cc2f456cb08b925e31965543",
       "version_major": 2,
       "version_minor": 0
      },
      "text/plain": [
       "HBox(children=(VBox(children=(IntProgress(value=0, max=1000), HTML(value=''))), Box(children=(HTML(value=''),)…"
      ]
     },
     "metadata": {},
     "output_type": "display_data"
    },
    {
     "data": {
      "text/plain": [
       "<paramz.optimization.optimization.opt_lbfgsb at 0x7ff8045bc9e8>"
      ]
     },
     "execution_count": 59,
     "metadata": {},
     "output_type": "execute_result"
    }
   ],
   "source": [
    "m = GPy.models.GPRegression(x, y, k_rbf)\n",
    "#m.Gaussian_noise.constrain_fixed(y_err**2)\n",
    "m.optimize(messages=True)"
   ]
  },
  {
   "cell_type": "code",
   "execution_count": 60,
   "metadata": {
    "ExecuteTime": {
     "end_time": "2019-01-30T21:21:14.842402Z",
     "start_time": "2019-01-30T21:21:14.440921Z"
    },
    "hidden": true
   },
   "outputs": [
    {
     "data": {
      "text/plain": [
       "<ErrorbarContainer object of 3 artists>"
      ]
     },
     "execution_count": 60,
     "metadata": {},
     "output_type": "execute_result"
    },
    {
     "data": {
      "image/png": "[encoded data removed]",
      "text/plain": [
       "<Figure size 1200x800 with 1 Axes>"
      ]
     },
     "metadata": {
      "needs_background": "light"
     },
     "output_type": "display_data"
    }
   ],
   "source": [
    "test_x = np.linspace(0, 6).reshape((-1, 1))\n",
    "pred = m.predict(test_x)#, kern=m.kern.rbf)\n",
    "gp = pred[0].flatten()\n",
    "gp_err = np.sqrt(pred[1].flatten())\n",
    "\n",
    "_, ax = plt.subplots()\n",
    "ax.errorbar(test_x, gp, yerr=gp_err, linestyle=\"None\", marker=\".\")"
   ]
  },
  {
   "cell_type": "markdown",
   "metadata": {},
   "source": [
    "## Ok multiple points"
   ]
  },
  {
   "cell_type": "code",
   "execution_count": 95,
   "metadata": {
    "ExecuteTime": {
     "end_time": "2019-01-30T21:27:11.768892Z",
     "start_time": "2019-01-30T21:27:11.745949Z"
    }
   },
   "outputs": [],
   "source": [
    "train_x = np.linspace(1, 4, num=10).reshape((-1, 1))\n",
    "train_y = (train_x**(0.5)).reshape((-1, 1))\n",
    "y_err = 0.5\n",
    "\n",
    "#k_fixed = GPy.kern.Fixed(1, np.diag(np.full(len(train_x), 100)))\n",
    "k_rbf = GPy.kern.RBF(1)\n",
    "\n",
    "m = GPy.models.GPRegression(train_x, train_y, k_rbf)#+ k_fixed)"
   ]
  },
  {
   "cell_type": "code",
   "execution_count": 96,
   "metadata": {
    "ExecuteTime": {
     "end_time": "2019-01-30T21:27:12.024283Z",
     "start_time": "2019-01-30T21:27:12.006396Z"
    }
   },
   "outputs": [
    {
     "data": {
      "text/plain": [
       "array([0])"
      ]
     },
     "execution_count": 96,
     "metadata": {},
     "output_type": "execute_result"
    }
   ],
   "source": [
    "m.Gaussian_noise.constrain_fixed(np.sqrt(y_err))\n",
    "#m.kern.fixed.variance.constrain_fixed(1)"
   ]
  },
  {
   "cell_type": "code",
   "execution_count": 97,
   "metadata": {
    "ExecuteTime": {
     "end_time": "2019-01-30T21:27:12.626956Z",
     "start_time": "2019-01-30T21:27:12.511939Z"
    }
   },
   "outputs": [
    {
     "data": {
      "application/vnd.jupyter.widget-view+json": {
       "model_id": "171d4b2c38da45ffaf08780c6c8be04f",
       "version_major": 2,
       "version_minor": 0
      },
      "text/plain": [
       "HBox(children=(VBox(children=(IntProgress(value=0, max=1000), HTML(value=''))), Box(children=(HTML(value=''),)…"
      ]
     },
     "metadata": {},
     "output_type": "display_data"
    },
    {
     "data": {
      "text/plain": [
       "<paramz.optimization.optimization.opt_lbfgsb at 0x7ff7d7ab9e10>"
      ]
     },
     "execution_count": 97,
     "metadata": {},
     "output_type": "execute_result"
    }
   ],
   "source": [
    "m.optimize(messages=True)"
   ]
  },
  {
   "cell_type": "code",
   "execution_count": 98,
   "metadata": {
    "ExecuteTime": {
     "end_time": "2019-01-30T21:27:13.992364Z",
     "start_time": "2019-01-30T21:27:13.603267Z"
    }
   },
   "outputs": [
    {
     "data": {
      "text/plain": [
       "<ErrorbarContainer object of 3 artists>"
      ]
     },
     "execution_count": 98,
     "metadata": {},
     "output_type": "execute_result"
    },
    {
     "data": {
      "image/png": "[encoded data removed]",
      "text/plain": [
       "<Figure size 1200x800 with 1 Axes>"
      ]
     },
     "metadata": {
      "needs_background": "light"
     },
     "output_type": "display_data"
    }
   ],
   "source": [
    "test_x = np.linspace(0, 6).reshape((-1, 1))\n",
    "\n",
    "pred = m.predict(test_x)#, kern=m.kern.rbf)\n",
    "gp = pred[0].flatten()\n",
    "gp_err = pred[1].flatten()\n",
    "\n",
    "_, ax = plt.subplots()\n",
    "l = ax.plot(test_x.flatten(), gp)\n",
    "ax.fill_between(test_x.flatten(), gp + np.sqrt(gp_err), gp - np.sqrt(gp_err), color=l[0].get_color(), alpha=0.3)\n",
    "ax.errorbar(train_x.flatten(), train_y.flatten(), yerr=y_err, linestyle=\"None\", marker=\".\")"
   ]
  },
  {
   "cell_type": "code",
   "execution_count": null,
   "metadata": {},
   "outputs": [],
   "source": []
  }
 ],
 "metadata": {
  "kernelspec": {
   "display_name": "learning",
   "language": "python",
   "name": "learning"
  },
  "language_info": {
   "codemirror_mode": {
    "name": "ipython",
    "version": 3
   },
   "file_extension": ".py",
   "mimetype": "text/x-python",
   "name": "python",
   "nbconvert_exporter": "python",
   "pygments_lexer": "ipython3",
   "version": "3.6.7"
  },
  "toc": {
   "base_numbering": 1,
   "nav_menu": {},
   "number_sections": true,
   "sideBar": true,
   "skip_h1_title": false,
   "title_cell": "Table of Contents",
   "title_sidebar": "Contents",
   "toc_cell": false,
   "toc_position": {},
   "toc_section_display": true,
   "toc_window_display": false
  }
 },
 "nbformat": 4,
 "nbformat_minor": 2
}
