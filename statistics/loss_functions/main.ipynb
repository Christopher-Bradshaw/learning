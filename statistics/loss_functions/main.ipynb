{
 "cells": [
  {
   "cell_type": "markdown",
   "metadata": {
    "ExecuteTime": {
     "end_time": "2020-08-17T22:23:07.178017Z",
     "start_time": "2020-08-17T22:23:07.175262Z"
    }
   },
   "source": [
    "# Loss Functions"
   ]
  },
  {
   "cell_type": "code",
   "execution_count": 3,
   "metadata": {
    "ExecuteTime": {
     "end_time": "2020-08-17T23:04:36.038346Z",
     "start_time": "2020-08-17T23:04:35.696319Z"
    }
   },
   "outputs": [],
   "source": [
    "import numpy as np\n",
    "import matplotlib.pyplot as plt"
   ]
  },
  {
   "cell_type": "markdown",
   "metadata": {},
   "source": [
    "## MSE"
   ]
  },
  {
   "cell_type": "markdown",
   "metadata": {
    "ExecuteTime": {
     "end_time": "2020-08-17T22:23:23.232218Z",
     "start_time": "2020-08-17T22:23:23.229648Z"
    }
   },
   "source": [
    "## Binary Cross-entropy"
   ]
  },
  {
   "cell_type": "markdown",
   "metadata": {},
   "source": [
    "* [Good article](https://towardsdatascience.com/understanding-binary-cross-entropy-log-loss-a-visual-explanation-a3ac6025181a)"
   ]
  },
  {
   "cell_type": "markdown",
   "metadata": {},
   "source": [
    "Generally used if you are training *binary classifier* (i.e. you have two classes, $a$ and $b$ and you want to know \n",
    "\n",
    "$P(a | X) = 1 - P(b | X)$\n",
    "\n",
    "To make the notation a bit easier we will call the classes we are trying to predict, $y_i \\in (0, 1)$ and define $P(y_i) = P(y_i == 1)$.\n",
    "\n",
    "How can we evaluate our predictions? For a single element a pretty simple score function might be,\n",
    "\n",
    "$P(y_i) y_i + (1 - P(y_i)) (1 - y_i)$\n",
    "\n",
    "which is: 1 if we predict with $P = 1$ the correct class, 0 if we predict with $P = 1$ the wrong class, 0.5 if we predict with $P = 0.5$ (either class). Basically we score the the amount of probability we put on the correct class.\n",
    "\n",
    "This is a reasonable first stab - maximizing this score (summing over $y_i$) certainly wouldn't lead to the worst outcome. However, we should penalize horrendous errors more harshly - it is much worse to make one error where we had $P = 1$ than two errors where we have $P = 0.75$ whereas this model scores those equally.\n",
    "\n",
    "Binary cross entropy uses the *log* of the probailities to penalize large errors. It also (being a loss function, rather than a score function) takes the negative. Rather than maximizing the score, we minimize the loss. Finally we average this across all elements.\n",
    "\n",
    "$\\rm{L_{BCE}} = -\\frac{1}{N} \\sum \\big(\\log(P(y_i)) y_i + \\log((1 - P(y_i))) (1 - y_i)\\big)$\n",
    "\n",
    "The plot below shows how the loss increases rapidly when we make a large error (very low probability assigned to the correct class)."
   ]
  },
  {
   "cell_type": "code",
   "execution_count": 8,
   "metadata": {
    "ExecuteTime": {
     "end_time": "2020-08-17T23:07:32.887405Z",
     "start_time": "2020-08-17T23:07:32.689227Z"
    }
   },
   "outputs": [
    {
     "data": {
      "text/plain": [
       "[Text(0, 0.5, 'Loss'), Text(0.5, 0, 'Probability assigned to correct class')]"
      ]
     },
     "execution_count": 8,
     "metadata": {},
     "output_type": "execute_result"
    },
    {
     "data": {
      "image/png": "[encoded data removed]",
      "text/plain": [
       "<Figure size 432x288 with 1 Axes>"
      ]
     },
     "metadata": {
      "needs_background": "light"
     },
     "output_type": "display_data"
    }
   ],
   "source": [
    "def bce(prob_is_1, truth):\n",
    "    return -(np.log(prob_is_1) * truth + np.log(1 - prob_is_1) * (1 - truth))\n",
    "\n",
    "x = np.linspace(0.01, 0.99, num=50)\n",
    "cost = bce(x, 1)\n",
    "\n",
    "_, ax = plt.subplots()\n",
    "ax.plot(x, cost)\n",
    "ax.set(xlabel=\"Probability assigned to correct class\", ylabel=\"Loss\")"
   ]
  },
  {
   "cell_type": "markdown",
   "metadata": {},
   "source": [
    "This intuitively makes some sense but so would many other similar loss functions. Why is this right?\n",
    "\n",
    "We are trying to come up with some $P(y_i | X)$ that minimizes loss, but we know that the data is generated by some intrinsic $Q(y_i | X)$. Exactly what form this function takes we have no idea, but it is there somewhere... We want to have our $P$ be as close to $Q$ as we can get.\n",
    "\n",
    "This (as we know from [variational inference](../variational_inference/main.ipynb)) is what the KL divergence measures!\n",
    "\n",
    "$$\n",
    "D_{KL}(P || Q) = \\sum_{y \\in X} P(y) \\log \\big(\\frac{P(y)}{Q(y)}\\big)\n",
    "$$\n",
    "\n",
    "Thus the contribution of each element to the KL divergence is (remembering our log laws!),\n",
    "\n",
    "$P(y_i) ( \\log(P(y_i)) - \\log(Q(y_i)) )$"
   ]
  }
 ],
 "metadata": {
  "kernelspec": {
   "display_name": "learning",
   "language": "python",
   "name": "learning"
  },
  "language_info": {
   "codemirror_mode": {
    "name": "ipython",
    "version": 3
   },
   "file_extension": ".py",
   "mimetype": "text/x-python",
   "name": "python",
   "nbconvert_exporter": "python",
   "pygments_lexer": "ipython3",
   "version": "3.7.8"
  },
  "toc": {
   "base_numbering": 1,
   "nav_menu": {},
   "number_sections": true,
   "sideBar": true,
   "skip_h1_title": false,
   "title_cell": "Table of Contents",
   "title_sidebar": "Contents",
   "toc_cell": false,
   "toc_position": {},
   "toc_section_display": true,
   "toc_window_display": false
  }
 },
 "nbformat": 4,
 "nbformat_minor": 2
}
