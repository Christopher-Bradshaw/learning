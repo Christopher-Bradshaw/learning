{
 "cells": [
  {
   "cell_type": "markdown",
   "metadata": {},
   "source": [
    "# Variational Inference"
   ]
  },
  {
   "cell_type": "markdown",
   "metadata": {},
   "source": [
    "See:\n",
    "* [Great first resource](http://www.cmap.polytechnique.fr/~zoltan.szabo/jc/2017_05_18_Massil_Achab.pdf)\n",
    "* [VI: A review for statisticians](https://arxiv.org/pdf/1601.00670.pdf)\n",
    "* [EL20](https://arxiv.org/pdf/1901.04454.pdf)\n",
    "* Bayesian Data Analysis Chapter 13 (Gelman)"
   ]
  },
  {
   "cell_type": "code",
   "execution_count": 4,
   "metadata": {
    "ExecuteTime": {
     "end_time": "2019-02-20T23:10:38.968446Z",
     "start_time": "2019-02-20T23:10:38.933603Z"
    }
   },
   "outputs": [
    {
     "name": "stdout",
     "output_type": "stream",
     "text": [
      "The autoreload extension is already loaded. To reload it, use:\n",
      "  %reload_ext autoreload\n"
     ]
    },
    {
     "data": {
      "text/html": [
       "<style>.container { width:80% !important; }</style>"
      ],
      "text/plain": [
       "<IPython.core.display.HTML object>"
      ]
     },
     "metadata": {},
     "output_type": "display_data"
    }
   ],
   "source": [
    "%run ~/.jupyter/config.ipy"
   ]
  },
  {
   "cell_type": "code",
   "execution_count": 5,
   "metadata": {
    "ExecuteTime": {
     "end_time": "2019-02-20T23:10:39.351277Z",
     "start_time": "2019-02-20T23:10:39.336816Z"
    }
   },
   "outputs": [],
   "source": [
    "import autograd.numpy as np\n",
    "from autograd import grad, jacobian, hessian\n",
    "\n",
    "import matplotlib.pyplot as plt\n",
    "import scipy.stats"
   ]
  },
  {
   "cell_type": "code",
   "execution_count": 6,
   "metadata": {
    "ExecuteTime": {
     "end_time": "2019-02-20T23:10:39.672215Z",
     "start_time": "2019-02-20T23:10:39.659457Z"
    }
   },
   "outputs": [],
   "source": [
    "assert \"autograd\" in np.__file__ # Need to make sure that we get the correct numpy - my config might import the default one."
   ]
  },
  {
   "cell_type": "markdown",
   "metadata": {
    "heading_collapsed": true
   },
   "source": [
    "# Kullback–Leibler (KL) Divergence"
   ]
  },
  {
   "cell_type": "markdown",
   "metadata": {
    "hidden": true
   },
   "source": [
    "The KL divergence measures how similar two probability distributions are. For discrete PDFs this is:\n",
    "\n",
    "$$\n",
    "D_{KL}(P || Q) = \\sum_{x \\in X} P(x) \\log \\big(\\frac{P(x)}{Q(x)}\\big)\n",
    "$$\n",
    "\n",
    "The divergence is measured in bits of information if the log used is base 2, and nats if it is base $e$. It can be understood as the amount of information gained when moving from $P \\rightarrow Q$, or as the amount of information lost when approximating $P$ as $Q$."
   ]
  },
  {
   "cell_type": "code",
   "execution_count": 24,
   "metadata": {
    "hidden": true
   },
   "outputs": [
    {
     "name": "stdout",
     "output_type": "stream",
     "text": [
      "0.15415067982725839 0.14291239755557528\n",
      "0.0\n"
     ]
    }
   ],
   "source": [
    "def discrete_KL_divergence(p, q):\n",
    "    assert np.isclose(np.sum(p), 1) and np.isclose(np.sum(q), 1) and len(p) == len(q)\n",
    "    return np.sum(p * np.log(p / q))\n",
    "\n",
    "p = np.array([2, 2, 2])\n",
    "q = np.array([1, 4, 2])\n",
    "p, q = p / np.sum(p), q / np.sum(q)\n",
    "\n",
    "print(discrete_KL_divergence(p, q), discrete_KL_divergence(q, p))\n",
    "\n",
    "print(discrete_KL_divergence(p, p))\n",
    "\n",
    "# As always if you actually want to use this, use scipy's.\n",
    "assert np.isclose(scipy.stats.entropy(q, p), discrete_KL_divergence(q, p))"
   ]
  },
  {
   "cell_type": "markdown",
   "metadata": {
    "hidden": true
   },
   "source": [
    "Some interesting properties:\n",
    "* $D_{KL} = 0$ iff $Q(x) = P(x)$ for all $x$ (as $\\log(1) = 0$).\n",
    "* $D_{KL} >= 0$ see [Gibb's inequality](https://en.wikipedia.org/wiki/Gibbs%27_inequality)\n",
    "* It is not symmetric! Be careful that this isn't the divergence *between* $P$ and $Q$ but rather the divergence *from* $P$ to $Q$.\n",
    "* It is undefined if $Q(x) = 0$ where $P(x) \\neq 0$."
   ]
  },
  {
   "cell_type": "markdown",
   "metadata": {
    "heading_collapsed": true
   },
   "source": [
    "# Variational Inference Theory"
   ]
  },
  {
   "cell_type": "markdown",
   "metadata": {
    "hidden": true
   },
   "source": [
    "A tiny summary:\n",
    "\n",
    "We assume a simple analytic form for the posterior, and try to fit its parameters to the information we have. *EL20 paper*\n",
    "\n",
    "A short summary:\n",
    "1. We are doing Bayesian inference. We want to find the posterior distribution $P(z | x)$ of some latent variables given priors and some data.\n",
    "2. This is hard because of the evidence term in Bayes theorem which requires integrals.\n",
    "3. Instead we pick some model for our posterior distribution. $Q(z | \\alpha)$ where $\\alpha$ depends on our model of $Q$ e.g. if the model is a multivariate normal, $\\alpha$ contains a mean vector and a covariance matrix.\n",
    "4. We then try optimize $\\alpha$ so that $Q$ is similar to $P(z | x)$, by minimzing $D_{KL}(Q || P)$.\n",
    "5. This sounds hard because we don't know $P(z | x)$ - if we did we wouldn't need to do all this work. However, it turns out that minimzing $D_{KL}(Q || P)$ is the same as maximizing the ${\\rm ELBO}(Q(z)) = \\mathbf{E}^Q[\\log(P(x, z))] - \\mathbf{E}^Q[\\log(Q(z))]$ the components of which we do know."
   ]
  },
  {
   "cell_type": "markdown",
   "metadata": {
    "heading_collapsed": true,
    "hidden": true
   },
   "source": [
    "## A Reminder About Bayesian Inference"
   ]
  },
  {
   "cell_type": "markdown",
   "metadata": {
    "hidden": true
   },
   "source": [
    "In Bayesian inference we have some observed variables $x$ and some hidden or [latent](https://en.wikipedia.org/wiki/Latent_variable) variables $z$ that encode the structure behind $x$. E.g. is cosmology $x$ are your observations (galaxies, CMB, etc) and $z$ are the cosmological parameters ($\\Omega_M$, $\\sigma_8$, etc). We want to constrain $z$ using the data $x$.\n",
    "\n",
    "[Bayes Theorem](https://en.wikipedia.org/wiki/Bayes%27_theorem) tells us that:\n",
    "\n",
    "$$\n",
    "P(z | x) = \\frac{P(z) P(x | z)}{P(x)}\n",
    "$$\n",
    "\n",
    "or in english, the posterior probability of the parameters $z$ given the data $x$ is equal to the prior probability of that $z$ multiplied by the likelihood of that data given those parameters. This is normalized by the evidence $P(x)$. Remember, we want to learn the posterior $P(z | x)$.\n",
    "\n",
    "We can remove the conditionals, $P(a | b)$, and instead express the posterior as a function of joint, $P(a, b)$, distributions.\n",
    "\n",
    "$$\n",
    "P(z | x) = \\frac{P(x, z)}{\\int P(x, z)\\ dz}\n",
    "$$\n",
    "\n",
    "Computing this in practice is hard because we would need to do that integral over the potentially high dimensional $z$ space. We need to do something different."
   ]
  },
  {
   "cell_type": "markdown",
   "metadata": {
    "heading_collapsed": true,
    "hidden": true
   },
   "source": [
    "## How VI applies to BI"
   ]
  },
  {
   "cell_type": "markdown",
   "metadata": {
    "hidden": true
   },
   "source": [
    "VI is a way to compute approximate posteriors $P(z | x)$ without doing that integral. In that sense it is the same as MCMC, however it goes about in completely different ways.\n",
    "\n",
    "1. Assume that the posterior $P(z | x)$ can be modelled by some distribution $Q(z | \\lambda)$. A common assumption is that each $z_i$ is independent and let's say that they are gaussian. In that that case $Q(z | \\mu, \\Sigma)$ where $\\mu$ is a vector of the means (the same length as $z$) and $\\Sigma$ a diagonal matrix (because the $z_i$ have no covariance) of the same dimension.\n",
    "2. Optimize the choice of those parameters ($\\mu$, $\\Sigma$) to minimize $D_{KL}(P(z | x) || Q(z | \\mu, \\Sigma)$.\n",
    "3. Claim that the best fit model $Q^\\ast$ is a good approximation to the posterior and use that.\n",
    "\n",
    "**N.B.** with $Q$ we are trying to approximate the *posterior* on the latent variables. I misunderstood this at first.\n",
    "\n",
    "The hardest part of this appears to be step 2. How can we compute the KL divergence if we don't know $P(z | x)$?"
   ]
  },
  {
   "cell_type": "markdown",
   "metadata": {
    "hidden": true
   },
   "source": [
    "## Evidence Lower Bound (ELBO)"
   ]
  },
  {
   "cell_type": "markdown",
   "metadata": {
    "hidden": true
   },
   "source": [
    "Assume we have some proposed $Q(z)$ as our model for the posterior. How can we compare this to the true posterior $P(z | x)$ (which we don't know)? **N.B.** as above remember that both of these are probabilities for the latent variable $z$.\n",
    "\n",
    "$$\n",
    "\\begin{align}\n",
    "&\\ \\ \\ D_{KL}(Q(z | \\lambda) || P(z | x)) \\\\\n",
    "&= \\int Q(z | \\lambda) \\log \\big(\\frac{Q(z | \\lambda)}{P(z | x)}\\big) dz \\\\\n",
    "&= \\int Q(z | \\lambda) ( \\log(Q(z | \\lambda)) - \\log(P(z | x)) ) dz \\\\\n",
    "&= \\int Q(z | \\lambda) \\log(Q(z | \\lambda)) dz - \\int Q(z | \\lambda) \\log(P(z | x)) dz\n",
    "\\end{align}\n",
    "$$\n",
    "\n",
    "These transformations are all good but we are still stuck with the posterior which we can't compute because of the integral in the denominator... "
   ]
  },
  {
   "cell_type": "markdown",
   "metadata": {
    "hidden": true
   },
   "source": [
    "Let's make the notation a bit more concise using expected values. Remember:\n",
    "\n",
    "$$\n",
    "\\mathbf{E}^P[X] = \\int P(x) x dx \\\\\n",
    "\\mathbf{E}^P[g(X)] = \\int P(x) g(x) dx\n",
    "$$\n",
    "\n",
    "we say, the expectation value of the function $g$ with the probability function $P$ is the integral on the RHS. So similarly,\n",
    "\n",
    "$$\n",
    "\\int Q(z | \\lambda) \\log(P(z | x)) = \\mathbf{E}^Q[\\log(P(z | x)]\n",
    "$$"
   ]
  },
  {
   "cell_type": "markdown",
   "metadata": {
    "hidden": true
   },
   "source": [
    "With this notation,\n",
    "\n",
    "$$\n",
    "\\begin{align}\n",
    "&\\ \\ \\ D_{KL}(Q(z | \\lambda) || P(z | x)) \\\\\n",
    "&= \\mathbf{E}^Q[\\log(Q(z | \\lambda))] - \\mathbf{E}^Q[\\log(P(z | x))] \\\\\n",
    "&= \\mathbf{E}^Q[\\log(Q(z | \\lambda))] - \\mathbf{E}^Q[\\log(\\frac{P(x, z)}{P(x)})] \\\\\n",
    "&= \\mathbf{E}^Q[\\log(Q(z | \\lambda))] - \\mathbf{E}^Q[\\log(P(x, z)) - \\log(P(x))] \\\\\n",
    "&= \\mathbf{E}^Q[\\log(Q(z | \\lambda))] - \\mathbf{E}^Q[\\log(P(x, z))] + \\mathbf{E}^Q[\\log(P(x))]\n",
    "\\end{align}\n",
    "$$\n",
    "\n",
    "but in the final term, $P(x)$ is not a function of $z$ and so \n",
    "$$\n",
    "\\int Q(z | \\lambda) \\log(P(x)) dz = \\log(P(x)) \\int Q(z | \\lambda) dz = \\log(P(x))\n",
    "$$\n",
    "\n",
    "therefore,\n",
    "\n",
    "$$\n",
    "D_{KL}(Q(z | \\lambda) || P(z | x)) = \\mathbf{E}^Q[\\log(Q(z | \\lambda))] - \\mathbf{E}^Q[\\log(P(x, z))] + \\log(P(x))\n",
    "$$\n",
    "\n",
    "All we have done in this section is replaced the posterior (LHS in bayes) with a joint (representing the prior and the likelihood) and the evidence (the combination of which is the RHS in bayes). The joint can easily be computed ($P(x, z) = P(z) P(x | z)$, where we chose the prior and can compute the likelihood) and while the evidence cannot be computed it is now just a constant - it is not a function of our choice of $z$."
   ]
  },
  {
   "cell_type": "markdown",
   "metadata": {
    "hidden": true
   },
   "source": [
    "The $z$ that minimizes the KL divergence between the posterior and $Q$ will therefore also minimize the RHS. In a minimization problem we can remove any constants and so we finally have got rid of the pesky evidence. We now just need to minimize,\n",
    "\n",
    "$$\n",
    "\\mathbf{E}^Q[\\log(Q(z | \\lambda))] - \\mathbf{E}^Q[\\log(P(x, z))]\n",
    "$$\n",
    "\n",
    "Note that while this looks a bit like a KL divergence it isn't. The main reason for this is that the two terms are not defined over the same space - $Q(z)$ and $P(x, z)$ - and $P$ is not normalized.\n",
    "\n",
    "In practice, people tend to talk above maximizing the negative of this, which they call the ${\\rm ELBO}$.\n",
    "\n",
    "$$\n",
    "{\\rm ELBO}(Q(z | \\lambda)) = \\mathbf{E}^Q[\\log(P(x, z))] - \\mathbf{E}^Q[\\log(Q(z | \\lambda))]\n",
    "$$\n",
    "\n",
    "The $z^\\ast$ that maximizes this is also the $z^\\ast$ that minimizes the KL divergence and that optimizes the similaritiy between the true posterior and our model of it. As the things that we can vary to maximize this are just the $\\lambda$, it is often shown just as a function of that.\n",
    "\n",
    "$$\n",
    "\\mathcal{L}(\\lambda) = \\mathbf{E}^Q[\\log(P(x, z))] - \\mathbf{E}^Q[\\log(Q(z | \\lambda))]\n",
    "$$\n",
    "\n",
    "The name, Evidence Lower Bound, comes from the fact that ELBO is always less than or equal to the log evidence ($P(x)$). It is a lower bound on the evidence.\n",
    "\n",
    "$$\n",
    "\\begin{align}\n",
    "D_{KL}(Q(z | \\lambda) || P(z | x)) &= -\\mathcal{L}(\\lambda) + \\log(P(x)) \\\\\n",
    "\\log(P(x)) &= D_{KL}(Q(z | \\lambda) || P(z | x)) + \\mathcal{L}(\\lambda) \\\\\n",
    "\\therefore \\log(P(x)) &>= \\mathcal{L}(\\lambda)\n",
    "\\end{align}\n",
    "$$\n",
    "\n",
    "this inequality is because the KL divergence is always non-negative. "
   ]
  },
  {
   "cell_type": "markdown",
   "metadata": {
    "heading_collapsed": true,
    "hidden": true
   },
   "source": [
    "## Computing ELBO in practice"
   ]
  },
  {
   "cell_type": "markdown",
   "metadata": {
    "hidden": true
   },
   "source": [
    "We still need to do integrals over $z$ space. Isn't that a problem for high dimensional space?\n",
    "\n",
    "I think (see [Black Box VI](https://arxiv.org/pdf/1401.0118.pdf)) the solution is to build an unbiased estimator for $\\mathcal{L}(\\lambda)$ by drawing a finite number of samples from $Q(z | \\lambda)$. This should be easy as we chose $Q$ to be a simple, analytical function.\n",
    "\n",
    "I need to check up on this."
   ]
  },
  {
   "cell_type": "markdown",
   "metadata": {
    "heading_collapsed": true
   },
   "source": [
    "# Family of Distributions"
   ]
  },
  {
   "cell_type": "markdown",
   "metadata": {
    "hidden": true
   },
   "source": [
    "We need to choose what form our $Q(z)$ takes - is it a multivariate gaussian (optionally with a diagonal covariance matrix), is it etc etc.\n",
    "\n",
    "A popular (and simple) choice is the mean-field variational family."
   ]
  },
  {
   "cell_type": "markdown",
   "metadata": {
    "hidden": true
   },
   "source": [
    "## Mean-field variational family"
   ]
  },
  {
   "cell_type": "markdown",
   "metadata": {
    "hidden": true
   },
   "source": [
    "In the MFVF we assume that the latent variables are mutually independent:\n",
    "\n",
    "$$\n",
    "Q(z) = \\prod_{i=1}^{m} q_i(z_i)\n",
    "$$\n",
    "\n",
    "Remember again that this has nothing to do with the data $x$. This is just the distribution of the latent variables which we will get close to the goal distribution (the posterior) bu maximising the ELBO.\n",
    "\n",
    "We then need to specify what form each of the $q_i$ take -- are they gaussian, uniform, categorical, etc. Once we make this choice we can tweak the parameters that describe each $q_i$ to reduce the KL/increase the ELBO.\n",
    "\n",
    "For example, let's assume that we decide that the ith latent variable is best described by a gaussian. Then,\n",
    "\n",
    "$$\n",
    "q_i(z_i) = \\frac{1}{\\sqrt{2 \\pi \\sigma_i^2}} \\exp\\bigg(- \\frac{(z_i - \\mu_i)^2}{2 \\sigma_i^2}\\bigg)\n",
    "$$\n",
    "\n",
    "Maybe we decide that all $q_i$ are gaussian - note that this is $m$ 1d gaussians rather than 1 $m$d gaussian as there are independent. We then have, (see [here](../gaussian_processes/multivariate_gaussian.ipynb))\n",
    "\n",
    "$$\n",
    "\\begin{align}\n",
    "Q(z) &= \\prod_{i=1}^{m} \\frac{1}{\\sqrt{2 \\pi \\sigma_i^2}} \\exp\\bigg(- \\frac{(z_i - \\mu_i)^2}{2 \\sigma_i^2}\\bigg) \\\\\n",
    "\\log Q(z) &= - \\sum_{i=1}^{m} \\log(2 \\pi \\sigma_i^2) + \\frac{(z_i - \\mu_i)^2}{2 \\sigma_i^2}\n",
    "\\end{align}\n",
    "$$\n",
    "\n"
   ]
  },
  {
   "cell_type": "markdown",
   "metadata": {
    "hidden": true
   },
   "source": [
    "Let's optimize this. To do this we need to know the likelihood and prior to get $P(x, z)$. Assume that this is also gaussian, but with some covariance.\n",
    "\n",
    "$$\n",
    "\\begin{align}\n",
    "P(z, x) &= \\frac{1}{\\sqrt{(2 \\pi)^k |\\Sigma|}} \\exp\\bigg(\\frac{1}{2}(z - \\mu)^T \\Sigma^{-1} (z - \\mu)\\bigg) \\\\\n",
    "\\log P(z, x) &= -\\frac{1}{2} (k \\log (2 \\pi) + \\log (| \\Sigma |) + (z - \\mu)^T \\Sigma^{-1} (z - \\mu) )\n",
    "\\end{align}\n",
    "$$\n",
    "\n",
    "We then want to maximise,\n",
    "\n",
    "$$\n",
    "\\begin{align}\n",
    "{\\rm ELBO}(Q(z)) = \\mathbf{E}^Q[\\log(P(x, z))] - \\mathbf{E}^Q[\\log(Q(z))]\n",
    "\\end{align}\n",
    "$$\n",
    "\n",
    "Because everything is gaussian we could do this analytically. But I will just do this numerically..."
   ]
  },
  {
   "cell_type": "markdown",
   "metadata": {
    "heading_collapsed": true
   },
   "source": [
    "# Example 1: KL fit to Posterior"
   ]
  },
  {
   "cell_type": "markdown",
   "metadata": {
    "hidden": true
   },
   "source": [
    "This doesn't actually do any inference. It just shows, given a posterior, the best fit of a mean-field gaussian family to it.\n",
    "\n",
    "It also takes some other things for granted that are wrong or simplifications. Just look at the pictures."
   ]
  },
  {
   "cell_type": "code",
   "execution_count": 138,
   "metadata": {
    "hidden": true
   },
   "outputs": [],
   "source": [
    "dims = 2\n",
    "p_mean, p_cov = np.array([0, 0]), np.array([[1, 0], [1, 2]])\n",
    "evidence = 150 # We don't know what this is \n",
    "\n",
    "prior_and_liklihood = lambda x: scipy.stats.multivariate_normal(p_mean, p_cov).pdf(x) * evidence\n",
    "\n",
    "def q(means, variances):\n",
    "    q = scipy.stats.multivariate_normal(mean=means, cov=np.diag(variances))\n",
    "    return lambda x: q.pdf(x)\n",
    "\n",
    "x, y = np.meshgrid(np.linspace(-3, 3), np.linspace(-3, 3))\n",
    "eval_locations = np.concatenate((x[:,:,np.newaxis], y[:,:,np.newaxis]), axis=2)\n",
    "\n",
    "def compare(means, variances):\n",
    "    q_res = q(means, variances)(eval_locations)\n",
    "    p_res = prior_and_liklihood(eval_locations)\n",
    "    \n",
    "    p_res, q_res = p_res / np.sum(p_res), q_res / np.sum(q_res)\n",
    "\n",
    "    fig, axes = plt.subplots(1, 2)\n",
    "    img = axes[1].imshow(q_res, cmap=\"Reds\")\n",
    "    cbar = fig.colorbar(img, fraction=0.046, pad=0.04)\n",
    "    img = axes[0].imshow(p_res, cbar.get_cmap(), vmin=cbar.get_clim()[0], vmax=cbar.get_clim()[1])\n",
    "    \n",
    "    \n",
    "    print(scipy.stats.entropy(\n",
    "        p_res.flatten(),\n",
    "        q_res.flatten(),\n",
    "    ))"
   ]
  },
  {
   "cell_type": "code",
   "execution_count": 139,
   "metadata": {
    "hidden": true
   },
   "outputs": [
    {
     "name": "stdout",
     "output_type": "stream",
     "text": [
      "0.5058327043148416\n"
     ]
    },
    {
     "data": {
      "image/png": "[encoded data removed]",
      "text/plain": [
       "<Figure size 1200x800 with 3 Axes>"
      ]
     },
     "metadata": {
      "needs_background": "light"
     },
     "output_type": "display_data"
    }
   ],
   "source": [
    "def f(theta):\n",
    "    means, variances = theta[:dims], theta[dims:]\n",
    "    # Be careful that you get this the right way around!\n",
    "    return scipy.stats.entropy(\n",
    "        q(means, variances)(eval_locations).flatten(),        \n",
    "        prior_and_liklihood(eval_locations).flatten(),\n",
    "    )\n",
    "\n",
    "res = scipy.optimize.minimize(\n",
    "    f,\n",
    "    np.ones(dims*2)\n",
    ")\n",
    "assert res.success == True\n",
    "\n",
    "best_means, best_variances = res.x[:dims], res.x[dims:]\n",
    "compare(best_means, best_variances)"
   ]
  },
  {
   "cell_type": "markdown",
   "metadata": {},
   "source": [
    "# Example 2: Trivial fit to line"
   ]
  },
  {
   "cell_type": "markdown",
   "metadata": {},
   "source": [
    "VI is absolute overkill for doing linear regression, but it gives a simple way to show the machinery. We have:\n",
    "* $x$ - our data, just a $n \\times 2$ vector where $x_2 = a + b x_1 + \\mathcal{N}(0, \\sigma^2)$\n",
    "* $z$ - the latent variables $a$ and $b$. I'm going to assume we know $\\sigma$"
   ]
  },
  {
   "cell_type": "code",
   "execution_count": 7,
   "metadata": {
    "ExecuteTime": {
     "end_time": "2019-02-20T23:10:44.931637Z",
     "start_time": "2019-02-20T23:10:44.902388Z"
    }
   },
   "outputs": [
    {
     "name": "stdout",
     "output_type": "stream",
     "text": [
      "8913.823635592105\n",
      "-10705526708.641384\n"
     ]
    }
   ],
   "source": [
    "params = np.array([1, 1])\n",
    "sigma = 0.1\n",
    "\n",
    "def gen_data(x, params, sigma, noise=False):\n",
    "    true = params[0] + params[1] * x\n",
    "    if noise:\n",
    "        return true + scipy.stats.norm(0, sigma).rvs(len(x))\n",
    "    return true\n",
    "\n",
    "def log_likelihood(x, y, params, sigma):\n",
    "    delta = y - gen_data(x, params, sigma, noise=False)\n",
    "    return np.sum(scipy.stats.norm(0, sigma).logpdf(delta))\n",
    "\n",
    "x = np.linspace(0, 10, num=10000)\n",
    "y = gen_data(x, params, sigma, noise=True)\n",
    "\n",
    "print(log_likelihood(x, y, params, sigma))\n",
    "bad_params = np.array([100, 10])\n",
    "print(log_likelihood(x, y, bad_params, sigma))"
   ]
  },
  {
   "cell_type": "markdown",
   "metadata": {},
   "source": [
    "We now have our observations. We need to model our posteriors. We will just do this as a normal."
   ]
  },
  {
   "cell_type": "code",
   "execution_count": 8,
   "metadata": {
    "ExecuteTime": {
     "end_time": "2019-02-20T23:11:01.895194Z",
     "start_time": "2019-02-20T23:10:52.237499Z"
    },
    "scrolled": true
   },
   "outputs": [
    {
     "name": "stdout",
     "output_type": "stream",
     "text": [
      "[1.  0.1 1.  0.1] 166245952.32966354\n",
      "[1.  0.1 1.  0.1] 167749781.5171008\n",
      "166245952.32966354 167749781.5171008\n",
      "[1.e+00 1.e-06 1.e+00 1.e-06] -8889056.028371375\n",
      "[1.e+00 1.e-06 1.e+00 1.e-06] -8889040.482470129\n",
      "-8889056.028371375 -8889040.482470129\n"
     ]
    }
   ],
   "source": [
    "nu = np.array([1, 0.1, 1, 0.1]) # each param has two nu. We initialize it to something semi reasonable.\n",
    "\n",
    "def draw_z(nu, draws):\n",
    "    return np.array([\n",
    "        scipy.stats.norm(nu[0], nu[1]).rvs(draws), \n",
    "        np.abs(scipy.stats.norm(nu[2], nu[3]).rvs(draws))]\n",
    "    ).T\n",
    "\n",
    "def compute_ELBO(x, y, sigma, test_params, nu):\n",
    "    ELBO = 0\n",
    "    for p in test_params:\n",
    "        ELBO += log_likelihood(x, y, p, sigma) - np.log(\n",
    "            scipy.stats.norm(nu[0], nu[1]).pdf(p[0]) * \n",
    "            scipy.stats.norm(nu[2], nu[3]).pdf(p[1])\n",
    "        )\n",
    "    return ELBO\n",
    "\n",
    "def f_min(nu):\n",
    "    z_samples = draw_z(nu, 1000)\n",
    "    neg_ELBO = -compute_ELBO(x, y, sigma, z_samples, nu)\n",
    "    print(nu, neg_ELBO)\n",
    "    return neg_ELBO\n",
    "\n",
    "print(f_min(nu), f_min(nu))\n",
    "good_nu = np.array([1, 1e-6, 1, 1e-6])\n",
    "\n",
    "print(f_min(good_nu), f_min(good_nu))"
   ]
  },
  {
   "cell_type": "code",
   "execution_count": 12,
   "metadata": {
    "ExecuteTime": {
     "end_time": "2019-02-20T23:12:15.094024Z",
     "start_time": "2019-02-20T23:12:11.267219Z"
    }
   },
   "outputs": [
    {
     "name": "stdout",
     "output_type": "stream",
     "text": [
      "[1.  0.1 1.  0.1] 165823085.00293407\n"
     ]
    },
    {
     "ename": "TypeError",
     "evalue": "ufunc 'isnan' not supported for the input types, and the inputs could not be safely coerced to any supported types according to the casting rule ''safe''",
     "output_type": "error",
     "traceback": [
      "\u001b[0;31m---------------------------------------------------------------------------\u001b[0m",
      "\u001b[0;31mTypeError\u001b[0m                                 Traceback (most recent call last)",
      "\u001b[0;32m<ipython-input-12-7c5b0818e1ab>\u001b[0m in \u001b[0;36m<module>\u001b[0;34m\u001b[0m\n\u001b[1;32m      5\u001b[0m     \u001b[0;31m#hess=grad(grad(f_min)),\u001b[0m\u001b[0;34m\u001b[0m\u001b[0;34m\u001b[0m\u001b[0;34m\u001b[0m\u001b[0m\n\u001b[1;32m      6\u001b[0m     \u001b[0mx0\u001b[0m\u001b[0;34m=\u001b[0m\u001b[0mnu\u001b[0m\u001b[0;34m,\u001b[0m\u001b[0;34m\u001b[0m\u001b[0;34m\u001b[0m\u001b[0m\n\u001b[0;32m----> 7\u001b[0;31m     \u001b[0mbounds\u001b[0m\u001b[0;34m=\u001b[0m\u001b[0;34m[\u001b[0m\u001b[0;34m(\u001b[0m\u001b[0;32mNone\u001b[0m\u001b[0;34m,\u001b[0m \u001b[0;32mNone\u001b[0m\u001b[0;34m)\u001b[0m\u001b[0;34m,\u001b[0m \u001b[0;34m(\u001b[0m\u001b[0;36m0\u001b[0m\u001b[0;34m,\u001b[0m \u001b[0;36m2\u001b[0m\u001b[0;34m)\u001b[0m\u001b[0;34m,\u001b[0m \u001b[0;34m(\u001b[0m\u001b[0;32mNone\u001b[0m\u001b[0;34m,\u001b[0m \u001b[0;32mNone\u001b[0m\u001b[0;34m)\u001b[0m\u001b[0;34m,\u001b[0m \u001b[0;34m(\u001b[0m\u001b[0;36m0\u001b[0m\u001b[0;34m,\u001b[0m \u001b[0;36m2\u001b[0m\u001b[0;34m)\u001b[0m\u001b[0;34m]\u001b[0m\u001b[0;34m,\u001b[0m\u001b[0;34m\u001b[0m\u001b[0;34m\u001b[0m\u001b[0m\n\u001b[0m\u001b[1;32m      8\u001b[0m     \u001b[0;31m#method=\"L-BFGS-B\",\u001b[0m\u001b[0;34m\u001b[0m\u001b[0;34m\u001b[0m\u001b[0;34m\u001b[0m\u001b[0m\n\u001b[1;32m      9\u001b[0m )\n",
      "\u001b[0;32m~/.virtualenvs/learning/lib/python3.6/site-packages/scipy/optimize/_minimize.py\u001b[0m in \u001b[0;36mminimize\u001b[0;34m(fun, x0, args, method, jac, hess, hessp, bounds, constraints, tol, callback, options)\u001b[0m\n\u001b[1;32m    601\u001b[0m     \u001b[0;32melif\u001b[0m \u001b[0mmeth\u001b[0m \u001b[0;34m==\u001b[0m \u001b[0;34m'l-bfgs-b'\u001b[0m\u001b[0;34m:\u001b[0m\u001b[0;34m\u001b[0m\u001b[0;34m\u001b[0m\u001b[0m\n\u001b[1;32m    602\u001b[0m         return _minimize_lbfgsb(fun, x0, args, jac, bounds,\n\u001b[0;32m--> 603\u001b[0;31m                                 callback=callback, **options)\n\u001b[0m\u001b[1;32m    604\u001b[0m     \u001b[0;32melif\u001b[0m \u001b[0mmeth\u001b[0m \u001b[0;34m==\u001b[0m \u001b[0;34m'tnc'\u001b[0m\u001b[0;34m:\u001b[0m\u001b[0;34m\u001b[0m\u001b[0;34m\u001b[0m\u001b[0m\n\u001b[1;32m    605\u001b[0m         return _minimize_tnc(fun, x0, args, jac, bounds, callback=callback,\n",
      "\u001b[0;32m~/.virtualenvs/learning/lib/python3.6/site-packages/scipy/optimize/lbfgsb.py\u001b[0m in \u001b[0;36m_minimize_lbfgsb\u001b[0;34m(fun, x0, args, jac, bounds, disp, maxcor, ftol, gtol, eps, maxfun, maxiter, iprint, callback, maxls, **unknown_options)\u001b[0m\n\u001b[1;32m    333\u001b[0m             \u001b[0;31m# until the completion of the current minimization iteration.\u001b[0m\u001b[0;34m\u001b[0m\u001b[0;34m\u001b[0m\u001b[0;34m\u001b[0m\u001b[0m\n\u001b[1;32m    334\u001b[0m             \u001b[0;31m# Overwrite f and g:\u001b[0m\u001b[0;34m\u001b[0m\u001b[0;34m\u001b[0m\u001b[0;34m\u001b[0m\u001b[0m\n\u001b[0;32m--> 335\u001b[0;31m             \u001b[0mf\u001b[0m\u001b[0;34m,\u001b[0m \u001b[0mg\u001b[0m \u001b[0;34m=\u001b[0m \u001b[0mfunc_and_grad\u001b[0m\u001b[0;34m(\u001b[0m\u001b[0mx\u001b[0m\u001b[0;34m)\u001b[0m\u001b[0;34m\u001b[0m\u001b[0;34m\u001b[0m\u001b[0m\n\u001b[0m\u001b[1;32m    336\u001b[0m         \u001b[0;32melif\u001b[0m \u001b[0mtask_str\u001b[0m\u001b[0;34m.\u001b[0m\u001b[0mstartswith\u001b[0m\u001b[0;34m(\u001b[0m\u001b[0;34mb'NEW_X'\u001b[0m\u001b[0;34m)\u001b[0m\u001b[0;34m:\u001b[0m\u001b[0;34m\u001b[0m\u001b[0;34m\u001b[0m\u001b[0m\n\u001b[1;32m    337\u001b[0m             \u001b[0;31m# new iteration\u001b[0m\u001b[0;34m\u001b[0m\u001b[0;34m\u001b[0m\u001b[0;34m\u001b[0m\u001b[0m\n",
      "\u001b[0;32m~/.virtualenvs/learning/lib/python3.6/site-packages/scipy/optimize/lbfgsb.py\u001b[0m in \u001b[0;36mfunc_and_grad\u001b[0;34m(x)\u001b[0m\n\u001b[1;32m    284\u001b[0m         \u001b[0;32mdef\u001b[0m \u001b[0mfunc_and_grad\u001b[0m\u001b[0;34m(\u001b[0m\u001b[0mx\u001b[0m\u001b[0;34m)\u001b[0m\u001b[0;34m:\u001b[0m\u001b[0;34m\u001b[0m\u001b[0;34m\u001b[0m\u001b[0m\n\u001b[1;32m    285\u001b[0m             \u001b[0mf\u001b[0m \u001b[0;34m=\u001b[0m \u001b[0mfun\u001b[0m\u001b[0;34m(\u001b[0m\u001b[0mx\u001b[0m\u001b[0;34m,\u001b[0m \u001b[0;34m*\u001b[0m\u001b[0margs\u001b[0m\u001b[0;34m)\u001b[0m\u001b[0;34m\u001b[0m\u001b[0;34m\u001b[0m\u001b[0m\n\u001b[0;32m--> 286\u001b[0;31m             \u001b[0mg\u001b[0m \u001b[0;34m=\u001b[0m \u001b[0mjac\u001b[0m\u001b[0;34m(\u001b[0m\u001b[0mx\u001b[0m\u001b[0;34m,\u001b[0m \u001b[0;34m*\u001b[0m\u001b[0margs\u001b[0m\u001b[0;34m)\u001b[0m\u001b[0;34m\u001b[0m\u001b[0;34m\u001b[0m\u001b[0m\n\u001b[0m\u001b[1;32m    287\u001b[0m             \u001b[0;32mreturn\u001b[0m \u001b[0mf\u001b[0m\u001b[0;34m,\u001b[0m \u001b[0mg\u001b[0m\u001b[0;34m\u001b[0m\u001b[0;34m\u001b[0m\u001b[0m\n\u001b[1;32m    288\u001b[0m \u001b[0;34m\u001b[0m\u001b[0m\n",
      "\u001b[0;32m~/.virtualenvs/learning/lib/python3.6/site-packages/autograd/wrap_util.py\u001b[0m in \u001b[0;36mnary_f\u001b[0;34m(*args, **kwargs)\u001b[0m\n\u001b[1;32m     18\u001b[0m             \u001b[0;32melse\u001b[0m\u001b[0;34m:\u001b[0m\u001b[0;34m\u001b[0m\u001b[0;34m\u001b[0m\u001b[0m\n\u001b[1;32m     19\u001b[0m                 \u001b[0mx\u001b[0m \u001b[0;34m=\u001b[0m \u001b[0mtuple\u001b[0m\u001b[0;34m(\u001b[0m\u001b[0margs\u001b[0m\u001b[0;34m[\u001b[0m\u001b[0mi\u001b[0m\u001b[0;34m]\u001b[0m \u001b[0;32mfor\u001b[0m \u001b[0mi\u001b[0m \u001b[0;32min\u001b[0m \u001b[0margnum\u001b[0m\u001b[0;34m)\u001b[0m\u001b[0;34m\u001b[0m\u001b[0;34m\u001b[0m\u001b[0m\n\u001b[0;32m---> 20\u001b[0;31m             \u001b[0;32mreturn\u001b[0m \u001b[0munary_operator\u001b[0m\u001b[0;34m(\u001b[0m\u001b[0munary_f\u001b[0m\u001b[0;34m,\u001b[0m \u001b[0mx\u001b[0m\u001b[0;34m,\u001b[0m \u001b[0;34m*\u001b[0m\u001b[0mnary_op_args\u001b[0m\u001b[0;34m,\u001b[0m \u001b[0;34m**\u001b[0m\u001b[0mnary_op_kwargs\u001b[0m\u001b[0;34m)\u001b[0m\u001b[0;34m\u001b[0m\u001b[0;34m\u001b[0m\u001b[0m\n\u001b[0m\u001b[1;32m     21\u001b[0m         \u001b[0;32mreturn\u001b[0m \u001b[0mnary_f\u001b[0m\u001b[0;34m\u001b[0m\u001b[0;34m\u001b[0m\u001b[0m\n\u001b[1;32m     22\u001b[0m     \u001b[0;32mreturn\u001b[0m \u001b[0mnary_operator\u001b[0m\u001b[0;34m\u001b[0m\u001b[0;34m\u001b[0m\u001b[0m\n",
      "\u001b[0;32m~/.virtualenvs/learning/lib/python3.6/site-packages/autograd/differential_operators.py\u001b[0m in \u001b[0;36mgrad\u001b[0;34m(fun, x)\u001b[0m\n\u001b[1;32m     22\u001b[0m     \u001b[0marguments\u001b[0m \u001b[0;32mas\u001b[0m\u001b[0;31m \u001b[0m\u001b[0;31m`\u001b[0m\u001b[0mfun\u001b[0m\u001b[0;31m`\u001b[0m\u001b[0;34m,\u001b[0m \u001b[0mbut\u001b[0m \u001b[0mreturns\u001b[0m \u001b[0mthe\u001b[0m \u001b[0mgradient\u001b[0m \u001b[0minstead\u001b[0m\u001b[0;34m.\u001b[0m \u001b[0mThe\u001b[0m \u001b[0mfunction\u001b[0m\u001b[0;31m \u001b[0m\u001b[0;31m`\u001b[0m\u001b[0mfun\u001b[0m\u001b[0;31m`\u001b[0m\u001b[0;34m\u001b[0m\u001b[0;34m\u001b[0m\u001b[0m\n\u001b[1;32m     23\u001b[0m     should be scalar-valued. The gradient has the same type as the argument.\"\"\"\n\u001b[0;32m---> 24\u001b[0;31m     \u001b[0mvjp\u001b[0m\u001b[0;34m,\u001b[0m \u001b[0mans\u001b[0m \u001b[0;34m=\u001b[0m \u001b[0m_make_vjp\u001b[0m\u001b[0;34m(\u001b[0m\u001b[0mfun\u001b[0m\u001b[0;34m,\u001b[0m \u001b[0mx\u001b[0m\u001b[0;34m)\u001b[0m\u001b[0;34m\u001b[0m\u001b[0;34m\u001b[0m\u001b[0m\n\u001b[0m\u001b[1;32m     25\u001b[0m     \u001b[0;32mif\u001b[0m \u001b[0;32mnot\u001b[0m \u001b[0mvspace\u001b[0m\u001b[0;34m(\u001b[0m\u001b[0mans\u001b[0m\u001b[0;34m)\u001b[0m\u001b[0;34m.\u001b[0m\u001b[0msize\u001b[0m \u001b[0;34m==\u001b[0m \u001b[0;36m1\u001b[0m\u001b[0;34m:\u001b[0m\u001b[0;34m\u001b[0m\u001b[0;34m\u001b[0m\u001b[0m\n\u001b[1;32m     26\u001b[0m         raise TypeError(\"Grad only applies to real scalar-output functions. \"\n",
      "\u001b[0;32m~/.virtualenvs/learning/lib/python3.6/site-packages/autograd/core.py\u001b[0m in \u001b[0;36mmake_vjp\u001b[0;34m(fun, x)\u001b[0m\n\u001b[1;32m      8\u001b[0m \u001b[0;32mdef\u001b[0m \u001b[0mmake_vjp\u001b[0m\u001b[0;34m(\u001b[0m\u001b[0mfun\u001b[0m\u001b[0;34m,\u001b[0m \u001b[0mx\u001b[0m\u001b[0;34m)\u001b[0m\u001b[0;34m:\u001b[0m\u001b[0;34m\u001b[0m\u001b[0;34m\u001b[0m\u001b[0m\n\u001b[1;32m      9\u001b[0m     \u001b[0mstart_node\u001b[0m \u001b[0;34m=\u001b[0m \u001b[0mVJPNode\u001b[0m\u001b[0;34m.\u001b[0m\u001b[0mnew_root\u001b[0m\u001b[0;34m(\u001b[0m\u001b[0mx\u001b[0m\u001b[0;34m)\u001b[0m\u001b[0;34m\u001b[0m\u001b[0;34m\u001b[0m\u001b[0m\n\u001b[0;32m---> 10\u001b[0;31m     \u001b[0mend_value\u001b[0m\u001b[0;34m,\u001b[0m \u001b[0mend_node\u001b[0m \u001b[0;34m=\u001b[0m  \u001b[0mtrace\u001b[0m\u001b[0;34m(\u001b[0m\u001b[0mstart_node\u001b[0m\u001b[0;34m,\u001b[0m \u001b[0mfun\u001b[0m\u001b[0;34m,\u001b[0m \u001b[0mx\u001b[0m\u001b[0;34m)\u001b[0m\u001b[0;34m\u001b[0m\u001b[0;34m\u001b[0m\u001b[0m\n\u001b[0m\u001b[1;32m     11\u001b[0m     \u001b[0;32mif\u001b[0m \u001b[0mend_node\u001b[0m \u001b[0;32mis\u001b[0m \u001b[0;32mNone\u001b[0m\u001b[0;34m:\u001b[0m\u001b[0;34m\u001b[0m\u001b[0;34m\u001b[0m\u001b[0m\n\u001b[1;32m     12\u001b[0m         \u001b[0;32mdef\u001b[0m \u001b[0mvjp\u001b[0m\u001b[0;34m(\u001b[0m\u001b[0mg\u001b[0m\u001b[0;34m)\u001b[0m\u001b[0;34m:\u001b[0m \u001b[0;32mreturn\u001b[0m \u001b[0mvspace\u001b[0m\u001b[0;34m(\u001b[0m\u001b[0mx\u001b[0m\u001b[0;34m)\u001b[0m\u001b[0;34m.\u001b[0m\u001b[0mzeros\u001b[0m\u001b[0;34m(\u001b[0m\u001b[0;34m)\u001b[0m\u001b[0;34m\u001b[0m\u001b[0;34m\u001b[0m\u001b[0m\n",
      "\u001b[0;32m~/.virtualenvs/learning/lib/python3.6/site-packages/autograd/tracer.py\u001b[0m in \u001b[0;36mtrace\u001b[0;34m(start_node, fun, x)\u001b[0m\n\u001b[1;32m      8\u001b[0m     \u001b[0;32mwith\u001b[0m \u001b[0mtrace_stack\u001b[0m\u001b[0;34m.\u001b[0m\u001b[0mnew_trace\u001b[0m\u001b[0;34m(\u001b[0m\u001b[0;34m)\u001b[0m \u001b[0;32mas\u001b[0m \u001b[0mt\u001b[0m\u001b[0;34m:\u001b[0m\u001b[0;34m\u001b[0m\u001b[0;34m\u001b[0m\u001b[0m\n\u001b[1;32m      9\u001b[0m         \u001b[0mstart_box\u001b[0m \u001b[0;34m=\u001b[0m \u001b[0mnew_box\u001b[0m\u001b[0;34m(\u001b[0m\u001b[0mx\u001b[0m\u001b[0;34m,\u001b[0m \u001b[0mt\u001b[0m\u001b[0;34m,\u001b[0m \u001b[0mstart_node\u001b[0m\u001b[0;34m)\u001b[0m\u001b[0;34m\u001b[0m\u001b[0;34m\u001b[0m\u001b[0m\n\u001b[0;32m---> 10\u001b[0;31m         \u001b[0mend_box\u001b[0m \u001b[0;34m=\u001b[0m \u001b[0mfun\u001b[0m\u001b[0;34m(\u001b[0m\u001b[0mstart_box\u001b[0m\u001b[0;34m)\u001b[0m\u001b[0;34m\u001b[0m\u001b[0;34m\u001b[0m\u001b[0m\n\u001b[0m\u001b[1;32m     11\u001b[0m         \u001b[0;32mif\u001b[0m \u001b[0misbox\u001b[0m\u001b[0;34m(\u001b[0m\u001b[0mend_box\u001b[0m\u001b[0;34m)\u001b[0m \u001b[0;32mand\u001b[0m \u001b[0mend_box\u001b[0m\u001b[0;34m.\u001b[0m\u001b[0m_trace\u001b[0m \u001b[0;34m==\u001b[0m \u001b[0mstart_box\u001b[0m\u001b[0;34m.\u001b[0m\u001b[0m_trace\u001b[0m\u001b[0;34m:\u001b[0m\u001b[0;34m\u001b[0m\u001b[0;34m\u001b[0m\u001b[0m\n\u001b[1;32m     12\u001b[0m             \u001b[0;32mreturn\u001b[0m \u001b[0mend_box\u001b[0m\u001b[0;34m.\u001b[0m\u001b[0m_value\u001b[0m\u001b[0;34m,\u001b[0m \u001b[0mend_box\u001b[0m\u001b[0;34m.\u001b[0m\u001b[0m_node\u001b[0m\u001b[0;34m\u001b[0m\u001b[0;34m\u001b[0m\u001b[0m\n",
      "\u001b[0;32m~/.virtualenvs/learning/lib/python3.6/site-packages/autograd/wrap_util.py\u001b[0m in \u001b[0;36munary_f\u001b[0;34m(x)\u001b[0m\n\u001b[1;32m     13\u001b[0m                 \u001b[0;32melse\u001b[0m\u001b[0;34m:\u001b[0m\u001b[0;34m\u001b[0m\u001b[0;34m\u001b[0m\u001b[0m\n\u001b[1;32m     14\u001b[0m                     \u001b[0msubargs\u001b[0m \u001b[0;34m=\u001b[0m \u001b[0msubvals\u001b[0m\u001b[0;34m(\u001b[0m\u001b[0margs\u001b[0m\u001b[0;34m,\u001b[0m \u001b[0mzip\u001b[0m\u001b[0;34m(\u001b[0m\u001b[0margnum\u001b[0m\u001b[0;34m,\u001b[0m \u001b[0mx\u001b[0m\u001b[0;34m)\u001b[0m\u001b[0;34m)\u001b[0m\u001b[0;34m\u001b[0m\u001b[0;34m\u001b[0m\u001b[0m\n\u001b[0;32m---> 15\u001b[0;31m                 \u001b[0;32mreturn\u001b[0m \u001b[0mfun\u001b[0m\u001b[0;34m(\u001b[0m\u001b[0;34m*\u001b[0m\u001b[0msubargs\u001b[0m\u001b[0;34m,\u001b[0m \u001b[0;34m**\u001b[0m\u001b[0mkwargs\u001b[0m\u001b[0;34m)\u001b[0m\u001b[0;34m\u001b[0m\u001b[0;34m\u001b[0m\u001b[0m\n\u001b[0m\u001b[1;32m     16\u001b[0m             \u001b[0;32mif\u001b[0m \u001b[0misinstance\u001b[0m\u001b[0;34m(\u001b[0m\u001b[0margnum\u001b[0m\u001b[0;34m,\u001b[0m \u001b[0mint\u001b[0m\u001b[0;34m)\u001b[0m\u001b[0;34m:\u001b[0m\u001b[0;34m\u001b[0m\u001b[0;34m\u001b[0m\u001b[0m\n\u001b[1;32m     17\u001b[0m                 \u001b[0mx\u001b[0m \u001b[0;34m=\u001b[0m \u001b[0margs\u001b[0m\u001b[0;34m[\u001b[0m\u001b[0margnum\u001b[0m\u001b[0;34m]\u001b[0m\u001b[0;34m\u001b[0m\u001b[0;34m\u001b[0m\u001b[0m\n",
      "\u001b[0;32m<ipython-input-8-f9bf5ecda1d3>\u001b[0m in \u001b[0;36mf_min\u001b[0;34m(nu)\u001b[0m\n\u001b[1;32m     18\u001b[0m \u001b[0;32mdef\u001b[0m \u001b[0mf_min\u001b[0m\u001b[0;34m(\u001b[0m\u001b[0mnu\u001b[0m\u001b[0;34m)\u001b[0m\u001b[0;34m:\u001b[0m\u001b[0;34m\u001b[0m\u001b[0;34m\u001b[0m\u001b[0m\n\u001b[1;32m     19\u001b[0m     \u001b[0mz_samples\u001b[0m \u001b[0;34m=\u001b[0m \u001b[0mdraw_z\u001b[0m\u001b[0;34m(\u001b[0m\u001b[0mnu\u001b[0m\u001b[0;34m,\u001b[0m \u001b[0;36m1000\u001b[0m\u001b[0;34m)\u001b[0m\u001b[0;34m\u001b[0m\u001b[0;34m\u001b[0m\u001b[0m\n\u001b[0;32m---> 20\u001b[0;31m     \u001b[0mneg_ELBO\u001b[0m \u001b[0;34m=\u001b[0m \u001b[0;34m-\u001b[0m\u001b[0mcompute_ELBO\u001b[0m\u001b[0;34m(\u001b[0m\u001b[0mx\u001b[0m\u001b[0;34m,\u001b[0m \u001b[0my\u001b[0m\u001b[0;34m,\u001b[0m \u001b[0msigma\u001b[0m\u001b[0;34m,\u001b[0m \u001b[0mz_samples\u001b[0m\u001b[0;34m,\u001b[0m \u001b[0mnu\u001b[0m\u001b[0;34m)\u001b[0m\u001b[0;34m\u001b[0m\u001b[0;34m\u001b[0m\u001b[0m\n\u001b[0m\u001b[1;32m     21\u001b[0m     \u001b[0mprint\u001b[0m\u001b[0;34m(\u001b[0m\u001b[0mnu\u001b[0m\u001b[0;34m,\u001b[0m \u001b[0mneg_ELBO\u001b[0m\u001b[0;34m)\u001b[0m\u001b[0;34m\u001b[0m\u001b[0;34m\u001b[0m\u001b[0m\n\u001b[1;32m     22\u001b[0m     \u001b[0;32mreturn\u001b[0m \u001b[0mneg_ELBO\u001b[0m\u001b[0;34m\u001b[0m\u001b[0;34m\u001b[0m\u001b[0m\n",
      "\u001b[0;32m<ipython-input-8-f9bf5ecda1d3>\u001b[0m in \u001b[0;36mcompute_ELBO\u001b[0;34m(x, y, sigma, test_params, nu)\u001b[0m\n\u001b[1;32m     10\u001b[0m     \u001b[0mELBO\u001b[0m \u001b[0;34m=\u001b[0m \u001b[0;36m0\u001b[0m\u001b[0;34m\u001b[0m\u001b[0;34m\u001b[0m\u001b[0m\n\u001b[1;32m     11\u001b[0m     \u001b[0;32mfor\u001b[0m \u001b[0mp\u001b[0m \u001b[0;32min\u001b[0m \u001b[0mtest_params\u001b[0m\u001b[0;34m:\u001b[0m\u001b[0;34m\u001b[0m\u001b[0;34m\u001b[0m\u001b[0m\n\u001b[0;32m---> 12\u001b[0;31m         ELBO += log_likelihood(x, y, p, sigma) - np.log(\n\u001b[0m\u001b[1;32m     13\u001b[0m             \u001b[0mscipy\u001b[0m\u001b[0;34m.\u001b[0m\u001b[0mstats\u001b[0m\u001b[0;34m.\u001b[0m\u001b[0mnorm\u001b[0m\u001b[0;34m(\u001b[0m\u001b[0mnu\u001b[0m\u001b[0;34m[\u001b[0m\u001b[0;36m0\u001b[0m\u001b[0;34m]\u001b[0m\u001b[0;34m,\u001b[0m \u001b[0mnu\u001b[0m\u001b[0;34m[\u001b[0m\u001b[0;36m1\u001b[0m\u001b[0;34m]\u001b[0m\u001b[0;34m)\u001b[0m\u001b[0;34m.\u001b[0m\u001b[0mpdf\u001b[0m\u001b[0;34m(\u001b[0m\u001b[0mp\u001b[0m\u001b[0;34m[\u001b[0m\u001b[0;36m0\u001b[0m\u001b[0;34m]\u001b[0m\u001b[0;34m)\u001b[0m \u001b[0;34m*\u001b[0m\u001b[0;34m\u001b[0m\u001b[0;34m\u001b[0m\u001b[0m\n\u001b[1;32m     14\u001b[0m             \u001b[0mscipy\u001b[0m\u001b[0;34m.\u001b[0m\u001b[0mstats\u001b[0m\u001b[0;34m.\u001b[0m\u001b[0mnorm\u001b[0m\u001b[0;34m(\u001b[0m\u001b[0mnu\u001b[0m\u001b[0;34m[\u001b[0m\u001b[0;36m2\u001b[0m\u001b[0;34m]\u001b[0m\u001b[0;34m,\u001b[0m \u001b[0mnu\u001b[0m\u001b[0;34m[\u001b[0m\u001b[0;36m3\u001b[0m\u001b[0;34m]\u001b[0m\u001b[0;34m)\u001b[0m\u001b[0;34m.\u001b[0m\u001b[0mpdf\u001b[0m\u001b[0;34m(\u001b[0m\u001b[0mp\u001b[0m\u001b[0;34m[\u001b[0m\u001b[0;36m1\u001b[0m\u001b[0;34m]\u001b[0m\u001b[0;34m)\u001b[0m\u001b[0;34m\u001b[0m\u001b[0;34m\u001b[0m\u001b[0m\n",
      "\u001b[0;32m<ipython-input-7-cac05cf7116a>\u001b[0m in \u001b[0;36mlog_likelihood\u001b[0;34m(x, y, params, sigma)\u001b[0m\n\u001b[1;32m     10\u001b[0m \u001b[0;32mdef\u001b[0m \u001b[0mlog_likelihood\u001b[0m\u001b[0;34m(\u001b[0m\u001b[0mx\u001b[0m\u001b[0;34m,\u001b[0m \u001b[0my\u001b[0m\u001b[0;34m,\u001b[0m \u001b[0mparams\u001b[0m\u001b[0;34m,\u001b[0m \u001b[0msigma\u001b[0m\u001b[0;34m)\u001b[0m\u001b[0;34m:\u001b[0m\u001b[0;34m\u001b[0m\u001b[0;34m\u001b[0m\u001b[0m\n\u001b[1;32m     11\u001b[0m     \u001b[0mdelta\u001b[0m \u001b[0;34m=\u001b[0m \u001b[0my\u001b[0m \u001b[0;34m-\u001b[0m \u001b[0mgen_data\u001b[0m\u001b[0;34m(\u001b[0m\u001b[0mx\u001b[0m\u001b[0;34m,\u001b[0m \u001b[0mparams\u001b[0m\u001b[0;34m,\u001b[0m \u001b[0msigma\u001b[0m\u001b[0;34m,\u001b[0m \u001b[0mnoise\u001b[0m\u001b[0;34m=\u001b[0m\u001b[0;32mFalse\u001b[0m\u001b[0;34m)\u001b[0m\u001b[0;34m\u001b[0m\u001b[0;34m\u001b[0m\u001b[0m\n\u001b[0;32m---> 12\u001b[0;31m     \u001b[0;32mreturn\u001b[0m \u001b[0mnp\u001b[0m\u001b[0;34m.\u001b[0m\u001b[0msum\u001b[0m\u001b[0;34m(\u001b[0m\u001b[0mscipy\u001b[0m\u001b[0;34m.\u001b[0m\u001b[0mstats\u001b[0m\u001b[0;34m.\u001b[0m\u001b[0mnorm\u001b[0m\u001b[0;34m(\u001b[0m\u001b[0;36m0\u001b[0m\u001b[0;34m,\u001b[0m \u001b[0msigma\u001b[0m\u001b[0;34m)\u001b[0m\u001b[0;34m.\u001b[0m\u001b[0mlogpdf\u001b[0m\u001b[0;34m(\u001b[0m\u001b[0mdelta\u001b[0m\u001b[0;34m)\u001b[0m\u001b[0;34m)\u001b[0m\u001b[0;34m\u001b[0m\u001b[0;34m\u001b[0m\u001b[0m\n\u001b[0m\u001b[1;32m     13\u001b[0m \u001b[0;34m\u001b[0m\u001b[0m\n\u001b[1;32m     14\u001b[0m \u001b[0mx\u001b[0m \u001b[0;34m=\u001b[0m \u001b[0mnp\u001b[0m\u001b[0;34m.\u001b[0m\u001b[0mlinspace\u001b[0m\u001b[0;34m(\u001b[0m\u001b[0;36m0\u001b[0m\u001b[0;34m,\u001b[0m \u001b[0;36m10\u001b[0m\u001b[0;34m,\u001b[0m \u001b[0mnum\u001b[0m\u001b[0;34m=\u001b[0m\u001b[0;36m10000\u001b[0m\u001b[0;34m)\u001b[0m\u001b[0;34m\u001b[0m\u001b[0;34m\u001b[0m\u001b[0m\n",
      "\u001b[0;32m~/.virtualenvs/learning/lib/python3.6/site-packages/scipy/stats/_distn_infrastructure.py\u001b[0m in \u001b[0;36mlogpdf\u001b[0;34m(self, x)\u001b[0m\n\u001b[1;32m    451\u001b[0m \u001b[0;34m\u001b[0m\u001b[0m\n\u001b[1;32m    452\u001b[0m     \u001b[0;32mdef\u001b[0m \u001b[0mlogpdf\u001b[0m\u001b[0;34m(\u001b[0m\u001b[0mself\u001b[0m\u001b[0;34m,\u001b[0m \u001b[0mx\u001b[0m\u001b[0;34m)\u001b[0m\u001b[0;34m:\u001b[0m\u001b[0;34m\u001b[0m\u001b[0;34m\u001b[0m\u001b[0m\n\u001b[0;32m--> 453\u001b[0;31m         \u001b[0;32mreturn\u001b[0m \u001b[0mself\u001b[0m\u001b[0;34m.\u001b[0m\u001b[0mdist\u001b[0m\u001b[0;34m.\u001b[0m\u001b[0mlogpdf\u001b[0m\u001b[0;34m(\u001b[0m\u001b[0mx\u001b[0m\u001b[0;34m,\u001b[0m \u001b[0;34m*\u001b[0m\u001b[0mself\u001b[0m\u001b[0;34m.\u001b[0m\u001b[0margs\u001b[0m\u001b[0;34m,\u001b[0m \u001b[0;34m**\u001b[0m\u001b[0mself\u001b[0m\u001b[0;34m.\u001b[0m\u001b[0mkwds\u001b[0m\u001b[0;34m)\u001b[0m\u001b[0;34m\u001b[0m\u001b[0;34m\u001b[0m\u001b[0m\n\u001b[0m\u001b[1;32m    454\u001b[0m \u001b[0;34m\u001b[0m\u001b[0m\n\u001b[1;32m    455\u001b[0m     \u001b[0;32mdef\u001b[0m \u001b[0mcdf\u001b[0m\u001b[0;34m(\u001b[0m\u001b[0mself\u001b[0m\u001b[0;34m,\u001b[0m \u001b[0mx\u001b[0m\u001b[0;34m)\u001b[0m\u001b[0;34m:\u001b[0m\u001b[0;34m\u001b[0m\u001b[0;34m\u001b[0m\u001b[0m\n",
      "\u001b[0;32m~/.virtualenvs/learning/lib/python3.6/site-packages/scipy/stats/_distn_infrastructure.py\u001b[0m in \u001b[0;36mlogpdf\u001b[0;34m(self, x, *args, **kwds)\u001b[0m\n\u001b[1;32m   1698\u001b[0m         \u001b[0moutput\u001b[0m \u001b[0;34m=\u001b[0m \u001b[0mempty\u001b[0m\u001b[0;34m(\u001b[0m\u001b[0mshape\u001b[0m\u001b[0;34m(\u001b[0m\u001b[0mcond\u001b[0m\u001b[0;34m)\u001b[0m\u001b[0;34m,\u001b[0m \u001b[0mdtyp\u001b[0m\u001b[0;34m)\u001b[0m\u001b[0;34m\u001b[0m\u001b[0;34m\u001b[0m\u001b[0m\n\u001b[1;32m   1699\u001b[0m         \u001b[0moutput\u001b[0m\u001b[0;34m.\u001b[0m\u001b[0mfill\u001b[0m\u001b[0;34m(\u001b[0m\u001b[0mNINF\u001b[0m\u001b[0;34m)\u001b[0m\u001b[0;34m\u001b[0m\u001b[0;34m\u001b[0m\u001b[0m\n\u001b[0;32m-> 1700\u001b[0;31m         \u001b[0mputmask\u001b[0m\u001b[0;34m(\u001b[0m\u001b[0moutput\u001b[0m\u001b[0;34m,\u001b[0m \u001b[0;34m(\u001b[0m\u001b[0;36m1\u001b[0m\u001b[0;34m-\u001b[0m\u001b[0mcond0\u001b[0m\u001b[0;34m)\u001b[0m\u001b[0;34m+\u001b[0m\u001b[0mnp\u001b[0m\u001b[0;34m.\u001b[0m\u001b[0misnan\u001b[0m\u001b[0;34m(\u001b[0m\u001b[0mx\u001b[0m\u001b[0;34m)\u001b[0m\u001b[0;34m,\u001b[0m \u001b[0mself\u001b[0m\u001b[0;34m.\u001b[0m\u001b[0mbadvalue\u001b[0m\u001b[0;34m)\u001b[0m\u001b[0;34m\u001b[0m\u001b[0;34m\u001b[0m\u001b[0m\n\u001b[0m\u001b[1;32m   1701\u001b[0m         \u001b[0;32mif\u001b[0m \u001b[0mnp\u001b[0m\u001b[0;34m.\u001b[0m\u001b[0many\u001b[0m\u001b[0;34m(\u001b[0m\u001b[0mcond\u001b[0m\u001b[0;34m)\u001b[0m\u001b[0;34m:\u001b[0m\u001b[0;34m\u001b[0m\u001b[0;34m\u001b[0m\u001b[0m\n\u001b[1;32m   1702\u001b[0m             \u001b[0mgoodargs\u001b[0m \u001b[0;34m=\u001b[0m \u001b[0margsreduce\u001b[0m\u001b[0;34m(\u001b[0m\u001b[0mcond\u001b[0m\u001b[0;34m,\u001b[0m \u001b[0;34m*\u001b[0m\u001b[0;34m(\u001b[0m\u001b[0;34m(\u001b[0m\u001b[0mx\u001b[0m\u001b[0;34m,\u001b[0m\u001b[0;34m)\u001b[0m\u001b[0;34m+\u001b[0m\u001b[0margs\u001b[0m\u001b[0;34m+\u001b[0m\u001b[0;34m(\u001b[0m\u001b[0mscale\u001b[0m\u001b[0;34m,\u001b[0m\u001b[0;34m)\u001b[0m\u001b[0;34m)\u001b[0m\u001b[0;34m)\u001b[0m\u001b[0;34m\u001b[0m\u001b[0;34m\u001b[0m\u001b[0m\n",
      "\u001b[0;31mTypeError\u001b[0m: ufunc 'isnan' not supported for the input types, and the inputs could not be safely coerced to any supported types according to the casting rule ''safe''"
     ]
    }
   ],
   "source": [
    "# I think I need a better optimizer... Maybe some sort of gradient?\n",
    "\n",
    "scipy.optimize.minimize(\n",
    "    f_min,\n",
    "    x0=nu,\n",
    "    bounds=[(None, None), (0, 2), (None, None), (0, 2)],\n",
    "    #method=\"L-BFGS-B\",\n",
    ")"
   ]
  },
  {
   "cell_type": "markdown",
   "metadata": {},
   "source": [
    "# Example 2: Fix mixture model"
   ]
  },
  {
   "cell_type": "markdown",
   "metadata": {},
   "source": [
    "We have the 2d locations of some points. We think that they have been generated by a mixture of $n=3$ gaussians with some means and variances and mixture probabilities. We want to find those parameters that generated the data. Our parameters for which we want a posterior are:\n",
    "\n",
    "* $\\mu$: an $2 \\times n$ vector, each item showing the center of the cluster\n",
    "* $\\sigma$: an $n$ vector, each item showing the dispersion of the cluster\n",
    "* $c$: an $n$ vector, each item showing the likelihood a point is assigned to that cluster.\n",
    "\n",
    "It's interesting that even a trivial problem like this with a relatively few number of clusters pretty quickly becomes a high dimension problem!\n",
    "\n",
    "Most of these are uncorrelated - only the $c$ are correlated as we know they need to add to 1. However to keep things simple we will assume that everything is uncorrelated. We will also assume that the posteriors are normally distributed. We'll start all of the clusters centered at the origin with unit variance and equal probability."
   ]
  },
  {
   "cell_type": "markdown",
   "metadata": {},
   "source": [
    "So we have:\n",
    "* $x$ - our data, a list of point locations\n",
    "* $z$ - the posterior parameters ($\\mu$, $\\sigma$, $c$) of length $4 \\times n$\n",
    "* $\\lambda$ - the VI parameters. In this case $\\mu_\\lambda$, $\\sigma_\\lambda$ for each of the posterior parameters.\n",
    "\n",
    "We want to find the "
   ]
  },
  {
   "cell_type": "code",
   "execution_count": null,
   "metadata": {},
   "outputs": [],
   "source": [
    "def likelihood(points, means, variances, c0):\n",
    "    "
   ]
  },
  {
   "cell_type": "code",
   "execution_count": null,
   "metadata": {},
   "outputs": [],
   "source": [
    "dims = 3\n",
    "means0, variances0, c0 = np.array([[0, 0], [0, 0], [0, 0]]), np.array([1, 1, 1]), np.array([1, 1, 1]) / dims\n",
    "\n",
    "\n",
    "def approx_elbow(means, variances, c0):\n",
    "    pass"
   ]
  },
  {
   "cell_type": "markdown",
   "metadata": {
    "heading_collapsed": true
   },
   "source": [
    "## Generate data"
   ]
  },
  {
   "cell_type": "code",
   "execution_count": 155,
   "metadata": {
    "hidden": true
   },
   "outputs": [
    {
     "data": {
      "image/png": "[encoded data removed]",
      "text/plain": [
       "<Figure size 1200x800 with 1 Axes>"
      ]
     },
     "metadata": {
      "needs_background": "light"
     },
     "output_type": "display_data"
    }
   ],
   "source": [
    "def generate_data(plot = False):\n",
    "    means = np.array([\n",
    "        [3, 2],\n",
    "        [-2, 2],\n",
    "        [-1, -3],\n",
    "    ])\n",
    "    variances = np.array([0.5, 0.3, 0.6])\n",
    "    fractions = np.array([1, 1, 1]) / 3\n",
    "    total_pts = 99\n",
    "\n",
    "    points = []\n",
    "\n",
    "    for i in range(len(means)):\n",
    "        x = scipy.stats.multivariate_normal(means[i], variances[i]).rvs(int(fractions[i] * total_pts))\n",
    "        points.append(x)\n",
    "    \n",
    "    if plot:\n",
    "        fig, ax = plt.subplots()\n",
    "        for subset in points:\n",
    "            ax.scatter(subset[:,0], subset[:,1])\n",
    "        fig.savefig(\"./2d_points.png\", dpi=100)\n",
    "    # Return, removing class assignments\n",
    "    return np.array(points).reshape(-1, 2)"
   ]
  },
  {
   "cell_type": "markdown",
   "metadata": {
    "heading_collapsed": true
   },
   "source": [
    "# Example 4: Conjugate model"
   ]
  },
  {
   "cell_type": "markdown",
   "metadata": {
    "hidden": true
   },
   "source": [
    "I didn't realise that this was what it was when I started. I'm not interested in conjugate models. I'm much more interested in the black box stuff. So going to leave this incomplete. Should probably just delete (and will do if I don't decide it is interesting in the next week or so)."
   ]
  },
  {
   "cell_type": "markdown",
   "metadata": {
    "hidden": true
   },
   "source": [
    "This follows section 3 in [VI: A review for statisticians](https://arxiv.org/pdf/1601.00670.pdf)."
   ]
  },
  {
   "cell_type": "markdown",
   "metadata": {
    "hidden": true
   },
   "source": [
    "The data is generated by a **mixture of k unit-variance gaussians**, created in the following way:\n",
    "1. Select the means for the gaussians, $\\mu_k \\sim \\mathcal{N}(0, \\sigma^2)$. \n",
    "2. Select which gaussian each $x_i$ is drawn from $c_i \\sim {\\rm Categorical}(1/k, ..., 1/k)$ and represent this as a vector with 0s everywhere except the chosen category which is 1. \n",
    "3. Draw from that gaussian $x_i \\sim \\mathcal(c_i^T \\mu, 1)$.\n",
    "\n",
    "In summary:\n",
    "* $\\mu_k \\sim \\mathcal{N}(0, \\sigma^2)$ - to create a K long vector of the means.\n",
    "* $c_i \\sim {\\rm Categorical}(1/k, ..., 1/k)$ - to create a K long vector representing which gaussian the ith draw is from.\n",
    "* $x_i \\sim \\mathcal(c_i^T \\mu, 1)$ - to draw from that gaussian. Do this n times to generate the data.\n",
    "\n",
    "Here, $x_i | c_i, \\mu$ therefore $x | c, \\mu$. So the latent variables are the $k$ means and the $n$ class assignments. There is also a hyperparameters $\\sigma^2$.\n",
    "\n",
    "We now want to build a model to determine these $k + n$ latent variables $(\\mu, c)$"
   ]
  },
  {
   "cell_type": "markdown",
   "metadata": {
    "hidden": true
   },
   "source": [
    "As this model uses gaussians and they are easy to work with it seems like a gaussian mixture model is reasonable for our $Q$."
   ]
  },
  {
   "cell_type": "markdown",
   "metadata": {
    "hidden": true
   },
   "source": [
    "Remember that we want to maximise the ${\\rm ELBO}(Q(z))$,\n",
    "\n",
    "$$\n",
    "{\\rm ELBO}(Q(z)) = \\mathbf{E}^Q[\\log(P(x, z))] - \\mathbf{E}^Q[\\log(Q(z))]\n",
    "$$"
   ]
  }
 ],
 "metadata": {
  "kernelspec": {
   "display_name": "learning",
   "language": "python",
   "name": "learning"
  },
  "language_info": {
   "codemirror_mode": {
    "name": "ipython",
    "version": 3
   },
   "file_extension": ".py",
   "mimetype": "text/x-python",
   "name": "python",
   "nbconvert_exporter": "python",
   "pygments_lexer": "ipython3",
   "version": "3.6.8"
  },
  "toc": {
   "base_numbering": 1,
   "nav_menu": {},
   "number_sections": true,
   "sideBar": true,
   "skip_h1_title": false,
   "title_cell": "Table of Contents",
   "title_sidebar": "Contents",
   "toc_cell": false,
   "toc_position": {},
   "toc_section_display": true,
   "toc_window_display": false
  }
 },
 "nbformat": 4,
 "nbformat_minor": 2
}
