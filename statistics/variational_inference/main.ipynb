{
 "cells": [
  {
   "cell_type": "markdown",
   "metadata": {},
   "source": [
    "# Variational Inference"
   ]
  },
  {
   "cell_type": "markdown",
   "metadata": {
    "ExecuteTime": {
     "end_time": "2019-02-09T07:12:41.467512Z",
     "start_time": "2019-02-09T07:12:41.463283Z"
    }
   },
   "source": [
    "See:\n",
    "* [Great first resource](http://www.cmap.polytechnique.fr/~zoltan.szabo/jc/2017_05_18_Massil_Achab.pdf)\n",
    "* [VI: A review for statisticians](https://arxiv.org/pdf/1601.00670.pdf)\n",
    "* [EL20](https://arxiv.org/pdf/1901.04454.pdf)\n",
    "* Bayesian Data Analysis Chapter 13 (Gelman)"
   ]
  },
  {
   "cell_type": "code",
   "execution_count": 119,
   "metadata": {
    "ExecuteTime": {
     "end_time": "2019-02-14T00:37:12.333665Z",
     "start_time": "2019-02-14T00:37:12.281664Z"
    }
   },
   "outputs": [
    {
     "name": "stdout",
     "output_type": "stream",
     "text": [
      "The autoreload extension is already loaded. To reload it, use:\n",
      "  %reload_ext autoreload\n"
     ]
    },
    {
     "data": {
      "text/html": [
       "<style>.container { width:80% !important; }</style>"
      ],
      "text/plain": [
       "<IPython.core.display.HTML object>"
      ]
     },
     "metadata": {},
     "output_type": "display_data"
    }
   ],
   "source": [
    "import numpy as np\n",
    "import matplotlib.pyplot as plt\n",
    "import scipy.stats\n",
    "%run ~/.jupyter/config.ipy"
   ]
  },
  {
   "cell_type": "markdown",
   "metadata": {
    "heading_collapsed": true
   },
   "source": [
    "# Kullback–Leibler (KL) Divergence"
   ]
  },
  {
   "cell_type": "markdown",
   "metadata": {
    "hidden": true
   },
   "source": [
    "The KL divergence measures how similar two probability distributions are. For discrete PDFs this is:\n",
    "\n",
    "$$\n",
    "D_{KL}(P || Q) = \\sum_{x \\in X} P(x) \\log \\big(\\frac{P(x)}{Q(x)}\\big)\n",
    "$$\n",
    "\n",
    "The divergence is measured in bits of information if the log used is base 2, and nats if it is base $e$. It can be understood as the amount of information gained when moving from $P \\rightarrow Q$, or as the amount of information lost when approximating $P$ as $Q$."
   ]
  },
  {
   "cell_type": "code",
   "execution_count": 24,
   "metadata": {
    "ExecuteTime": {
     "end_time": "2019-02-09T07:15:22.064477Z",
     "start_time": "2019-02-09T07:15:22.047888Z"
    },
    "hidden": true
   },
   "outputs": [
    {
     "name": "stdout",
     "output_type": "stream",
     "text": [
      "0.15415067982725839 0.14291239755557528\n",
      "0.0\n"
     ]
    }
   ],
   "source": [
    "def discrete_KL_divergence(p, q):\n",
    "    assert np.isclose(np.sum(p), 1) and np.isclose(np.sum(q), 1) and len(p) == len(q)\n",
    "    return np.sum(p * np.log(p / q))\n",
    "\n",
    "p = np.array([2, 2, 2])\n",
    "q = np.array([1, 4, 2])\n",
    "p, q = p / np.sum(p), q / np.sum(q)\n",
    "\n",
    "print(discrete_KL_divergence(p, q), discrete_KL_divergence(q, p))\n",
    "\n",
    "print(discrete_KL_divergence(p, p))\n",
    "\n",
    "# As always if you actually want to use this, use scipy's.\n",
    "assert np.isclose(scipy.stats.entropy(q, p), discrete_KL_divergence(q, p))"
   ]
  },
  {
   "cell_type": "markdown",
   "metadata": {
    "hidden": true
   },
   "source": [
    "Some interesting properties:\n",
    "* $D_{KL} = 0$ iff $Q(x) = P(x)$ for all $x$ (as $\\log(1) = 0$).\n",
    "* $D_{KL} >= 0$ see [Gibb's inequality](https://en.wikipedia.org/wiki/Gibbs%27_inequality)\n",
    "* It is not symmetric! Be careful that this isn't the divergence *between* $P$ and $Q$ but rather the divergence *from* $P$ to $Q$.\n",
    "* It is undefined if $Q(x) = 0$ where $P(x) \\neq 0$."
   ]
  },
  {
   "cell_type": "markdown",
   "metadata": {},
   "source": [
    "# Variational Inference Theory"
   ]
  },
  {
   "cell_type": "markdown",
   "metadata": {},
   "source": [
    "A tiny summary:\n",
    "\n",
    "We assume a simple analytic form for the posterior, and try to fit its parameters to the information we have. *EL20 paper*\n",
    "\n",
    "A short summary:\n",
    "1. We are doing Bayesian inference. We want to find the posterior distribution $P(z | x)$ of some latent variables given priors and some data.\n",
    "2. This is hard because of the evidence term in Bayes theorem which requires integrals.\n",
    "3. Instead we pick some model for our posterior distribution. $Q(z | \\alpha)$ where $\\alpha$ depends on our model of $Q$ e.g. if the model is a multivariate normal, $\\alpha$ contains a mean vector and a covariance matrix.\n",
    "4. We then try optimize $\\alpha$ so that $Q$ is similar to $P(z | x)$, by minimzing $D_{KL}(Q || P)$.\n",
    "5. This sounds hard because we don't know $P(z | x)$ - if we did we wouldn't need to do all this work. However, it turns out that minimzing $D_{KL}(Q || P)$ is the same as maximizing the ${\\rm ELBO}(Q(z)) = \\mathbf{E}^Q[\\log(P(x, z))] - \\mathbf{E}^Q[\\log(Q(z))]$ the components of which we do know."
   ]
  },
  {
   "cell_type": "markdown",
   "metadata": {},
   "source": [
    "## A Reminder About Bayesian Inference"
   ]
  },
  {
   "cell_type": "markdown",
   "metadata": {},
   "source": [
    "In Bayesian inference we have some observed variables $x$ and some hidden or [latent](https://en.wikipedia.org/wiki/Latent_variable) variables $z$ that encode the structure behind $x$. E.g. is cosmology $x$ are your observations (galaxies, CMB, etc) and $z$ are the cosmological parameters ($\\Omega_M$, $\\sigma_8$, etc). We want to constrain $z$ using the data $x$.\n",
    "\n",
    "[Bayes Theorem](https://en.wikipedia.org/wiki/Bayes%27_theorem) tells us that:\n",
    "\n",
    "$$\n",
    "P(z | x) = \\frac{P(z) P(x | z)}{P(x)}\n",
    "$$\n",
    "\n",
    "or in english, the posterior probability of the parameters $z$ given the data $x$ is equal to the prior probability of that $z$ multiplied by the likelihood of that data given those parameters. This is normalized by the evidence $P(x)$. Remember, we want to learn the posterior $P(z | x)$.\n",
    "\n",
    "We can remove the conditionals, $P(a | b)$, and instead express the posterior as a function of joint, $P(a, b)$, distributions.\n",
    "\n",
    "$$\n",
    "P(z | x) = \\frac{P(x, z)}{\\int P(x, z)\\ dz}\n",
    "$$\n",
    "\n",
    "Computing this in practice is hard because we would need to do that integral over the potentially high dimensional $z$ space. We need to do something different."
   ]
  },
  {
   "cell_type": "markdown",
   "metadata": {},
   "source": [
    "## How VI applies to BI"
   ]
  },
  {
   "cell_type": "markdown",
   "metadata": {},
   "source": [
    "VI is a way to compute approximate posteriors $P(z | x)$ without doing that integral. In that sense it is the same as MCMC, however it goes about in completely different ways.\n",
    "\n",
    "1. Assume that the posterior $P(z | x)$ can be modelled by some distribution $Q$. A common assumption is that each $z_i$ is independent and let's say that they are gaussian. In that that case $Q(\\mu, \\Sigma)$ where $\\mu$ is a vector of the means (the same length as $z$) and $\\Sigma$ a diagonal matrix (because the $z_i$ have no covariance) of the same dimension.\n",
    "2. Optimize the choice of those parameters ($\\mu$, $\\Sigma$) to minimize $D_{KL}(P(z | x) || Q(z | \\mu, \\Sigma)$.\n",
    "3. Claim that the best fit model $Q^\\ast$ is a good approximation to the posterior and use that.\n",
    "\n",
    "**N.B.** with $Q$ we are trying to approximate the *posterior* on the latent variables. I misunderstood this at first.\n",
    "\n",
    "The hardest part of this appears to be step 2. How can we compute the KL divergence if we don't know $P(z | x)$?"
   ]
  },
  {
   "cell_type": "markdown",
   "metadata": {},
   "source": [
    "## Evidence Lower Bound (ELBO)"
   ]
  },
  {
   "cell_type": "markdown",
   "metadata": {},
   "source": [
    "Assume we have some proposed $Q(z)$ as our model for the posterior. How can we compare this to the true posterior $P(z | x)$ (which we don't know)? **N.B.** as above remember that both of these are probabilities for the latent variable $z$.\n",
    "\n",
    "$$\n",
    "\\begin{align}\n",
    "&\\ \\ \\ D_{KL}(Q(z) || P(z | x)) \\\\\n",
    "&= \\int Q(z) \\log \\big(\\frac{Q(z)}{P(z | x)}\\big) dz \\\\\n",
    "&= \\int Q(z) ( \\log(Q(z)) - \\log(P(z | x)) ) dz \\\\\n",
    "&= \\int Q(z) \\log(Q(z)) dz - \\int Q(z) \\log(P(z | x)) dz\n",
    "\\end{align}\n",
    "$$\n",
    "\n",
    "These transformations are all good but we are still stuck with the posterior which we can't compute because of the integral in the denominator... "
   ]
  },
  {
   "cell_type": "markdown",
   "metadata": {},
   "source": [
    "Let's make the notation a bit more concise using expected values. Remember:\n",
    "\n",
    "$$\n",
    "\\mathbf{E}^P[X] = \\int P(x) x dx \\\\\n",
    "\\mathbf{E}^P[g(X)] = \\int P(x) g(x) dx\n",
    "$$\n",
    "\n",
    "we say, the expectation value of the function $g$ with the probability function $P$ is the integral on the RHS. So similarly,\n",
    "\n",
    "$$\n",
    "\\int Q(z) \\log(P(z | x)) = \\mathbf{E}^Q[\\log(P(z | x)]\n",
    "$$"
   ]
  },
  {
   "cell_type": "markdown",
   "metadata": {},
   "source": [
    "With this notation,\n",
    "\n",
    "$$\n",
    "\\begin{align}\n",
    "&\\ \\ \\ D_{KL}(Q(z) || P(z | x)) \\\\\n",
    "&= \\mathbf{E}^Q[\\log(Q(z))] - \\mathbf{E}^Q[\\log(P(z | x))] \\\\\n",
    "&= \\mathbf{E}^Q[\\log(Q(z))] - \\mathbf{E}^Q[\\log(\\frac{P(x, z)}{P(x)})] \\\\\n",
    "&= \\mathbf{E}^Q[\\log(Q(z))] - \\mathbf{E}^Q[\\log(P(x, z)) - \\log(P(x))] \\\\\n",
    "&= \\mathbf{E}^Q[\\log(Q(z))] - \\mathbf{E}^Q[\\log(P(x, z))] + \\mathbf{E}^Q[\\log(P(x))]\n",
    "\\end{align}\n",
    "$$\n",
    "\n",
    "but in the final term, $P(x)$ is not a function of $z$ and so \n",
    "$$\n",
    "\\int Q(z) \\log(P(x)) dz = \\log(P(x)) \\int Q(z) dz = \\log(P(x))\n",
    "$$\n",
    "\n",
    "therefore,\n",
    "\n",
    "$$\n",
    "D_{KL}(Q(z) || P(z | x)) = \\mathbf{E}^Q[\\log(Q(z))] - \\mathbf{E}^Q[\\log(P(x, z))] + \\log(P(x))\n",
    "$$\n",
    "\n",
    "All we have done in this section is replaced the posterior (LHS in bayes) with a joint (representing the prior and the likelihood) and the evidence (the combination of which is the RHS in bayes). The joint can easily be computed ($P(x, z) = P(z) P(x | z)$, where we chose the prior and can compute the likelihood) and while the evidence cannot be computed it is now just a constant - it is not a function of our choice of $z$."
   ]
  },
  {
   "cell_type": "markdown",
   "metadata": {},
   "source": [
    "The $z$ that minimizes the KL divergence between the posterior and $Q$ will therefore also minimize the RHS. In a minimization problem we can remove any constants and so we finally have got rid of the pesky evidence. We now just need to minimize,\n",
    "\n",
    "$$\n",
    "\\mathbf{E}^Q[\\log(Q(z))] - \\mathbf{E}^Q[\\log(P(x, z))]\n",
    "$$\n",
    "\n",
    "Note that while this looks a bit like a KL divergence it isn't. The main reason for this is that the two terms are not defined over the same space - $Q(z)$ and $P(x, z)$ - and $P$ is not normalized.\n",
    "\n",
    "In practice, people tend to talk above maximizing the negative of this, which they call the ${\\rm ELBO}$.\n",
    "\n",
    "$$\n",
    "{\\rm ELBO}(Q(z)) = \\mathbf{E}^Q[\\log(P(x, z))] - \\mathbf{E}^Q[\\log(Q(z))]\n",
    "$$\n",
    "\n",
    "The $z^\\ast$ that maximizes this is also the $z^\\ast$ that minimizes the KL divergence and that optimizes the similaritiy between the true posterior and our model of it.\n",
    "\n",
    "The name, Evidence Lower Bound, comes from the fact that ELBO is always less than or equal to the log evidence ($P(x)$). It is a lower bound on the evidence.\n",
    "\n",
    "$$\n",
    "\\begin{align}\n",
    "D_{KL}(Q(z) || P(z | x)) &= -{\\rm ELBO}(Q) + \\log(P(x)) \\\\\n",
    "\\log(P(x)) &= D_{KL}(Q(z) || P(z | x)) + {\\rm ELBO}(Q) \\\\\n",
    "\\therefore \\log(P(x)) &>= {\\rm ELBO}(Q)\n",
    "\\end{align}\n",
    "$$\n",
    "\n",
    "this inequality is because the KL divergence is always non-negative. "
   ]
  },
  {
   "cell_type": "markdown",
   "metadata": {},
   "source": [
    "## Computing ELBO in practice"
   ]
  },
  {
   "cell_type": "markdown",
   "metadata": {},
   "source": [
    "We still need to do integrals over $z$ space. Is'nt that a problem for high dimensional space?\n",
    "\n",
    "http://www.columbia.edu/~jwp2128/Papers/HoffmanBleiWangPaisley2013.pdf"
   ]
  },
  {
   "cell_type": "markdown",
   "metadata": {
    "heading_collapsed": true
   },
   "source": [
    "# Family of Distributions"
   ]
  },
  {
   "cell_type": "markdown",
   "metadata": {
    "hidden": true
   },
   "source": [
    "We need to choose what form our $Q(z)$ takes - is it a multivariate gaussian (optionally with a diagonal covariance matrix), is it etc etc.\n",
    "\n",
    "A popular (and simple) choice is the mean-field variational family."
   ]
  },
  {
   "cell_type": "markdown",
   "metadata": {
    "hidden": true
   },
   "source": [
    "## Mean-field variational family"
   ]
  },
  {
   "cell_type": "markdown",
   "metadata": {
    "hidden": true
   },
   "source": [
    "In the MFVF we assume that the latent variables are mutually independent:\n",
    "\n",
    "$$\n",
    "Q(z) = \\prod_{i=1}^{m} q_i(z_i)\n",
    "$$\n",
    "\n",
    "Remember again that this has nothing to do with the data $x$. This is just the distribution of the latent variables which we will get close to the goal distribution (the posterior) bu maximising the ELBO.\n",
    "\n",
    "We then need to specify what form each of the $q_i$ take -- are they gaussian, uniform, categorical, etc. Once we make this choice we can tweak the parameters that describe each $q_i$ to reduce the KL/increase the ELBO.\n",
    "\n",
    "For example, let's assume that we decide that the ith latent variable is best described by a gaussian. Then,\n",
    "\n",
    "$$\n",
    "q_i(z_i) = \\frac{1}{\\sqrt{2 \\pi \\sigma_i^2}} \\exp\\bigg(- \\frac{(z_i - \\mu_i)^2}{2 \\sigma_i^2}\\bigg)\n",
    "$$\n",
    "\n",
    "Maybe we decide that all $q_i$ are gaussian - note that this is $m$ 1d gaussians rather than 1 $m$d gaussian as there are independent. We then have, (see [here](../gaussian_processes/multivariate_gaussian.ipynb))\n",
    "\n",
    "$$\n",
    "\\begin{align}\n",
    "Q(z) &= \\prod_{i=1}^{m} \\frac{1}{\\sqrt{2 \\pi \\sigma_i^2}} \\exp\\bigg(- \\frac{(z_i - \\mu_i)^2}{2 \\sigma_i^2}\\bigg) \\\\\n",
    "\\log Q(z) &= - \\sum_{i=1}^{m} \\log(2 \\pi \\sigma_i^2) + \\frac{(z_i - \\mu_i)^2}{2 \\sigma_i^2}\n",
    "\\end{align}\n",
    "$$\n",
    "\n"
   ]
  },
  {
   "cell_type": "markdown",
   "metadata": {
    "hidden": true
   },
   "source": [
    "Let's optimize this. To do this we need to know the likelihood and prior to get $P(x, z)$. Assume that this is also gaussian, but with some covariance.\n",
    "\n",
    "$$\n",
    "\\begin{align}\n",
    "P(z, x) &= \\frac{1}{\\sqrt{(2 \\pi)^k |\\Sigma|}} \\exp\\bigg(\\frac{1}{2}(z - \\mu)^T \\Sigma^{-1} (z - \\mu)\\bigg) \\\\\n",
    "\\log P(z, x) &= -\\frac{1}{2} (k \\log (2 \\pi) + \\log (| \\Sigma |) + (z - \\mu)^T \\Sigma^{-1} (z - \\mu) )\n",
    "\\end{align}\n",
    "$$\n",
    "\n",
    "We then want to maximise,\n",
    "\n",
    "$$\n",
    "\\begin{align}\n",
    "{\\rm ELBO}(Q(z)) = \\mathbf{E}^Q[\\log(P(x, z))] - \\mathbf{E}^Q[\\log(Q(z))]\n",
    "\\end{align}\n",
    "$$\n",
    "\n",
    "Because everything is gaussian we could do this analytically. But I will just do this numerically..."
   ]
  },
  {
   "cell_type": "markdown",
   "metadata": {},
   "source": [
    "# Example 1: KL fit to Posterior"
   ]
  },
  {
   "cell_type": "markdown",
   "metadata": {},
   "source": [
    "This doesn't actually do any inference. It just shows, given a posterior, the best fit of a mean-field gaussian family to it.\n",
    "\n",
    "It also takes some other things for granted that are wrong or simplifications. Just look at the pictures."
   ]
  },
  {
   "cell_type": "code",
   "execution_count": 138,
   "metadata": {
    "ExecuteTime": {
     "end_time": "2019-02-14T01:28:38.541040Z",
     "start_time": "2019-02-14T01:28:38.520397Z"
    }
   },
   "outputs": [],
   "source": [
    "dims = 2\n",
    "p_mean, p_cov = np.array([0, 0]), np.array([[1, 0], [1, 2]])\n",
    "evidence = 150 # We don't know what this is \n",
    "\n",
    "prior_and_liklihood = lambda x: scipy.stats.multivariate_normal(p_mean, p_cov).pdf(x) * evidence\n",
    "\n",
    "def q(means, variances):\n",
    "    q = scipy.stats.multivariate_normal(mean=means, cov=np.diag(variances))\n",
    "    return lambda x: q.pdf(x)\n",
    "\n",
    "x, y = np.meshgrid(np.linspace(-3, 3), np.linspace(-3, 3))\n",
    "eval_locations = np.concatenate((x[:,:,np.newaxis], y[:,:,np.newaxis]), axis=2)\n",
    "\n",
    "def compare(means, variances):\n",
    "    q_res = q(means, variances)(eval_locations)\n",
    "    p_res = prior_and_liklihood(eval_locations)\n",
    "    \n",
    "    p_res, q_res = p_res / np.sum(p_res), q_res / np.sum(q_res)\n",
    "\n",
    "    fig, axes = plt.subplots(1, 2)\n",
    "    img = axes[1].imshow(q_res, cmap=\"Reds\")\n",
    "    cbar = fig.colorbar(img, fraction=0.046, pad=0.04)\n",
    "    img = axes[0].imshow(p_res, cbar.get_cmap(), vmin=cbar.get_clim()[0], vmax=cbar.get_clim()[1])\n",
    "    \n",
    "    \n",
    "    print(scipy.stats.entropy(\n",
    "        p_res.flatten(),\n",
    "        q_res.flatten(),\n",
    "    ))"
   ]
  },
  {
   "cell_type": "code",
   "execution_count": 139,
   "metadata": {
    "ExecuteTime": {
     "end_time": "2019-02-14T01:28:41.782711Z",
     "start_time": "2019-02-14T01:28:41.168250Z"
    }
   },
   "outputs": [
    {
     "name": "stdout",
     "output_type": "stream",
     "text": [
      "0.5058327043148416\n"
     ]
    },
    {
     "data": {
      "image/png": "[encoded data removed]",
      "text/plain": [
       "<Figure size 1200x800 with 3 Axes>"
      ]
     },
     "metadata": {
      "needs_background": "light"
     },
     "output_type": "display_data"
    }
   ],
   "source": [
    "def f(theta):\n",
    "    means, variances = theta[:dims], theta[dims:]\n",
    "    # Be careful that you get this the right way around!\n",
    "    return scipy.stats.entropy(\n",
    "        q(means, variances)(eval_locations).flatten(),        \n",
    "        prior_and_liklihood(eval_locations).flatten(),\n",
    "    )\n",
    "\n",
    "res = scipy.optimize.minimize(\n",
    "    f,\n",
    "    np.ones(dims*2)\n",
    ")\n",
    "assert res.success == True\n",
    "\n",
    "best_means, best_variances = res.x[:dims], res.x[dims:]\n",
    "compare(best_means, best_variances)"
   ]
  },
  {
   "cell_type": "markdown",
   "metadata": {},
   "source": [
    "# Incomplete Example"
   ]
  },
  {
   "cell_type": "markdown",
   "metadata": {},
   "source": [
    "This follows section 3 in [VI: A review for statisticians](https://arxiv.org/pdf/1601.00670.pdf)."
   ]
  },
  {
   "cell_type": "markdown",
   "metadata": {},
   "source": [
    "The data is generated by a **mixture of k unit-variance gaussians**, created in the following way:\n",
    "1. Select the means for the gaussians, $\\mu_k \\sim \\mathcal{N}(0, \\sigma^2)$. \n",
    "2. Select which gaussian each $x_i$ is drawn from $c_i \\sim {\\rm Categorical}(1/k, ..., 1/k)$ and represent this as a vector with 0s everywhere except the chosen category which is 1. \n",
    "3. Draw from that gaussian $x_i \\sim \\mathcal(c_i^T \\mu, 1)$.\n",
    "\n",
    "In summary:\n",
    "* $\\mu_k \\sim \\mathcal{N}(0, \\sigma^2)$ - to create a K long vector of the means.\n",
    "* $c_i \\sim {\\rm Categorical}(1/k, ..., 1/k)$ - to create a K long vector representing which gaussian the ith draw is from.\n",
    "* $x_i \\sim \\mathcal(c_i^T \\mu, 1)$ - to draw from that gaussian. Do this n times to generate the data.\n",
    "\n",
    "Here, $x_i | c_i, \\mu$ therefore $x | c, \\mu$. So the latent variables are the $k$ means and the $n$ class assignments. There is also a hyperparameters $\\sigma^2$.\n",
    "\n",
    "We now want to build a model to determine these $k + n$ latent variables $(\\mu, c)$"
   ]
  },
  {
   "cell_type": "markdown",
   "metadata": {},
   "source": [
    "As this model uses gaussians and they are easy to work with it seems like a gaussian mixture model is reasonable for our $Q$."
   ]
  },
  {
   "cell_type": "markdown",
   "metadata": {},
   "source": [
    "Remember that we want to maximise the ${\\rm ELBO}(Q(z))$,\n",
    "\n",
    "$$\n",
    "{\\rm ELBO}(Q(z)) = \\mathbf{E}^Q[\\log(P(x, z))] - \\mathbf{E}^Q[\\log(Q(z))]\n",
    "$$"
   ]
  },
  {
   "cell_type": "markdown",
   "metadata": {},
   "source": [
    "...."
   ]
  }
 ],
 "metadata": {
  "kernelspec": {
   "display_name": "learning",
   "language": "python",
   "name": "learning"
  },
  "language_info": {
   "codemirror_mode": {
    "name": "ipython",
    "version": 3
   },
   "file_extension": ".py",
   "mimetype": "text/x-python",
   "name": "python",
   "nbconvert_exporter": "python",
   "pygments_lexer": "ipython3",
   "version": "3.7.2"
  },
  "toc": {
   "base_numbering": 1,
   "nav_menu": {},
   "number_sections": true,
   "sideBar": true,
   "skip_h1_title": false,
   "title_cell": "Table of Contents",
   "title_sidebar": "Contents",
   "toc_cell": false,
   "toc_position": {},
   "toc_section_display": true,
   "toc_window_display": false
  }
 },
 "nbformat": 4,
 "nbformat_minor": 2
}
