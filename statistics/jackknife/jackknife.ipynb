{
 "cells": [
  {
   "cell_type": "markdown",
   "metadata": {},
   "source": [
    "# Jackknife"
   ]
  },
  {
   "cell_type": "markdown",
   "metadata": {
    "ExecuteTime": {
     "end_time": "2019-10-17T07:34:20.180462Z",
     "start_time": "2019-10-17T07:34:20.169817Z"
    }
   },
   "source": [
    "See,\n",
    "* http://people.bu.edu/aimcinto/jackknife.pdf"
   ]
  },
  {
   "cell_type": "markdown",
   "metadata": {
    "heading_collapsed": true
   },
   "source": [
    "## Imports"
   ]
  },
  {
   "cell_type": "code",
   "execution_count": 3,
   "metadata": {
    "ExecuteTime": {
     "end_time": "2019-10-17T06:49:08.894091Z",
     "start_time": "2019-10-17T06:49:08.865337Z"
    },
    "hidden": true
   },
   "outputs": [
    {
     "name": "stdout",
     "output_type": "stream",
     "text": [
      "The autoreload extension is already loaded. To reload it, use:\n",
      "  %reload_ext autoreload\n"
     ]
    },
    {
     "data": {
      "text/html": [
       "<style>.container { width:80% !important; }</style>"
      ],
      "text/plain": [
       "<IPython.core.display.HTML object>"
      ]
     },
     "metadata": {},
     "output_type": "display_data"
    }
   ],
   "source": [
    "%run /home/christopher/.jupyter/config.ipy\n",
    "import numpy as np"
   ]
  },
  {
   "cell_type": "markdown",
   "metadata": {},
   "source": [
    "# Simplest Example"
   ]
  },
  {
   "cell_type": "markdown",
   "metadata": {},
   "source": [
    "Let's say we have some data, $x = {x_1, ..., x_n}$, and we want to know both the mean and the uncertainty (we'll use variance here) on the mean. Now we can do this very easily as we know that the uncertainty on the mean is $\\frac{\\sigma_x^2}{n}$ (if we were using SD this would be the normal $\\frac{\\sigma_x}{\\sqrt{n}}$)."
   ]
  },
  {
   "cell_type": "code",
   "execution_count": 89,
   "metadata": {
    "ExecuteTime": {
     "end_time": "2019-10-17T07:48:00.087537Z",
     "start_time": "2019-10-17T07:48:00.073901Z"
    }
   },
   "outputs": [
    {
     "name": "stdout",
     "output_type": "stream",
     "text": [
      "9.940065936804702e-05\n"
     ]
    }
   ],
   "source": [
    "n = 10_000\n",
    "x = np.random.randn(n)\n",
    "var_mean = np.var(x, ddof=1) / n\n",
    "print(var_mean)\n",
    "assert np.isclose(var_mean, 1e-4, rtol=1e-1)\n",
    "assert np.isclose(np.sqrt(var_mean), 0.01, rtol=1e-1)"
   ]
  },
  {
   "cell_type": "markdown",
   "metadata": {},
   "source": [
    "However, let's imagine that we don't know how to do this. This is somewhat important as there are some cases where we can't. Consider for example trying to get the uncertainty on a two point correlation function. How do we get that analytically?\n",
    "\n",
    "Let's try some resampling. Break $x$ into $n$ subsamples, where in the $i$'th subsample we leave out $x_i$. From this, we can compute:\n",
    "\n",
    "$$\n",
    "\\overline{x_i} = \\frac{1}{n-1} \\sum_{j=1, j \\ne i}^{n} x_j\n",
    "$$\n",
    "\n",
    "we now have a vector of means. Obviously the overall mean is the mean of these means, $\\overline{x}$.\n",
    "\n",
    "From these, we can compute the variance,\n",
    "$$\n",
    "\\sigma_\\overline{x}^2 = \\frac{n-1}{n} \\sum_{i=1}^{n} (\\overline{x_i} - \\overline{x})^2\n",
    "$$\n",
    "\n",
    "and standard deviations\n",
    "\n",
    "$$\n",
    "\\sigma_\\overline{x} = \\bigg( \\frac{n-1}{n} \\sum_{i=1}^{n} (\\overline{x_i} - \\overline{x})^2 \\bigg)^\\frac{1}{2}\n",
    "$$\n",
    "\n",
    "This looks a lot like the normal calculation of the spread of the samples, $\\sigma_x = \\bigg( \\frac{1}{n} \\sum_{i=1}^{n} (x_i - \\overline{x})^2 \\bigg)^\\frac{1}{2}$, but where does the $n - 1$ in the numerator come from?\n",
    "\n",
    "I will skip the proof for now but show that it works below."
   ]
  },
  {
   "cell_type": "code",
   "execution_count": 97,
   "metadata": {
    "ExecuteTime": {
     "end_time": "2019-10-17T07:49:50.603245Z",
     "start_time": "2019-10-17T07:49:50.404261Z"
    }
   },
   "outputs": [
    {
     "name": "stdout",
     "output_type": "stream",
     "text": [
      "9.939806095271411e-05\n"
     ]
    }
   ],
   "source": [
    "leave_out_size = 1\n",
    "means, i = [], 0\n",
    "while leave_out_size * (i+1) < n:\n",
    "    s, e = leave_out_size * i, leave_out_size * (i+1)\n",
    "    means.append(np.mean(np.append(x[:s], x[e:])))\n",
    "    i += 1\n",
    "var_mean = np.var(means) * (n-1)\n",
    "print(var_mean)\n",
    "assert np.isclose(var_mean, 1e-4, rtol=1e-1)"
   ]
  },
  {
   "cell_type": "markdown",
   "metadata": {},
   "source": [
    "What happens now if we don't leave out a single observation each time, but rather a group. This might be for performance reasons - we don't have time to compute the statistic for all $n$ subsamples."
   ]
  },
  {
   "cell_type": "code",
   "execution_count": 128,
   "metadata": {
    "ExecuteTime": {
     "end_time": "2019-10-17T08:11:18.009064Z",
     "start_time": "2019-10-17T08:11:17.990069Z"
    }
   },
   "outputs": [
    {
     "name": "stdout",
     "output_type": "stream",
     "text": [
      "8.942397398573991e-05\n"
     ]
    },
    {
     "ename": "AssertionError",
     "evalue": "",
     "output_type": "error",
     "traceback": [
      "\u001b[0;31m---------------------------------------------------------------------------\u001b[0m",
      "\u001b[0;31mAssertionError\u001b[0m                            Traceback (most recent call last)",
      "\u001b[0;32m<ipython-input-128-4aea4a86dd46>\u001b[0m in \u001b[0;36m<module>\u001b[0;34m\u001b[0m\n\u001b[1;32m      9\u001b[0m \u001b[0mvar_mean\u001b[0m \u001b[0;34m=\u001b[0m \u001b[0mnp\u001b[0m\u001b[0;34m.\u001b[0m\u001b[0mvar\u001b[0m\u001b[0;34m(\u001b[0m\u001b[0mmeans\u001b[0m\u001b[0;34m,\u001b[0m \u001b[0mddof\u001b[0m\u001b[0;34m=\u001b[0m\u001b[0;36m1\u001b[0m\u001b[0;34m)\u001b[0m \u001b[0;34m*\u001b[0m \u001b[0;34m(\u001b[0m\u001b[0mn_groups\u001b[0m \u001b[0;34m-\u001b[0m \u001b[0;36m1\u001b[0m\u001b[0;34m)\u001b[0m\u001b[0;34m\u001b[0m\u001b[0;34m\u001b[0m\u001b[0m\n\u001b[1;32m     10\u001b[0m \u001b[0mprint\u001b[0m\u001b[0;34m(\u001b[0m\u001b[0mvar_mean\u001b[0m\u001b[0;34m)\u001b[0m\u001b[0;34m\u001b[0m\u001b[0;34m\u001b[0m\u001b[0m\n\u001b[0;32m---> 11\u001b[0;31m \u001b[0;32massert\u001b[0m \u001b[0mnp\u001b[0m\u001b[0;34m.\u001b[0m\u001b[0misclose\u001b[0m\u001b[0;34m(\u001b[0m\u001b[0mvar_mean\u001b[0m\u001b[0;34m,\u001b[0m \u001b[0;36m1e-4\u001b[0m\u001b[0;34m,\u001b[0m \u001b[0mrtol\u001b[0m\u001b[0;34m=\u001b[0m\u001b[0;36m1e-1\u001b[0m\u001b[0;34m)\u001b[0m\u001b[0;34m\u001b[0m\u001b[0;34m\u001b[0m\u001b[0m\n\u001b[0m",
      "\u001b[0;31mAssertionError\u001b[0m: "
     ]
    }
   ],
   "source": [
    "leave_out_size = 100\n",
    "means, i = [], 0\n",
    "while leave_out_size * (i+1) < n:\n",
    "    s, e = leave_out_size * i, leave_out_size * (i+1)\n",
    "    means.append(np.mean(np.append(x[:s], x[e:])))\n",
    "    i += 1\n",
    "\n",
    "n_groups = n / leave_out_size\n",
    "var_mean = np.var(means, ddof=1) * (n_groups - 1)\n",
    "print(var_mean)\n",
    "assert np.isclose(var_mean, 1e-4, rtol=1e-1)"
   ]
  },
  {
   "cell_type": "markdown",
   "metadata": {},
   "source": [
    "What if these groups aren't of equal size? It is actually pretty much the same."
   ]
  },
  {
   "cell_type": "code",
   "execution_count": 127,
   "metadata": {
    "ExecuteTime": {
     "end_time": "2019-10-17T08:11:12.767193Z",
     "start_time": "2019-10-17T08:11:12.742304Z"
    }
   },
   "outputs": [
    {
     "name": "stdout",
     "output_type": "stream",
     "text": [
      "9.024547152240341e-05\n"
     ]
    }
   ],
   "source": [
    "group_size = [0] + [10 for i in range(200)] + [100 for i in range(50)] + [50 for i in range(60)]\n",
    "groups = np.cumsum(group_size)\n",
    "assert groups[-1] == n\n",
    "\n",
    "means = []\n",
    "for i in range(len(groups) - 1):\n",
    "    s, e = groups[i], groups[i+1]\n",
    "    means.append(np.mean(np.append(x[:s], x[e:])))\n",
    "\n",
    "n_groups = len(group_size) - 1\n",
    "var_mean = np.var(means, ddof=1) * (n_groups - 1)\n",
    "print(var_mean)\n",
    "assert np.isclose(var_mean, 1e-4, rtol=1e-1)"
   ]
  }
 ],
 "metadata": {
  "kernelspec": {
   "display_name": "learning",
   "language": "python",
   "name": "learning"
  },
  "language_info": {
   "codemirror_mode": {
    "name": "ipython",
    "version": 3
   },
   "file_extension": ".py",
   "mimetype": "text/x-python",
   "name": "python",
   "nbconvert_exporter": "python",
   "pygments_lexer": "ipython3",
   "version": "3.7.3"
  },
  "toc": {
   "base_numbering": 1,
   "nav_menu": {},
   "number_sections": true,
   "sideBar": true,
   "skip_h1_title": false,
   "title_cell": "Table of Contents",
   "title_sidebar": "Contents",
   "toc_cell": false,
   "toc_position": {},
   "toc_section_display": true,
   "toc_window_display": false
  }
 },
 "nbformat": 4,
 "nbformat_minor": 2
}
