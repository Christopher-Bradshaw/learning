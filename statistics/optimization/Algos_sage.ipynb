{
 "cells": [
  {
   "cell_type": "code",
   "execution_count": 24,
   "metadata": {
    "ExecuteTime": {
     "end_time": "2019-01-25T02:41:25.710987Z",
     "start_time": "2019-01-25T02:41:25.688983Z"
    }
   },
   "outputs": [
    {
     "data": {
      "text/html": [
       "<html><script type=\"math/tex; mode=display\">\\newcommand{\\Bold}[1]{\\mathbf{#1}}{\\left(c x - 2\\right)}^{4} + {\\left(c x - 2\\right)}^{2} y^{2} + {\\left(y + 1\\right)}^{2}</script></html>"
      ],
      "text/plain": [
       "(c*x - 2)^4 + (c*x - 2)^2*y^2 + (y + 1)^2"
      ]
     },
     "metadata": {},
     "output_type": "display_data"
    },
    {
     "data": {
      "text/html": [
       "<html><script type=\"math/tex; mode=display\">\\newcommand{\\Bold}[1]{\\mathbf{#1}}\\left(4 \\, {\\left(c x - 2\\right)}^{3} c + 2 \\, {\\left(c x - 2\\right)} c y^{2},\\,2 \\, {\\left(c x - 2\\right)}^{2} y + 2 \\, y + 2\\right)</script></html>"
      ],
      "text/plain": [
       "(4*(c*x - 2)^3*c + 2*(c*x - 2)*c*y^2, 2*(c*x - 2)^2*y + 2*y + 2)"
      ]
     },
     "metadata": {},
     "output_type": "display_data"
    },
    {
     "data": {
      "text/html": [
       "<html><script type=\"math/tex; mode=display\">\\newcommand{\\Bold}[1]{\\mathbf{#1}}\\left(\\begin{array}{rr}\n",
       "12 \\, {\\left(c x - 2\\right)}^{2} c^{2} + 2 \\, c^{2} y^{2} & 4 \\, {\\left(c x - 2\\right)} c y \\\\\n",
       "4 \\, {\\left(c x - 2\\right)} c y & 2 \\, {\\left(c x - 2\\right)}^{2} + 2\n",
       "\\end{array}\\right)</script></html>"
      ],
      "text/plain": [
       "[12*(c*x - 2)^2*c^2 + 2*c^2*y^2                4*(c*x - 2)*c*y]\n",
       "[               4*(c*x - 2)*c*y              2*(c*x - 2)^2 + 2]"
      ]
     },
     "metadata": {},
     "output_type": "display_data"
    }
   ],
   "source": [
    "%display latex\n",
    "\n",
    "var(\"c\")\n",
    "f(x, y) = (c*x - 2)**4 + y**2 * (c*x - 2)**2 + (y + 1)**2\n",
    "f_grad = f.diff()\n",
    "f_hess = f.hessian()\n",
    "display(f(x, y), f_grad(x, y), f_hess(x, y))"
   ]
  },
  {
   "cell_type": "code",
   "execution_count": 33,
   "metadata": {
    "ExecuteTime": {
     "end_time": "2019-01-25T03:16:41.721494Z",
     "start_time": "2019-01-25T03:16:41.550039Z"
    }
   },
   "outputs": [
    {
     "data": {
      "text/html": [
       "<html><script type=\"math/tex; mode=display\">\\newcommand{\\Bold}[1]{\\mathbf{#1}}\\left[\\left[x = \\frac{2}{c}, y = \\left(-1\\right)\\right]\\right]</script></html>"
      ],
      "text/plain": [
       "[[x == 2/c, y == -1]]"
      ]
     },
     "metadata": {},
     "output_type": "display_data"
    },
    {
     "data": {
      "text/html": [
       "<html><script type=\"math/tex; mode=display\">\\newcommand{\\Bold}[1]{\\mathbf{#1}}\\left(\\begin{array}{rr}\n",
       "2 \\, c^{2} & 0 \\\\\n",
       "0 & 2\n",
       "\\end{array}\\right)</script></html>"
      ],
      "text/plain": [
       "[2*c^2     0]\n",
       "[    0     2]"
      ]
     },
     "metadata": {},
     "output_type": "display_data"
    }
   ],
   "source": [
    "fx = f.diff(x)\n",
    "fy = f.diff(y)\n",
    "\n",
    "stationary = solve([fx==0, fy==0], (x, y))\n",
    "\n",
    "display(stationary)\n",
    "display(f_hess.subs(stationary)(x, y))"
   ]
  },
  {
   "cell_type": "markdown",
   "metadata": {},
   "source": [
    "# Blah"
   ]
  },
  {
   "cell_type": "code",
   "execution_count": 37,
   "metadata": {
    "ExecuteTime": {
     "end_time": "2019-01-25T03:22:03.829829Z",
     "start_time": "2019-01-25T03:22:03.817938Z"
    }
   },
   "outputs": [
    {
     "data": {
      "text/html": [
       "<html><script type=\"math/tex; mode=display\">\\newcommand{\\Bold}[1]{\\mathbf{#1}}x \\ {\\mapsto}\\ \\left(2 \\, Q x\\right)</script></html>"
      ],
      "text/plain": [
       "x |--> (2*Q*x)"
      ]
     },
     "execution_count": 37,
     "metadata": {},
     "output_type": "execute_result"
    }
   ],
   "source": [
    "a,b, Q = var(\"a,b,Q\")\n",
    "x = vector([a, b])\n",
    "\n",
    "f(x) = x*Q*x\n",
    "f.diff()"
   ]
  }
 ],
 "metadata": {
  "kernelspec": {
   "display_name": "SageMath",
   "language": "python",
   "name": "sagemath"
  },
  "language_info": {
   "codemirror_mode": {
    "name": "ipython",
    "version": 2
   },
   "file_extension": ".py",
   "mimetype": "text/x-python",
   "name": "python",
   "nbconvert_exporter": "python",
   "pygments_lexer": "ipython2",
   "version": "2.7.15"
  },
  "toc": {
   "base_numbering": 1,
   "nav_menu": {},
   "number_sections": true,
   "sideBar": true,
   "skip_h1_title": false,
   "title_cell": "Table of Contents",
   "title_sidebar": "Contents",
   "toc_cell": false,
   "toc_position": {},
   "toc_section_display": true,
   "toc_window_display": false
  }
 },
 "nbformat": 4,
 "nbformat_minor": 2
}
