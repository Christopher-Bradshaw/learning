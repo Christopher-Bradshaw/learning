{
 "cells": [
  {
   "cell_type": "markdown",
   "metadata": {},
   "source": [
    "# Split Apply Combine"
   ]
  },
  {
   "cell_type": "markdown",
   "metadata": {},
   "source": [
    "See:\n",
    "* https://www.jstatsoft.org/article/view/v040i01/v40i01.pdf"
   ]
  },
  {
   "cell_type": "markdown",
   "metadata": {},
   "source": [
    "## Imports etc"
   ]
  },
  {
   "cell_type": "code",
   "execution_count": 68,
   "metadata": {
    "ExecuteTime": {
     "end_time": "2019-05-26T06:01:33.214577Z",
     "start_time": "2019-05-26T06:01:33.145565Z"
    }
   },
   "outputs": [
    {
     "name": "stdout",
     "output_type": "stream",
     "text": [
      "The autoreload extension is already loaded. To reload it, use:\n",
      "  %reload_ext autoreload\n"
     ]
    },
    {
     "data": {
      "text/html": [
       "<style>.container { width:80% !important; }</style>"
      ],
      "text/plain": [
       "<IPython.core.display.HTML object>"
      ]
     },
     "metadata": {},
     "output_type": "display_data"
    }
   ],
   "source": [
    "import pandas as pd\n",
    "import matplotlib as mpl\n",
    "import matplotlib.pyplot as plt\n",
    "\n",
    "%run ~/.jupyter/config.ipy"
   ]
  },
  {
   "cell_type": "markdown",
   "metadata": {},
   "source": [
    "# Theory"
   ]
  },
  {
   "cell_type": "markdown",
   "metadata": {},
   "source": [
    "The idea behind this is that much of data analysis can be described by a three step process:\n",
    "1. Split the data into groups\n",
    "2. Apply a function to each group\n",
    "3. Combine the results from each group back into a data structure\n",
    "\n",
    "For example, let's say we want to see if galaxy color is correlated with morphology. We would,\n",
    "1. Split the data into separate groups by morphology (spirals, ellipticals, etc)\n",
    "2. Compute the mean of the color for each of these groups\n",
    "3. Collate those results in a table.\n",
    "\n",
    "This seems simple, and I think it actually is (I might be missing a ton of subtlety or power though)...\n",
    "But, despite (or perhaps because of) the simplicity, if we look out for this pattern we find that it can be applied to many different problems.\n",
    "This is good news because there are great libraries that do this for us! So, if we can frame our problem as a SAC problem, we can solve it without writing much code! (in the same spirit as the [SAT solver talk](https://rhettinger.github.io/))?\n",
    "\n",
    "In Python that library is going to be pandas. However, note that SAC is pretty much just SQL's `GROUP BY` (and in fact the function in pandas that does it is also called `groupby`). So another (language independent) alternative is to dump your data in a SQLite DB and use that!\n",
    "\n",
    "Let's see some examples."
   ]
  },
  {
   "cell_type": "markdown",
   "metadata": {},
   "source": [
    "## Simple example"
   ]
  },
  {
   "cell_type": "markdown",
   "metadata": {},
   "source": [
    "This data is the sklearn diabetes dataset, though without the preprocessing sklearn has applied that makes it impossible to understand..."
   ]
  },
  {
   "cell_type": "code",
   "execution_count": 23,
   "metadata": {
    "ExecuteTime": {
     "end_time": "2019-05-26T05:42:07.356706Z",
     "start_time": "2019-05-26T05:42:07.325654Z"
    }
   },
   "outputs": [
    {
     "data": {
      "text/html": [
       "<div>\n",
       "<style scoped>\n",
       "    .dataframe tbody tr th:only-of-type {\n",
       "        vertical-align: middle;\n",
       "    }\n",
       "\n",
       "    .dataframe tbody tr th {\n",
       "        vertical-align: top;\n",
       "    }\n",
       "\n",
       "    .dataframe thead th {\n",
       "        text-align: right;\n",
       "    }\n",
       "</style>\n",
       "<table border=\"1\" class=\"dataframe\">\n",
       "  <thead>\n",
       "    <tr style=\"text-align: right;\">\n",
       "      <th></th>\n",
       "      <th>AGE</th>\n",
       "      <th>SEX</th>\n",
       "      <th>BMI</th>\n",
       "      <th>BP</th>\n",
       "      <th>S1</th>\n",
       "      <th>S2</th>\n",
       "      <th>S3</th>\n",
       "      <th>S4</th>\n",
       "      <th>S5</th>\n",
       "      <th>S6</th>\n",
       "      <th>Y</th>\n",
       "    </tr>\n",
       "  </thead>\n",
       "  <tbody>\n",
       "    <tr>\n",
       "      <th>0</th>\n",
       "      <td>59</td>\n",
       "      <td>2</td>\n",
       "      <td>32.1</td>\n",
       "      <td>101.0</td>\n",
       "      <td>157</td>\n",
       "      <td>93.2</td>\n",
       "      <td>38.0</td>\n",
       "      <td>4.0</td>\n",
       "      <td>4.8598</td>\n",
       "      <td>87</td>\n",
       "      <td>151</td>\n",
       "    </tr>\n",
       "    <tr>\n",
       "      <th>1</th>\n",
       "      <td>48</td>\n",
       "      <td>1</td>\n",
       "      <td>21.6</td>\n",
       "      <td>87.0</td>\n",
       "      <td>183</td>\n",
       "      <td>103.2</td>\n",
       "      <td>70.0</td>\n",
       "      <td>3.0</td>\n",
       "      <td>3.8918</td>\n",
       "      <td>69</td>\n",
       "      <td>75</td>\n",
       "    </tr>\n",
       "    <tr>\n",
       "      <th>2</th>\n",
       "      <td>72</td>\n",
       "      <td>2</td>\n",
       "      <td>30.5</td>\n",
       "      <td>93.0</td>\n",
       "      <td>156</td>\n",
       "      <td>93.6</td>\n",
       "      <td>41.0</td>\n",
       "      <td>4.0</td>\n",
       "      <td>4.6728</td>\n",
       "      <td>85</td>\n",
       "      <td>141</td>\n",
       "    </tr>\n",
       "    <tr>\n",
       "      <th>3</th>\n",
       "      <td>24</td>\n",
       "      <td>1</td>\n",
       "      <td>25.3</td>\n",
       "      <td>84.0</td>\n",
       "      <td>198</td>\n",
       "      <td>131.4</td>\n",
       "      <td>40.0</td>\n",
       "      <td>5.0</td>\n",
       "      <td>4.8903</td>\n",
       "      <td>89</td>\n",
       "      <td>206</td>\n",
       "    </tr>\n",
       "    <tr>\n",
       "      <th>4</th>\n",
       "      <td>50</td>\n",
       "      <td>1</td>\n",
       "      <td>23.0</td>\n",
       "      <td>101.0</td>\n",
       "      <td>192</td>\n",
       "      <td>125.4</td>\n",
       "      <td>52.0</td>\n",
       "      <td>4.0</td>\n",
       "      <td>4.2905</td>\n",
       "      <td>80</td>\n",
       "      <td>135</td>\n",
       "    </tr>\n",
       "  </tbody>\n",
       "</table>\n",
       "</div>"
      ],
      "text/plain": [
       "   AGE  SEX   BMI     BP   S1     S2    S3   S4      S5  S6    Y\n",
       "0   59    2  32.1  101.0  157   93.2  38.0  4.0  4.8598  87  151\n",
       "1   48    1  21.6   87.0  183  103.2  70.0  3.0  3.8918  69   75\n",
       "2   72    2  30.5   93.0  156   93.6  41.0  4.0  4.6728  85  141\n",
       "3   24    1  25.3   84.0  198  131.4  40.0  5.0  4.8903  89  206\n",
       "4   50    1  23.0  101.0  192  125.4  52.0  4.0  4.2905  80  135"
      ]
     },
     "execution_count": 23,
     "metadata": {},
     "output_type": "execute_result"
    }
   ],
   "source": [
    "df = pd.read_csv(\"diabetes.csv\", delimiter=\"\\t\", comment=\"#\")\n",
    "df.head()"
   ]
  },
  {
   "cell_type": "markdown",
   "metadata": {},
   "source": [
    "What might we want to do? Let's see how things vary across the sexes."
   ]
  },
  {
   "cell_type": "code",
   "execution_count": 39,
   "metadata": {
    "ExecuteTime": {
     "end_time": "2019-05-26T05:48:59.112828Z",
     "start_time": "2019-05-26T05:48:59.078668Z"
    }
   },
   "outputs": [
    {
     "name": "stdout",
     "output_type": "stream",
     "text": [
      "<class 'pandas.core.groupby.generic.DataFrameGroupBy'>\n",
      "<class 'pandas.core.frame.DataFrame'>\n"
     ]
    },
    {
     "data": {
      "text/html": [
       "<div>\n",
       "<style scoped>\n",
       "    .dataframe tbody tr th:only-of-type {\n",
       "        vertical-align: middle;\n",
       "    }\n",
       "\n",
       "    .dataframe tbody tr th {\n",
       "        vertical-align: top;\n",
       "    }\n",
       "\n",
       "    .dataframe thead th {\n",
       "        text-align: right;\n",
       "    }\n",
       "</style>\n",
       "<table border=\"1\" class=\"dataframe\">\n",
       "  <thead>\n",
       "    <tr style=\"text-align: right;\">\n",
       "      <th></th>\n",
       "      <th>AGE</th>\n",
       "      <th>BMI</th>\n",
       "      <th>BP</th>\n",
       "      <th>S1</th>\n",
       "      <th>S2</th>\n",
       "      <th>S3</th>\n",
       "      <th>S4</th>\n",
       "      <th>S5</th>\n",
       "      <th>S6</th>\n",
       "      <th>Y</th>\n",
       "    </tr>\n",
       "    <tr>\n",
       "      <th>SEX</th>\n",
       "      <th></th>\n",
       "      <th></th>\n",
       "      <th></th>\n",
       "      <th></th>\n",
       "      <th></th>\n",
       "      <th></th>\n",
       "      <th></th>\n",
       "      <th></th>\n",
       "      <th></th>\n",
       "      <th></th>\n",
       "    </tr>\n",
       "  </thead>\n",
       "  <tbody>\n",
       "    <tr>\n",
       "      <th>1</th>\n",
       "      <td>46.382979</td>\n",
       "      <td>26.010638</td>\n",
       "      <td>91.521957</td>\n",
       "      <td>187.995745</td>\n",
       "      <td>111.372340</td>\n",
       "      <td>54.385106</td>\n",
       "      <td>3.668468</td>\n",
       "      <td>4.567993</td>\n",
       "      <td>89.017021</td>\n",
       "      <td>149.021277</td>\n",
       "    </tr>\n",
       "    <tr>\n",
       "      <th>2</th>\n",
       "      <td>50.942029</td>\n",
       "      <td>26.790338</td>\n",
       "      <td>98.194783</td>\n",
       "      <td>190.439614</td>\n",
       "      <td>120.056039</td>\n",
       "      <td>44.570048</td>\n",
       "      <td>4.526377</td>\n",
       "      <td>4.724760</td>\n",
       "      <td>93.806763</td>\n",
       "      <td>155.666667</td>\n",
       "    </tr>\n",
       "  </tbody>\n",
       "</table>\n",
       "</div>"
      ],
      "text/plain": [
       "           AGE        BMI         BP          S1          S2         S3  \\\n",
       "SEX                                                                       \n",
       "1    46.382979  26.010638  91.521957  187.995745  111.372340  54.385106   \n",
       "2    50.942029  26.790338  98.194783  190.439614  120.056039  44.570048   \n",
       "\n",
       "           S4        S5         S6           Y  \n",
       "SEX                                             \n",
       "1    3.668468  4.567993  89.017021  149.021277  \n",
       "2    4.526377  4.724760  93.806763  155.666667  "
      ]
     },
     "execution_count": 39,
     "metadata": {},
     "output_type": "execute_result"
    }
   ],
   "source": [
    "# Do the split - this returns a 'DataFrameGroupBy' objects\n",
    "grouped = df.groupby(\"SEX\")\n",
    "print(type(grouped))\n",
    "\n",
    "# Do a apply. For now, let's just look at the means of the columns.\n",
    "# Returns a DataFrame (so this also does the combine\n",
    "means = grouped.mean()\n",
    "print(type(means))\n",
    "\n",
    "# In general we will do these all at once \n",
    "means = df.groupby(\"SEX\").mean()\n",
    "means.head()"
   ]
  },
  {
   "cell_type": "markdown",
   "metadata": {},
   "source": [
    "This is telling us that sex 2 sees more progression (larger Y). But the sample of this sex is older. Maybe the progression is just due to age. Let's group both by age and sex."
   ]
  },
  {
   "cell_type": "code",
   "execution_count": 71,
   "metadata": {
    "ExecuteTime": {
     "end_time": "2019-05-26T06:02:08.550177Z",
     "start_time": "2019-05-26T06:02:07.879995Z"
    }
   },
   "outputs": [
    {
     "data": {
      "text/plain": [
       "<matplotlib.legend.Legend at 0x7f68e351f710>"
      ]
     },
     "execution_count": 71,
     "metadata": {},
     "output_type": "execute_result"
    },
    {
     "data": {
      "image/png": "[encoded data removed]",
      "text/plain": [
       "<Figure size 600x400 with 1 Axes>"
      ]
     },
     "metadata": {
      "needs_background": "light"
     },
     "output_type": "display_data"
    }
   ],
   "source": [
    "# It doesn't really matter which order we put these. Though it does change the multiIndex order\n",
    "means = df.groupby([\"SEX\", \"AGE\"]).mean()\n",
    "means.head()\n",
    "\n",
    "_, ax = plt.subplots(figsize=mpl.small_plotsize)\n",
    "ax.scatter(means.loc[1].index, means.loc[1][\"Y\"], label=\"Sex 1\")\n",
    "ax.scatter(means.loc[2].index, means.loc[2][\"Y\"], label=\"Sex 2\")\n",
    "ax.set(xlabel=\"Age\", ylabel=\"Response\")\n",
    "ax.legend(fontsize=\"x-small\")"
   ]
  },
  {
   "cell_type": "markdown",
   "metadata": {},
   "source": [
    "There does appear to be some dependence on age. Hard to see whether that accounts for the difference between the sexes... We'd need to compare regression lines or something. But we're not here to learn about diabetes. We're here to learn about SAC."
   ]
  },
  {
   "cell_type": "markdown",
   "metadata": {},
   "source": [
    "## More detailed Pandas things"
   ]
  },
  {
   "cell_type": "markdown",
   "metadata": {},
   "source": [
    "Pandas has a large number of [functions](https://pandas.pydata.org/pandas-docs/stable/reference/groupby.html) that can be applied directly. However, if it doesn't have what you want you can manually iterate over the groups. Or you can use the [aggregation api](https://pandas.pydata.org/pandas-docs/stable/getting_started/basics.html#basics-aggregate)."
   ]
  },
  {
   "cell_type": "code",
   "execution_count": 113,
   "metadata": {
    "ExecuteTime": {
     "end_time": "2019-05-26T06:19:21.665683Z",
     "start_time": "2019-05-26T06:19:21.531725Z"
    }
   },
   "outputs": [],
   "source": [
    "grouped = df.groupby([\"AGE\"])\n",
    "\n",
    "mean1 = grouped.aggregate(\"mean\")\n",
    "mean2 = grouped.aggregate(np.mean)\n",
    "pd.testing.assert_frame_equal(mean1, mean2) # These are identical\n",
    "\n",
    "# Gets passed each group in turn. Needs to return a single row!\n",
    "def myfunc(x):\n",
    "    return np.mean(x)\n",
    "\n",
    "mean3 = grouped.aggregate(myfunc)\n",
    "pd.testing.assert_frame_equal(mean2, mean3) # As is using myfunc"
   ]
  }
 ],
 "metadata": {
  "kernelspec": {
   "display_name": "learning",
   "language": "python",
   "name": "learning"
  },
  "language_info": {
   "codemirror_mode": {
    "name": "ipython",
    "version": 3
   },
   "file_extension": ".py",
   "mimetype": "text/x-python",
   "name": "python",
   "nbconvert_exporter": "python",
   "pygments_lexer": "ipython3",
   "version": "3.7.3"
  },
  "toc": {
   "base_numbering": 1,
   "nav_menu": {},
   "number_sections": true,
   "sideBar": true,
   "skip_h1_title": false,
   "title_cell": "Table of Contents",
   "title_sidebar": "Contents",
   "toc_cell": false,
   "toc_position": {},
   "toc_section_display": true,
   "toc_window_display": false
  }
 },
 "nbformat": 4,
 "nbformat_minor": 2
}
